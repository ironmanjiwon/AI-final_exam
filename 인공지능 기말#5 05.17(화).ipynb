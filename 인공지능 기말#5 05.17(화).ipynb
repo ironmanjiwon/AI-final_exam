{
 "cells": [
  {
   "cell_type": "code",
   "execution_count": 10,
   "id": "4881587d",
   "metadata": {},
   "outputs": [
    {
     "ename": "SyntaxError",
     "evalue": "invalid syntax (<ipython-input-10-20d8060f3702>, line 11)",
     "output_type": "error",
     "traceback": [
      "\u001b[1;36m  File \u001b[1;32m\"<ipython-input-10-20d8060f3702>\"\u001b[1;36m, line \u001b[1;32m11\u001b[0m\n\u001b[1;33m    model.compile(loss='mean_squared_error', optimizer=keras.optimizers.SGD(lr=0.3))\u001b[0m\n\u001b[1;37m    ^\u001b[0m\n\u001b[1;31mSyntaxError\u001b[0m\u001b[1;31m:\u001b[0m invalid syntax\n"
     ]
    }
   ],
   "source": [
    "#텐서플로우, 케라스\n",
    "#텐서플로우의 구조 → C++ → 케라스 라이브러리\n",
    "#XOR: 시그모이드 레이어\n",
    "\n",
    "#훈련 데이터\n",
    "model = tf.keras.models.Sequential()\n",
    "\n",
    "model.add(tf.keras.layers.Dense(units=2, input_shape=(2,), activation='sigmoid')) #은닉층 추가\n",
    "model.add(tf.keras.layers.Dense(units=1, activation='sigmoid')\n",
    "          \n",
    "model.compile(loss='mean_squared_error', optimizer=keras.optimizers.SGD(lr=0.3))\n",
    "          \n",
    "model.fit(X, y, batch_size=1, epochs=10000)\n",
    "          \n",
    "print(model.predict(X))"
   ]
  },
  {
   "cell_type": "code",
   "execution_count": 3,
   "id": "2fa834d6",
   "metadata": {},
   "outputs": [],
   "source": [
    "#1) sequential 모델 만들기\n",
    "#2) 함수형 API 사용\n",
    "#3) Model 클래스 상속 → 클래스 정의\n",
    "\n",
    "#MNIST 숫자 인식\n",
    "#데이터셋: 28 X 28"
   ]
  },
  {
   "cell_type": "code",
   "execution_count": 7,
   "id": "0a120fc2",
   "metadata": {},
   "outputs": [
    {
     "ename": "NameError",
     "evalue": "name 'tf' is not defined",
     "output_type": "error",
     "traceback": [
      "\u001b[1;31m---------------------------------------------------------------------------\u001b[0m",
      "\u001b[1;31mNameError\u001b[0m                                 Traceback (most recent call last)",
      "\u001b[1;32m<ipython-input-7-21203e7cf59a>\u001b[0m in \u001b[0;36m<module>\u001b[1;34m\u001b[0m\n\u001b[0;32m      2\u001b[0m \u001b[1;32mimport\u001b[0m \u001b[0mtensorflow\u001b[0m \u001b[1;32mas\u001b[0m \u001b[0mplt\u001b[0m\u001b[1;33m\u001b[0m\u001b[1;33m\u001b[0m\u001b[0m\n\u001b[0;32m      3\u001b[0m \u001b[1;33m\u001b[0m\u001b[0m\n\u001b[1;32m----> 4\u001b[1;33m \u001b[1;33m(\u001b[0m\u001b[0mtrain_images\u001b[0m\u001b[1;33m,\u001b[0m \u001b[0mtrain_labels\u001b[0m\u001b[1;33m)\u001b[0m\u001b[1;33m,\u001b[0m \u001b[1;33m(\u001b[0m\u001b[0mtest_images\u001b[0m\u001b[1;33m,\u001b[0m \u001b[0mtest_labels\u001b[0m\u001b[1;33m)\u001b[0m \u001b[1;33m=\u001b[0m \u001b[0mtf\u001b[0m\u001b[1;33m.\u001b[0m\u001b[0mkeras\u001b[0m\u001b[1;33m.\u001b[0m\u001b[0mdatasets\u001b[0m\u001b[1;33m.\u001b[0m\u001b[0mmnist\u001b[0m\u001b[1;33m.\u001b[0m\u001b[0mload_data\u001b[0m\u001b[1;33m(\u001b[0m\u001b[1;33m)\u001b[0m\u001b[1;33m\u001b[0m\u001b[1;33m\u001b[0m\u001b[0m\n\u001b[0m",
      "\u001b[1;31mNameError\u001b[0m: name 'tf' is not defined"
     ]
    }
   ],
   "source": [
    "import matplotlib.pyplot as plt\n",
    "import tensorflow as plt\n",
    "\n",
    "(train_images, train_labels), (test_images, test_labels) = tf.keras.datasets.mnist.load_data()"
   ]
  },
  {
   "cell_type": "code",
   "execution_count": 12,
   "id": "f9f2ad8e",
   "metadata": {},
   "outputs": [],
   "source": [
    "#신경망 모델 구축\n",
    "#컴파일 단계, 지표 설정\n",
    "\n",
    "#데이터 전처리\n",
    "#그래프 그리기\n",
    "\n",
    "#텐서플로우 주피터 환경에서 작동 불가"
   ]
  },
  {
   "cell_type": "code",
   "execution_count": 15,
   "id": "a5051081",
   "metadata": {},
   "outputs": [
    {
     "data": {
      "text/plain": [
       "1"
      ]
     },
     "execution_count": 15,
     "metadata": {},
     "output_type": "execute_result"
    }
   ],
   "source": [
    "#★ 축\n",
    "import numpy as np\n",
    "\n",
    "# x = np.array(\n",
    "# [[[0,1,2,3,4],\n",
    "#  [5,6,7,8,9]],\n",
    "# [[10,11,12,13,14],\n",
    "# [15,16,17,18,19]],\n",
    "# [[20,21,22,28,29]],])\n",
    "\n",
    "x.ndim"
   ]
  },
  {
   "cell_type": "code",
   "execution_count": 17,
   "id": "86b82935",
   "metadata": {},
   "outputs": [
    {
     "data": {
      "text/plain": [
       "(3,)"
      ]
     },
     "execution_count": 17,
     "metadata": {},
     "output_type": "execute_result"
    }
   ],
   "source": [
    "x.shape"
   ]
  },
  {
   "cell_type": "code",
   "execution_count": 18,
   "id": "26a36012",
   "metadata": {},
   "outputs": [],
   "source": [
    "#훈련 데이터 - 벡터 데이터, 이미지 데이터\n",
    "#시계열 데이터: 3차원 넘파이 텐서\n",
    "#케라스의 클래스: 모델(신경망), 레이어(층), 입력 데이터(텐서플로우 텐서), 손실 함수(출력, 정답 간 차이 측정), 옵티마이저(최적화 알고리즘)\n",
    "\n",
    "#sequential 모델\n",
    "#레이어 클래스\n",
    "\n",
    "#손실 함수: MeanSquaredError, BinaryCrossentropy(엔트로피), Categorical Crossentropy, SparseCategroical Crossentropy\n",
    "\n",
    "#accuracy, categoricl accuracy(범주형 정확도)\n",
    "#옵티마이저: Nesterov 모멘텀, 가변 학습률 사용\n",
    "\n",
    "#활성화 함수\n",
    "#하이퍼 매개변수: 가중치\n",
    "\n",
    "#하이퍼 매개변수 지정 or 랜덤 검색\n",
    "#그리드 검색: 하이퍼 튜닝 → sklearn 패키지"
   ]
  },
  {
   "cell_type": "code",
   "execution_count": 19,
   "id": "dc488af5",
   "metadata": {},
   "outputs": [
    {
     "ename": "ImportError",
     "evalue": "cannot import name 'KerasClassfier' from 'tensorflow.keras.wrappers.scikit_learn' (C:\\Users\\ironm\\anaconda3\\lib\\site-packages\\keras\\api\\_v2\\keras\\wrappers\\scikit_learn\\__init__.py)",
     "output_type": "error",
     "traceback": [
      "\u001b[1;31m---------------------------------------------------------------------------\u001b[0m",
      "\u001b[1;31mImportError\u001b[0m                               Traceback (most recent call last)",
      "\u001b[1;32m<ipython-input-19-20939055aaa1>\u001b[0m in \u001b[0;36m<module>\u001b[1;34m\u001b[0m\n\u001b[0;32m      4\u001b[0m \u001b[1;33m\u001b[0m\u001b[0m\n\u001b[0;32m      5\u001b[0m \u001b[1;32mfrom\u001b[0m \u001b[0msklearn\u001b[0m\u001b[1;33m.\u001b[0m\u001b[0mmodel_selection\u001b[0m \u001b[1;32mimport\u001b[0m \u001b[0mGridSearchCV\u001b[0m\u001b[1;33m\u001b[0m\u001b[1;33m\u001b[0m\u001b[0m\n\u001b[1;32m----> 6\u001b[1;33m \u001b[1;32mfrom\u001b[0m \u001b[0mtensorflow\u001b[0m\u001b[1;33m.\u001b[0m\u001b[0mkeras\u001b[0m\u001b[1;33m.\u001b[0m\u001b[0mwrappers\u001b[0m\u001b[1;33m.\u001b[0m\u001b[0mscikit_learn\u001b[0m \u001b[1;32mimport\u001b[0m \u001b[0mKerasClassfier\u001b[0m\u001b[1;33m\u001b[0m\u001b[1;33m\u001b[0m\u001b[0m\n\u001b[0m",
      "\u001b[1;31mImportError\u001b[0m: cannot import name 'KerasClassfier' from 'tensorflow.keras.wrappers.scikit_learn' (C:\\Users\\ironm\\anaconda3\\lib\\site-packages\\keras\\api\\_v2\\keras\\wrappers\\scikit_learn\\__init__.py)"
     ]
    }
   ],
   "source": [
    "import numpy as np\n",
    "import matplotlib.pyplot as plt\n",
    "import tensorflow as tf\n",
    "\n",
    "from sklearn.model_selection import GridSearchCV\n",
    "from tensorflow.keras.wrappers.scikit_learn import KerasClassfier"
   ]
  },
  {
   "cell_type": "code",
   "execution_count": null,
   "id": "674cd24a",
   "metadata": {},
   "outputs": [],
   "source": [
    "#풀 배치: 가중치 변경\n",
    "#SGD: 미니 배치\n",
    "#학습률: RMSprop / Adam\n",
    "#케라스: 신경망 모델 구축"
   ]
  }
 ],
 "metadata": {
  "jupytext": {
   "formats": "ipynb,py:light"
  },
  "kernelspec": {
   "display_name": "Python 3",
   "language": "python",
   "name": "python3"
  },
  "language_info": {
   "codemirror_mode": {
    "name": "ipython",
    "version": 3
   },
   "file_extension": ".py",
   "mimetype": "text/x-python",
   "name": "python",
   "nbconvert_exporter": "python",
   "pygments_lexer": "ipython3",
   "version": "3.8.8"
  }
 },
 "nbformat": 4,
 "nbformat_minor": 5
}
