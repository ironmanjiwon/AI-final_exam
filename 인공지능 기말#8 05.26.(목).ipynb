{
 "cells": [
  {
   "cell_type": "code",
   "execution_count": 1,
   "id": "8acf87ea",
   "metadata": {
    "lines_to_next_cell": 2
   },
   "outputs": [],
   "source": [
    "#컨벌루션 마스크 = 필터(3 X 3) = 커널\n",
    "#⇒ I(x+k, y+l)\n",
    "\n",
    "#input → 필터 → ReLU(Wx + b)\n",
    "#커널 → 서브 이미지 겹침 → GPU: 모든 곱셈을 병렬로 처리 가능\n",
    "#인접한 노드 → convolution layer(주름층)\n",
    "\n",
    "#컨벌루션 → 필터(마스크) → edge(경계선) 추출\n",
    "\n",
    "#feature map\n",
    "\n",
    "#CNN → 필터의 값(가중치) 알아야 함\n",
    "\n",
    "#WX + b: 컨벌루션 연산\n",
    "\n",
    "#입력층, 컨벌루션층\n",
    "\n",
    "#필터의 값은 학습된다.\n",
    "#★ 여러 개 필터 사용 가능 → feature map 증가\n",
    "\n",
    "#보폭(stride) = 2 → 6 * 6 → 3 * 3\n",
    "#패딩 #제로 패딩\n",
    "\n",
    "#valid: 입력 이미지 안에서만 움직임, same: 입력 이미지 주변을 특정값으로 채움\n",
    "\n",
    "#B, G, R 커널을 써서 8개짜리 피쳐를 만듦. → 개수, 두께가 커짐\n",
    "#깊이 = 커널의 개수\n",
    "#layer i = 28 * 28 * 3(2,352), layer i+1\n",
    "\n",
    "#K(필터), F(부분), S(스트라이드)\n",
    "#W2 * H2 * D2\n",
    "\n",
    "#풀링(서브 샘플링): pooling layer → 단순함 → 피쳐 맵 크기 줄임\n",
    "#풀링의 장점 - 계산 빨라짐, 매개변수 줄어듦, 과적합 발생 가능성 줄어듦(드롭아웃), 풀링 연산 결과 변화 X\n",
    "#⇒ 이동에 대해 둔감하게 함\n",
    "\n",
    "#필터 → ReLU, 최대 풀링\n",
    "\n",
    "#AlexNet(2012, ImageNet): RGB 이미지 → 풀링 → Frequent layer - hyper-parameter"
   ]
  },
  {
   "cell_type": "code",
   "execution_count": 3,
   "id": "668dd6d1",
   "metadata": {},
   "outputs": [
    {
     "name": "stdout",
     "output_type": "stream",
     "text": [
      "(4, 26, 26, 2)\n"
     ]
    }
   ],
   "source": [
    "import tensorflow as tf\n",
    "\n",
    "shape = (4, 28, 28, 3)\n",
    "x = tf.random.normal(shape)\n",
    "y = tf.keras.layers.Conv2D(2, 3, activation='relu', input_shape=shape[1:])(x)\n",
    "print(y.shape)"
   ]
  },
  {
   "cell_type": "code",
   "execution_count": 5,
   "id": "ca93c97c",
   "metadata": {},
   "outputs": [
    {
     "name": "stdout",
     "output_type": "stream",
     "text": [
      "tf.Tensor(\n",
      "[[[[5.]\n",
      "   [6.]]\n",
      "\n",
      "  [[8.]\n",
      "   [9.]]]], shape=(1, 2, 2, 1), dtype=float32)\n"
     ]
    }
   ],
   "source": [
    "x = tf.constant([[1., 2., 3.], [4., 5., 6.], [7., 8., 9.]])\n",
    "x = tf.reshape(x, [1, 3, 3, 1])\n",
    "max_pool_2d = tf.keras.layers.MaxPooling2D(pool_size=(2, 2), strides=(1, 1),\n",
    "\t\t\tpadding='valid')\n",
    "print(max_pool_2d(x))"
   ]
  },
  {
   "cell_type": "code",
   "execution_count": 6,
   "id": "894acb7f",
   "metadata": {},
   "outputs": [],
   "source": [
    "import tensorflow as tf\n",
    "from tensorflow.keras import datasets, layers, models\n",
    "\n",
    "(train_images, train_labels), (test_images, test_labels) = datasets.mnist.load_data()\n",
    "train_images = train_images.reshape((60000, 28, 28, 1))\n",
    "test_images = test_images.reshape((10000, 28, 28, 1))\n",
    "\n",
    "# 픽셀 값을 0~1 사이로 정규화한다. \n",
    "train_images, test_images = train_images / 255.0, test_images / 255.0"
   ]
  },
  {
   "cell_type": "code",
   "execution_count": 7,
   "id": "dab76def",
   "metadata": {},
   "outputs": [],
   "source": [
    "model = models.Sequential()\n",
    "\n",
    "model.add(layers.Conv2D(32, (3, 3), activation='relu', input_shape=(28, 28, 1)))\n",
    "model.add(layers.MaxPooling2D((2, 2)))\n",
    "model.add(layers.Conv2D(64, (3, 3), activation='relu'))\n",
    "model.add(layers.MaxPooling2D((2, 2)))\n",
    "model.add(layers.Conv2D(64, (3, 3), activation='relu'))\n",
    "\n",
    "model.add(layers.Flatten()) #일렬로 함.\n",
    "model.add(layers.Dense(64, activation='relu'))\n",
    "model.add(layers.Dense(10, activation='softmax'))\n",
    "\n",
    "#결과 예측할 줄 알아야 함!"
   ]
  },
  {
   "cell_type": "code",
   "execution_count": 8,
   "id": "a684e08f",
   "metadata": {},
   "outputs": [
    {
     "name": "stdout",
     "output_type": "stream",
     "text": [
      "Model: \"sequential\"\n",
      "_________________________________________________________________\n",
      " Layer (type)                Output Shape              Param #   \n",
      "=================================================================\n",
      " conv2d_1 (Conv2D)           (None, 26, 26, 32)        320       \n",
      "                                                                 \n",
      " max_pooling2d_1 (MaxPooling  (None, 13, 13, 32)       0         \n",
      " 2D)                                                             \n",
      "                                                                 \n",
      " conv2d_2 (Conv2D)           (None, 11, 11, 64)        18496     \n",
      "                                                                 \n",
      " max_pooling2d_2 (MaxPooling  (None, 5, 5, 64)         0         \n",
      " 2D)                                                             \n",
      "                                                                 \n",
      " conv2d_3 (Conv2D)           (None, 3, 3, 64)          36928     \n",
      "                                                                 \n",
      " flatten (Flatten)           (None, 576)               0         \n",
      "                                                                 \n",
      " dense (Dense)               (None, 64)                36928     \n",
      "                                                                 \n",
      " dense_1 (Dense)             (None, 10)                650       \n",
      "                                                                 \n",
      "=================================================================\n",
      "Total params: 93,322\n",
      "Trainable params: 93,322\n",
      "Non-trainable params: 0\n",
      "_________________________________________________________________\n"
     ]
    }
   ],
   "source": [
    "model.summary()\n",
    "\n",
    "#(3*3 + 1) * 32 = 320"
   ]
  },
  {
   "cell_type": "code",
   "execution_count": 10,
   "id": "db3cc84d",
   "metadata": {},
   "outputs": [
    {
     "name": "stdout",
     "output_type": "stream",
     "text": [
      "Epoch 1/5\n",
      "1875/1875 [==============================] - 45s 23ms/step - loss: 0.1563 - accuracy: 0.9510\n",
      "Epoch 2/5\n",
      "1875/1875 [==============================] - 43s 23ms/step - loss: 0.0471 - accuracy: 0.9851\n",
      "Epoch 3/5\n",
      "1875/1875 [==============================] - 42s 23ms/step - loss: 0.0335 - accuracy: 0.9896\n",
      "Epoch 4/5\n",
      "1875/1875 [==============================] - 48s 26ms/step - loss: 0.0268 - accuracy: 0.9913\n",
      "Epoch 5/5\n",
      "1875/1875 [==============================] - 41s 22ms/step - loss: 0.0195 - accuracy: 0.9937\n"
     ]
    },
    {
     "data": {
      "text/plain": [
       "<keras.callbacks.History at 0x13a74861e20>"
      ]
     },
     "execution_count": 10,
     "metadata": {},
     "output_type": "execute_result"
    }
   ],
   "source": [
    "model.compile(optimizer='adam',\n",
    "\t\tloss='sparse_categorical_crossentropy',\n",
    "\t\tmetrics=['accuracy'])\n",
    "model.fit(train_images, train_labels, epochs=5)"
   ]
  },
  {
   "cell_type": "code",
   "execution_count": null,
   "id": "1478e56b",
   "metadata": {},
   "outputs": [],
   "source": []
  }
 ],
 "metadata": {
  "jupytext": {
   "formats": "ipynb,py:light"
  },
  "kernelspec": {
   "display_name": "Python 3",
   "language": "python",
   "name": "python3"
  },
  "language_info": {
   "codemirror_mode": {
    "name": "ipython",
    "version": 3
   },
   "file_extension": ".py",
   "mimetype": "text/x-python",
   "name": "python",
   "nbconvert_exporter": "python",
   "pygments_lexer": "ipython3",
   "version": "3.8.8"
  }
 },
 "nbformat": 4,
 "nbformat_minor": 5
}
