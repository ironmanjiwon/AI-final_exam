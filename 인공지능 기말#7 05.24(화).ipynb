{
 "cells": [
  {
   "cell_type": "code",
   "execution_count": 2,
   "id": "85d0b9e3",
   "metadata": {},
   "outputs": [
    {
     "name": "stdout",
     "output_type": "stream",
     "text": [
      "[['2' '44' '7200']\n",
      " ['1' '27' '4800']\n",
      " ['0' '30' '6100']]\n"
     ]
    }
   ],
   "source": [
    "#과잉 적합 방지 전략: 오버피팅\n",
    "import numpy as np\n",
    "X = np.array([['Korea', 44, 7200],\n",
    "             ['Japan', 27, 4800],\n",
    "             ['China', 30, 6100]])\n",
    "\n",
    "from sklearn.preprocessing import LabelEncoder\n",
    "labelencoder = LabelEncoder()\n",
    "X[:, 0] = labelencoder.fit_transform(X[:, 0])\n",
    "\n",
    "print(X)"
   ]
  },
  {
   "cell_type": "code",
   "execution_count": 3,
   "id": "0db79317",
   "metadata": {},
   "outputs": [
    {
     "name": "stdout",
     "output_type": "stream",
     "text": [
      "[[0. 0. 1.]\n",
      " [0. 1. 0.]\n",
      " [1. 0. 0.]]\n",
      "[['0.0' '0.0' '1.0' '44' '7200']\n",
      " ['0.0' '1.0' '0.0' '27' '4800']\n",
      " ['1.0' '0.0' '0.0' '30' '6100']]\n"
     ]
    }
   ],
   "source": [
    "import numpy as np\n",
    "X = np.array([['Korea', 44, 7200],\n",
    "             ['Japan', 27, 4800],\n",
    "             ['China', 30, 6100]])\n",
    "\n",
    "from sklearn.preprocessing import OneHotEncoder\n",
    "onehotencoder = OneHotEncoder()\n",
    "\n",
    "XX = onehotencoder.fit_transform(X[:, 0].reshape(-1,1)).toarray()\n",
    "print(XX)\n",
    "\n",
    "X = np.delete(X, [0], axis=1)\n",
    "X = np.concatenate((XX, X), axis=1)\n",
    "print(X)"
   ]
  },
  {
   "cell_type": "code",
   "execution_count": 4,
   "id": "f9eba336",
   "metadata": {},
   "outputs": [],
   "source": [
    "#과잉 적합 방지 전략\n",
    "\n",
    "# 1) 조기 종료: 에러 값이 감소함 → 검증 데이터 값이 증가함 | 훈련용, 검증용, test용 데이터\n",
    "# 2) 가중치 규제 방법(regularization): 가중치 값 큼 → 과잉 적합 발생(Loss 값) → w값을 줄이면 loss 값 감소\n",
    "# 3) 데이터 증강 방법\n",
    "# 4) 드롭아웃 방법"
   ]
  },
  {
   "cell_type": "code",
   "execution_count": 25,
   "id": "0563d5d8",
   "metadata": {},
   "outputs": [],
   "source": [
    "model = tf.keras.Sequential()\n",
    "model.add(tf.keras.layers.Dense(16, \n",
    "\tkernel_regularizer=tf.keras.regularizers.l2(0.001),  \n",
    "\tactivation='relu', input_shape=(1000,)))\n",
    "model.add(tf.keras.layers.Dense(16,\t\t \n",
    "\tkernel_regularizer=tf.keras.regularizers.l2(0.001),  activation='relu'))\n",
    "model.add(tf.keras.layers.Dense(1, activation='sigmoid'))\n",
    "\n",
    "#loss function 계산\n",
    "#오버 피팅 덜 발생"
   ]
  },
  {
   "cell_type": "code",
   "execution_count": 26,
   "id": "56741930",
   "metadata": {},
   "outputs": [],
   "source": [
    "#드롭 아웃: 학습 과정에서 랜덤하게 제외 → 0으로 간주 → 변수 줄어듦 → 3 * 4 + 4 * 2 = 20 → 3 * 2 + 2 * 2 = 10\n",
    "\n",
    "model = tf.keras.Sequential()\n",
    "model.add(tf.keras.layers.Dense(16, activation = 'relu', input_shape=(10000,)))\n",
    "model.add(tf.keras.layers.Dropout(0.5)) #50% → 8개\n",
    "model.add(tf.keras.layers.Dense(16, activation='relu'))\n",
    "model.add(tf.keras.layers.Dropout(0.5)) #8개\n",
    "model.add(tf.keras.layers.Dense(1, activation='sigmoid'))"
   ]
  },
  {
   "cell_type": "code",
   "execution_count": 9,
   "id": "bbb6faeb",
   "metadata": {},
   "outputs": [],
   "source": [
    "#데이터 증강: 소량의 데이터에서 많은 훈련 데이터 추출 ex) 고양이 사진 → 오버 피팅 방지\n",
    "#오버 피팅(과잉 적합) 방지 전략 → 4가지 방법\n",
    "# 1) 조기 종료\n",
    "# 2) 가중치 규제 방법\n",
    "# 3) 데이터 증강 방법\n",
    "# 4) 드롭아웃 방법\n",
    "\n",
    "#regularization → 50%\n",
    "\n",
    "#앙상블 → 픽셀(28 * 28 = 784) → 투표 → 출력: 동일한 신경망을 N개 생성"
   ]
  },
  {
   "cell_type": "code",
   "execution_count": 27,
   "id": "38bbcd3e",
   "metadata": {},
   "outputs": [],
   "source": [
    "#MNIST 필기체 숫자 인식\n",
    "import matplotlib.pyplot as plt\n",
    "import tensorflow as tf\n",
    "\n",
    "mnist = tf.keras.datasets.mnist\n",
    "\n",
    "(x_train, y_train),(x_test, y_test) = mnist.load_data()\n",
    "x_train, x_test = x_train / 255.0, x_test / 255.0\n",
    "\n",
    "model = tf.keras.models.Sequential()\n",
    "model.add(tf.keras.layers.Flatten(input_shape=(28,28))) #28 * 28 = 784\n",
    "model.add(tf.keras.layers.Dense(512, activation='relu'))\n",
    "model.add(tf.keras.layers.Dropout(0.2))\n",
    "model.add(tf.keras.layers.Dense(10, activation='softmax'))"
   ]
  },
  {
   "cell_type": "code",
   "execution_count": 29,
   "id": "a063d5ac",
   "metadata": {},
   "outputs": [
    {
     "name": "stdout",
     "output_type": "stream",
     "text": [
      "Epoch 1/5\n",
      "1875/1875 [==============================] - 14s 7ms/step - loss: 0.2175 - accuracy: 0.9366\n",
      "Epoch 2/5\n",
      "1875/1875 [==============================] - 13s 7ms/step - loss: 0.0980 - accuracy: 0.9694\n",
      "Epoch 3/5\n",
      "1875/1875 [==============================] - 16s 9ms/step - loss: 0.0681 - accuracy: 0.9787\n",
      "Epoch 4/5\n",
      "1875/1875 [==============================] - 14s 8ms/step - loss: 0.0541 - accuracy: 0.9829\n",
      "Epoch 5/5\n",
      "1875/1875 [==============================] - 12s 6ms/step - loss: 0.0423 - accuracy: 0.9867\n",
      "313/313 [==============================] - 1s 4ms/step - loss: 0.0654 - accuracy: 0.9790\n"
     ]
    },
    {
     "data": {
      "text/plain": [
       "[0.06541600823402405, 0.9789999723434448]"
      ]
     },
     "execution_count": 29,
     "metadata": {},
     "output_type": "execute_result"
    }
   ],
   "source": [
    "model.compile(optimizer='adam',\n",
    "              loss='sparse_categorical_crossentropy',\n",
    "              metrics=['accuracy'])\n",
    "\n",
    "model.fit(x_train, y_train, epochs=5)\n",
    "model.evaluate(x_test, y_test)"
   ]
  },
  {
   "cell_type": "code",
   "execution_count": 31,
   "id": "aab679d4",
   "metadata": {},
   "outputs": [
    {
     "name": "stdout",
     "output_type": "stream",
     "text": [
      "Downloading data from https://storage.googleapis.com/tensorflow/tf-keras-datasets/train-labels-idx1-ubyte.gz\n",
      "29515/29515 [==============================] - 0s 3us/step\n",
      "Downloading data from https://storage.googleapis.com/tensorflow/tf-keras-datasets/train-images-idx3-ubyte.gz\n",
      "26421880/26421880 [==============================] - 6s 0us/step\n",
      "Downloading data from https://storage.googleapis.com/tensorflow/tf-keras-datasets/t10k-labels-idx1-ubyte.gz\n",
      "5148/5148 [==============================] - 0s 0s/step\n",
      "Downloading data from https://storage.googleapis.com/tensorflow/tf-keras-datasets/t10k-images-idx3-ubyte.gz\n",
      "4422102/4422102 [==============================] - 1s 0us/step\n"
     ]
    },
    {
     "data": {
      "image/png": "[encoded data removed]",
      "text/plain": [
       "<Figure size 432x288 with 1 Axes>"
      ]
     },
     "metadata": {
      "needs_background": "light"
     },
     "output_type": "display_data"
    }
   ],
   "source": [
    "#데이터셋: 28 * 28 = 0 ~ 255\n",
    "\n",
    "import tensorflow as tf\n",
    "from tensorflow import keras\n",
    "import numpy as np\n",
    "import matplotlib.pyplot as plt\n",
    "from tensorflow.keras import datasets, layers, models\n",
    "\n",
    "fashion_mnist = keras.datasets.fashion_mnist\n",
    "(train_images, train_labels), (test_images, test_labels) = fashion_mnist.load_data()\n",
    "\n",
    "plt.imshow(train_images[0])\n",
    "\n",
    "train_images = train_images / 255.0\n",
    "test_images = test_images / 255.0"
   ]
  },
  {
   "cell_type": "code",
   "execution_count": 34,
   "id": "95d69fce",
   "metadata": {},
   "outputs": [
    {
     "name": "stdout",
     "output_type": "stream",
     "text": [
      "Epoch 1/5\n",
      "1875/1875 [==============================] - 5s 2ms/step - loss: 0.5030 - accuracy: 0.8234\n",
      "Epoch 2/5\n",
      "1875/1875 [==============================] - 5s 3ms/step - loss: 0.3786 - accuracy: 0.8648\n",
      "Epoch 3/5\n",
      "1875/1875 [==============================] - 6s 3ms/step - loss: 0.3394 - accuracy: 0.8766\n",
      "Epoch 4/5\n",
      "1875/1875 [==============================] - 6s 3ms/step - loss: 0.3150 - accuracy: 0.8857\n",
      "Epoch 5/5\n",
      "1875/1875 [==============================] - 6s 3ms/step - loss: 0.2977 - accuracy: 0.8894\n",
      "313/313 [==============================] - 1s 2ms/step - loss: 0.3720 - accuracy: 0.8687\n",
      "정확도: 0.8687000274658203\n"
     ]
    }
   ],
   "source": [
    "model = models.Sequential()\n",
    "model.add(layers.Flatten(input_shape=(28, 28)))\n",
    "model.add(layers.Dense(128, activation='relu'))\n",
    "model.add(layers.Dense(10, activation='softmax'))\n",
    "\n",
    "model.compile(optimizer='adam',\n",
    "              loss='sparse_categorical_crossentropy',\n",
    "              metrics=['accuracy'])\n",
    "\n",
    "model.fit(train_images, train_labels, epochs=5)\n",
    "\n",
    "test_loss, test_acc = model.evaluate(test_images, test_labels)\n",
    "print('정확도:', test_acc)"
   ]
  },
  {
   "cell_type": "code",
   "execution_count": 35,
   "id": "8a73c1b4",
   "metadata": {},
   "outputs": [],
   "source": [
    "#타이타닉 생존자 예측\n",
    "import numpy as np\n",
    "import matplotlib.pyplot as plt\n",
    "import pandas as pd\n",
    "import tensorflow as tf"
   ]
  },
  {
   "cell_type": "code",
   "execution_count": 45,
   "id": "bf739ebd",
   "metadata": {},
   "outputs": [],
   "source": [
    "# 데이터 세트를 읽어들인다. \n",
    "train = pd.read_csv(\"D:\\CSV/titanic/train.csv\", sep=',')\n",
    "test = pd.read_csv(\"D:\\CSV/titanic/test.csv\", sep=',')\n",
    "\n",
    "# 필요없는 컬럼을 삭제한다. \n",
    "train.drop(['SibSp', 'Parch', 'Ticket', 'Embarked', 'Name',\\\n",
    "        'Cabin', 'PassengerId', 'Fare', 'Age'], inplace=True, axis=1)\n",
    "\n",
    "# 결손치가 있는 데이터 행은 삭제한다. \n",
    "train.dropna(inplace=True)"
   ]
  },
  {
   "cell_type": "code",
   "execution_count": 46,
   "id": "462156fb",
   "metadata": {},
   "outputs": [],
   "source": [
    "df = train.groupby('Sex').mean()[\"Survived\"]"
   ]
  },
  {
   "cell_type": "code",
   "execution_count": 47,
   "id": "6fc85552",
   "metadata": {},
   "outputs": [
    {
     "data": {
      "text/plain": [
       "<AxesSubplot:xlabel='Sex'>"
      ]
     },
     "execution_count": 47,
     "metadata": {},
     "output_type": "execute_result"
    },
    {
     "data": {
      "image/png": "[encoded data removed]",
      "text/plain": [
       "<Figure size 432x288 with 1 Axes>"
      ]
     },
     "metadata": {
      "needs_background": "light"
     },
     "output_type": "display_data"
    }
   ],
   "source": [
    "df.plot(kind='bar')"
   ]
  },
  {
   "cell_type": "code",
   "execution_count": 48,
   "id": "211de48d",
   "metadata": {},
   "outputs": [],
   "source": [
    "plt.show() #시각화"
   ]
  },
  {
   "cell_type": "code",
   "execution_count": 53,
   "id": "e9e3010c",
   "metadata": {},
   "outputs": [
    {
     "data": {
      "text/html": [
       "<div>\n",
       "<style scoped>\n",
       "    .dataframe tbody tr th:only-of-type {\n",
       "        vertical-align: middle;\n",
       "    }\n",
       "\n",
       "    .dataframe tbody tr th {\n",
       "        vertical-align: top;\n",
       "    }\n",
       "\n",
       "    .dataframe thead th {\n",
       "        text-align: right;\n",
       "    }\n",
       "</style>\n",
       "<table border=\"1\" class=\"dataframe\">\n",
       "  <thead>\n",
       "    <tr style=\"text-align: right;\">\n",
       "      <th></th>\n",
       "      <th>Survived</th>\n",
       "      <th>Pclass</th>\n",
       "      <th>Sex</th>\n",
       "    </tr>\n",
       "  </thead>\n",
       "  <tbody>\n",
       "    <tr>\n",
       "      <th>0</th>\n",
       "      <td>0</td>\n",
       "      <td>3</td>\n",
       "      <td>male</td>\n",
       "    </tr>\n",
       "    <tr>\n",
       "      <th>1</th>\n",
       "      <td>1</td>\n",
       "      <td>1</td>\n",
       "      <td>female</td>\n",
       "    </tr>\n",
       "    <tr>\n",
       "      <th>2</th>\n",
       "      <td>1</td>\n",
       "      <td>3</td>\n",
       "      <td>female</td>\n",
       "    </tr>\n",
       "    <tr>\n",
       "      <th>3</th>\n",
       "      <td>1</td>\n",
       "      <td>1</td>\n",
       "      <td>female</td>\n",
       "    </tr>\n",
       "    <tr>\n",
       "      <th>4</th>\n",
       "      <td>0</td>\n",
       "      <td>3</td>\n",
       "      <td>male</td>\n",
       "    </tr>\n",
       "  </tbody>\n",
       "</table>\n",
       "</div>"
      ],
      "text/plain": [
       "   Survived  Pclass     Sex\n",
       "0         0       3    male\n",
       "1         1       1  female\n",
       "2         1       3  female\n",
       "3         1       1  female\n",
       "4         0       3    male"
      ]
     },
     "execution_count": 53,
     "metadata": {},
     "output_type": "execute_result"
    }
   ],
   "source": [
    "train.head()"
   ]
  },
  {
   "cell_type": "code",
   "execution_count": 55,
   "id": "dcea0c5f",
   "metadata": {},
   "outputs": [
    {
     "name": "stdout",
     "output_type": "stream",
     "text": [
      "Epoch 1/30\n",
      "891/891 [==============================] - 2s 2ms/step - loss: 0.6131 - accuracy: 0.6308\n",
      "Epoch 2/30\n",
      "891/891 [==============================] - 2s 2ms/step - loss: 0.5464 - accuracy: 0.7542\n",
      "Epoch 3/30\n",
      "891/891 [==============================] - 2s 2ms/step - loss: 0.5124 - accuracy: 0.7811\n",
      "Epoch 4/30\n",
      "891/891 [==============================] - 1s 2ms/step - loss: 0.4988 - accuracy: 0.7845\n",
      "Epoch 5/30\n",
      "891/891 [==============================] - 1s 2ms/step - loss: 0.4881 - accuracy: 0.7901\n",
      "Epoch 6/30\n",
      "891/891 [==============================] - 1s 2ms/step - loss: 0.4829 - accuracy: 0.7879\n",
      "Epoch 7/30\n",
      "891/891 [==============================] - 1s 2ms/step - loss: 0.4791 - accuracy: 0.7868\n",
      "Epoch 8/30\n",
      "891/891 [==============================] - 2s 2ms/step - loss: 0.4774 - accuracy: 0.7868\n",
      "Epoch 9/30\n",
      "891/891 [==============================] - 1s 2ms/step - loss: 0.4725 - accuracy: 0.7924\n",
      "Epoch 10/30\n",
      "891/891 [==============================] - 2s 2ms/step - loss: 0.4728 - accuracy: 0.7868\n",
      "Epoch 11/30\n",
      "891/891 [==============================] - 2s 2ms/step - loss: 0.4704 - accuracy: 0.7856\n",
      "Epoch 12/30\n",
      "891/891 [==============================] - 2s 2ms/step - loss: 0.4719 - accuracy: 0.7912\n",
      "Epoch 13/30\n",
      "891/891 [==============================] - 2s 2ms/step - loss: 0.4712 - accuracy: 0.7868\n",
      "Epoch 14/30\n",
      "891/891 [==============================] - 2s 2ms/step - loss: 0.4704 - accuracy: 0.7845\n",
      "Epoch 15/30\n",
      "891/891 [==============================] - 2s 2ms/step - loss: 0.4684 - accuracy: 0.7924\n",
      "Epoch 16/30\n",
      "891/891 [==============================] - 2s 2ms/step - loss: 0.4683 - accuracy: 0.7868\n",
      "Epoch 17/30\n",
      "891/891 [==============================] - 2s 2ms/step - loss: 0.4673 - accuracy: 0.7845\n",
      "Epoch 18/30\n",
      "891/891 [==============================] - 2s 2ms/step - loss: 0.4663 - accuracy: 0.7834\n",
      "Epoch 19/30\n",
      "891/891 [==============================] - 1s 2ms/step - loss: 0.4668 - accuracy: 0.7879\n",
      "Epoch 20/30\n",
      "891/891 [==============================] - 2s 2ms/step - loss: 0.4652 - accuracy: 0.7856\n",
      "Epoch 21/30\n",
      "891/891 [==============================] - 2s 2ms/step - loss: 0.4646 - accuracy: 0.7901\n",
      "Epoch 22/30\n",
      "891/891 [==============================] - 2s 2ms/step - loss: 0.4643 - accuracy: 0.7834\n",
      "Epoch 23/30\n",
      "891/891 [==============================] - 2s 2ms/step - loss: 0.4644 - accuracy: 0.7868\n",
      "Epoch 24/30\n",
      "891/891 [==============================] - 2s 2ms/step - loss: 0.4627 - accuracy: 0.7868\n",
      "Epoch 25/30\n",
      "891/891 [==============================] - 3s 3ms/step - loss: 0.4589 - accuracy: 0.7946\n",
      "Epoch 26/30\n",
      "891/891 [==============================] - 3s 4ms/step - loss: 0.4585 - accuracy: 0.7834\n",
      "Epoch 27/30\n",
      "891/891 [==============================] - 3s 4ms/step - loss: 0.4615 - accuracy: 0.7800\n",
      "Epoch 28/30\n",
      "891/891 [==============================] - 3s 3ms/step - loss: 0.4600 - accuracy: 0.7823\n",
      "Epoch 29/30\n",
      "891/891 [==============================] - 2s 2ms/step - loss: 0.4622 - accuracy: 0.7834\n",
      "Epoch 30/30\n",
      "891/891 [==============================] - 2s 2ms/step - loss: 0.4595 - accuracy: 0.7800\n"
     ]
    },
    {
     "data": {
      "text/plain": [
       "<keras.callbacks.History at 0x2ac84333eb0>"
      ]
     },
     "execution_count": 55,
     "metadata": {},
     "output_type": "execute_result"
    }
   ],
   "source": [
    "# 기호를 수치로 변환한다. \n",
    "for ix in train.index:\n",
    "    if train.loc[ix, 'Sex']==\"male\":\n",
    "       train.loc[ix, 'Sex']=1 \n",
    "    else:\n",
    "       train.loc[ix, 'Sex']=0 \n",
    "\n",
    "# 2차원 배열을 1차원 배열로 평탄화한다. \n",
    "target = np.ravel(train.Survived) \n",
    "\n",
    "# 생존여부를 학습 데이터에서 삭제한다. \n",
    "train.drop(['Survived'], inplace=True, axis=1)\n",
    "train = train.astype(float)     # 최근 소스에서는 float형태로 형변환하여야 \n",
    "\n",
    "# 케라스 모델을 생성한다. \n",
    "model = tf.keras.models.Sequential()\n",
    "model.add(tf.keras.layers.Dense(16, activation='relu', input_shape=(2,)))\n",
    "model.add(tf.keras.layers.Dense(8, activation='relu'))\n",
    "model.add(tf.keras.layers.Dense(1, activation='sigmoid'))\n",
    "\n",
    "# 케라스 모델을 컴파일한다. \n",
    "model.compile(loss='binary_crossentropy',\n",
    "              optimizer='adam',\n",
    "              metrics=['accuracy'])\n",
    "# 케라스 모델을 학습시킨다. \n",
    "model.fit(train, target, epochs=30, batch_size=1, verbose=1)"
   ]
  },
  {
   "cell_type": "code",
   "execution_count": null,
   "id": "70a0669f",
   "metadata": {},
   "outputs": [],
   "source": [
    "#9장. 컨벌루션 신경망\n",
    "#2차원 형태의 입력 처리 → 이미지 처리\n",
    "#CNN: 입력층, 풀링 연산 적용 → regression, classfication"
   ]
  }
 ],
 "metadata": {
  "jupytext": {
   "formats": "ipynb,py:light"
  },
  "kernelspec": {
   "display_name": "Python 3",
   "language": "python",
   "name": "python3"
  },
  "language_info": {
   "codemirror_mode": {
    "name": "ipython",
    "version": 3
   },
   "file_extension": ".py",
   "mimetype": "text/x-python",
   "name": "python",
   "nbconvert_exporter": "python",
   "pygments_lexer": "ipython3",
   "version": "3.8.8"
  }
 },
 "nbformat": 4,
 "nbformat_minor": 5
}
