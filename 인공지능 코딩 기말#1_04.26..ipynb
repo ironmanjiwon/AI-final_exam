{
 "cells": [
  {
   "cell_type": "code",
   "execution_count": 1,
   "id": "6814c69a",
   "metadata": {},
   "outputs": [],
   "source": [
    "#04/26 기말#1\n",
    "#p.170 #퍼셉트론 구현\n",
    "import numpy as np\n",
    "\n",
    "epsilon = 0.0000001\n",
    "\n",
    "def perceptron(x1, x2):\n",
    "    w1, w2, b = 1.0, 1.0, -1.5\n",
    "    sum = x1*w1+x2*w2+b\n",
    "    \n",
    "    if sum > epsilon :\n",
    "        return 1 #합이 엡실론 값(약 0)보다 크면 1로 표시, 작으면 0으로 표시\n",
    "    else:\n",
    "        return 0"
   ]
  },
  {
   "cell_type": "code",
   "execution_count": 2,
   "id": "4380cea5",
   "metadata": {},
   "outputs": [
    {
     "name": "stdout",
     "output_type": "stream",
     "text": [
      "0\n",
      "0\n",
      "0\n",
      "1\n"
     ]
    }
   ],
   "source": [
    "print(perceptron(0, 0))\n",
    "print(perceptron(1, 0))\n",
    "print(perceptron(0, 1))\n",
    "print(perceptron(1, 1))"
   ]
  },
  {
   "cell_type": "code",
   "execution_count": 3,
   "id": "7c0fbb5d",
   "metadata": {},
   "outputs": [
    {
     "name": "stdout",
     "output_type": "stream",
     "text": [
      "0\n",
      "0\n",
      "0\n",
      "1\n"
     ]
    }
   ],
   "source": [
    "#넘파이 사용\n",
    "import numpy as np\n",
    "epsilon = 0.0000001\n",
    "\n",
    "def perceptron(x1, x2):\n",
    "    X = np.array([x1, x2])\n",
    "    W = np.array([1.0, 1.0])\n",
    "    B = -1.5\n",
    "    \n",
    "    sum = np.dot(W, X)+B\n",
    "    \n",
    "    if sum > epsilon:\n",
    "        return 1\n",
    "    else:\n",
    "        return 0\n",
    "\n",
    "#4개 데이터\n",
    "print(perceptron(0, 0))\n",
    "print(perceptron(1, 0))\n",
    "print(perceptron(0, 1))\n",
    "print(perceptron(1, 1))"
   ]
  },
  {
   "cell_type": "code",
   "execution_count": 2,
   "id": "86935192",
   "metadata": {},
   "outputs": [
    {
     "name": "stdout",
     "output_type": "stream",
     "text": [
      "epoch= 0 ======================\n",
      "현재 처리 입력= [0 0 1] 정답= 0 출력= 0 변경된 가중치= [0. 0. 0.]\n",
      "현재 처리 입력= [0 1 1] 정답= 0 출력= 0 변경된 가중치= [0. 0. 0.]\n",
      "현재 처리 입력= [1 0 1] 정답= 0 출력= 0 변경된 가중치= [0. 0. 0.]\n",
      "현재 처리 입력= [1 1 1] 정답= 1 출력= 0 변경된 가중치= [0.2 0.2 0.2]\n",
      "==============================\n",
      "epoch= 1 ======================\n",
      "현재 처리 입력= [0 0 1] 정답= 0 출력= 1 변경된 가중치= [0.2 0.2 0. ]\n",
      "현재 처리 입력= [0 1 1] 정답= 0 출력= 1 변경된 가중치= [ 0.2  0.  -0.2]\n",
      "현재 처리 입력= [1 0 1] 정답= 0 출력= 0 변경된 가중치= [ 0.2  0.  -0.2]\n",
      "현재 처리 입력= [1 1 1] 정답= 1 출력= 0 변경된 가중치= [0.4 0.2 0. ]\n",
      "==============================\n",
      "epoch= 2 ======================\n",
      "현재 처리 입력= [0 0 1] 정답= 0 출력= 0 변경된 가중치= [0.4 0.2 0. ]\n",
      "현재 처리 입력= [0 1 1] 정답= 0 출력= 1 변경된 가중치= [ 0.4  0.  -0.2]\n",
      "현재 처리 입력= [1 0 1] 정답= 0 출력= 1 변경된 가중치= [ 0.2  0.  -0.4]\n",
      "현재 처리 입력= [1 1 1] 정답= 1 출력= 0 변경된 가중치= [ 0.4  0.2 -0.2]\n",
      "==============================\n",
      "epoch= 3 ======================\n",
      "현재 처리 입력= [0 0 1] 정답= 0 출력= 0 변경된 가중치= [ 0.4  0.2 -0.2]\n",
      "현재 처리 입력= [0 1 1] 정답= 0 출력= 0 변경된 가중치= [ 0.4  0.2 -0.2]\n",
      "현재 처리 입력= [1 0 1] 정답= 0 출력= 1 변경된 가중치= [ 0.2  0.2 -0.4]\n",
      "현재 처리 입력= [1 1 1] 정답= 1 출력= 0 변경된 가중치= [ 0.4  0.4 -0.2]\n",
      "==============================\n",
      "epoch= 4 ======================\n",
      "현재 처리 입력= [0 0 1] 정답= 0 출력= 0 변경된 가중치= [ 0.4  0.4 -0.2]\n",
      "현재 처리 입력= [0 1 1] 정답= 0 출력= 1 변경된 가중치= [ 0.4  0.2 -0.4]\n",
      "현재 처리 입력= [1 0 1] 정답= 0 출력= 0 변경된 가중치= [ 0.4  0.2 -0.4]\n",
      "현재 처리 입력= [1 1 1] 정답= 1 출력= 1 변경된 가중치= [ 0.4  0.2 -0.4]\n",
      "==============================\n",
      "epoch= 5 ======================\n",
      "현재 처리 입력= [0 0 1] 정답= 0 출력= 0 변경된 가중치= [ 0.4  0.2 -0.4]\n",
      "현재 처리 입력= [0 1 1] 정답= 0 출력= 0 변경된 가중치= [ 0.4  0.2 -0.4]\n",
      "현재 처리 입력= [1 0 1] 정답= 0 출력= 0 변경된 가중치= [ 0.4  0.2 -0.4]\n",
      "현재 처리 입력= [1 1 1] 정답= 1 출력= 1 변경된 가중치= [ 0.4  0.2 -0.4]\n",
      "==============================\n",
      "0 0 → 0\n",
      "0 1 → 0\n",
      "1 0 → 0\n",
      "1 1 → 1\n"
     ]
    }
   ],
   "source": [
    "import numpy as np\n",
    "\n",
    "epsilon = 0.0000001\n",
    "\n",
    "def step_func(t):\n",
    "    if t > epsilon: return 1\n",
    "    else: return 0\n",
    "    \n",
    "X = np.array([\n",
    "    [0,0,1],\n",
    "    [0,1,1],\n",
    "    [1,0,1],\n",
    "    [1,1,1]\n",
    "])\n",
    "\n",
    "y = np.array([0, 0, 0, 1])\n",
    "W = np.zeros(len(X[0]))\n",
    "\n",
    "def perceptron_fit(X, Y, epochs=10):\n",
    "    global W\n",
    "    eta = 0.2\n",
    "    \n",
    "    for t in range(epochs): #epoch 값 반복\n",
    "        print(\"epoch=\", t, \"======================\")\n",
    "        for i in range(len(X)):\n",
    "            predict = step_func(np.dot(X[i], W))\n",
    "            error = Y[i] - predict\n",
    "            W += eta * error * X[i]\n",
    "            print(\"현재 처리 입력=\", X[i], \"정답=\", Y[i],\"출력=\", predict, \"변경된 가중치=\", W)\n",
    "        print(\"==============================\")\n",
    "        \n",
    "def perceptron_predict(X, Y):\n",
    "        global W\n",
    "        for x in X:\n",
    "            print(x[0], x[1], \"→\", step_func(np.dot(x, W)))\n",
    "            \n",
    "perceptron_fit(X, y, 6)\n",
    "perceptron_predict(X, y)\n",
    "\n",
    "#(epoch = 0) 4번째 출력 값 → 오류"
   ]
  },
  {
   "cell_type": "code",
   "execution_count": 5,
   "id": "c590531c",
   "metadata": {},
   "outputs": [
    {
     "name": "stdout",
     "output_type": "stream",
     "text": [
      "[0 0 0 1]\n"
     ]
    }
   ],
   "source": [
    "#sklearn\n",
    "#p.177\n",
    "from sklearn.linear_model import Perceptron\n",
    "\n",
    "X = [[0,0],[0,1],[1,0],[1,1]]\n",
    "y = [0,0,0,1]\n",
    "\n",
    "clf = Perceptron(tol=1e-3, random_state=0)\n",
    "\n",
    "clf.fit(X,y)\n",
    "\n",
    "print(clf.predict(X))"
   ]
  },
  {
   "cell_type": "code",
   "execution_count": 8,
   "id": "27babe30",
   "metadata": {},
   "outputs": [
    {
     "name": "stdout",
     "output_type": "stream",
     "text": [
      "1.0\n"
     ]
    },
    {
     "data": {
      "image/png": "[encoded data removed]",
      "text/plain": [
       "<Figure size 432x288 with 1 Axes>"
      ]
     },
     "metadata": {
      "needs_background": "light"
     },
     "output_type": "display_data"
    }
   ],
   "source": [
    "#p.178\n",
    "from matplotlib import pyplot as plt\n",
    "from sklearn.datasets import make_blobs\n",
    "from sklearn.linear_model import Perceptron\n",
    "import numpy as np\n",
    "\n",
    "clf = Perceptron(tol=1e-3, random_state=0)\n",
    "\n",
    "X, y = make_blobs(n_samples=100, centers=2)\n",
    "clf.fit(X,y)\n",
    "\n",
    "from sklearn.metrics import accuracy_score\n",
    "print(accuracy_score(clf.predict(X), y))\n",
    "\n",
    "plt.scatter(X[:, 0], X[:, 1], c=y, s=100)\n",
    "plt.xlabel(\"x1\")\n",
    "plt.ylabel(\"x2\")\n",
    "\n",
    "x_min, x_max = X[:, 0].min() - 1, X[:, 0].max() + 1\n",
    "y_min, y_max = X[:, 1].min() - 1, X[:, 1].max() + 1\n",
    "\n",
    "xx, yy = np.meshgrid(np.arange(x_min, x_max, 0.1), np.arange(y_min, y_max, 0.1))\n",
    "\n",
    "Z = clf.predict(np.c_[xx.ravel(), yy.ravel()]).reshape(xx.shape)\n",
    "\n",
    "plt.contourf(xx, yy, Z, alpha=0.4)\n",
    "plt.show()"
   ]
  },
  {
   "cell_type": "code",
   "execution_count": 1,
   "id": "ce561a9f",
   "metadata": {
    "lines_to_next_cell": 0
   },
   "outputs": [],
   "source": [
    "#작동, 학습, 한계점\n",
    "#인공 신경망(ANN) → 생물학적인 신경망\n",
    "#덴드라이트: 입력 신호(input) → 트랜지스터\n",
    "#트랜지스터(컴퓨터) vs 뉴런(두뇌)\n",
    "#학습 기능: O vs X // 순차적인 처리, 병렬 처리\n",
    "#신경망: 학습 가능 & 오동작해도 큰 문제 없음 → 이미지 인식\n",
    "\n",
    "#퍼셉트론(1957, 로젠블라트): 인공 신경망 → 입력(x) * 가중치(w) + 바이어스(b) → 활성화 함수(function)\n",
    "#입력 * 가중치 = S → 출력값(y): (S < 0) 0, (S ≥ 0) 1\n",
    "\n",
    "#함수로 표현하는 방법\n",
    "#1) 수식, 2) 표, 3) 그래프. 4) 퍼셉트론(신경망)\n",
    "#논리 곱(AND)\n",
    "#계단 함수\n",
    "\n",
    "#학습 데이터 m개 → w, b 출력\n",
    "#초기화 → 랜덤, 정수\n",
    "#가중치 변경X까지 반복\n",
    "\n",
    "#♨ 기말 #1 58:00 → 공식\n",
    "\n",
    "#학습률: 0.001\n",
    "\n",
    "#한계점"
   ]
  },
  {
   "cell_type": "code",
   "execution_count": null,
   "id": "050f8c94",
   "metadata": {
    "lines_to_next_cell": 2
   },
   "outputs": [],
   "source": []
  }
 ],
 "metadata": {
  "jupytext": {
   "formats": "ipynb,py:light"
  },
  "kernelspec": {
   "display_name": "Python 3",
   "language": "python",
   "name": "python3"
  },
  "language_info": {
   "codemirror_mode": {
    "name": "ipython",
    "version": 3
   },
   "file_extension": ".py",
   "mimetype": "text/x-python",
   "name": "python",
   "nbconvert_exporter": "python",
   "pygments_lexer": "ipython3",
   "version": "3.8.8"
  }
 },
 "nbformat": 4,
 "nbformat_minor": 5
}
