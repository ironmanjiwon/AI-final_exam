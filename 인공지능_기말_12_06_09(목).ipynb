{
  "nbformat": 4,
  "nbformat_minor": 0,
  "metadata": {
    "colab": {
      "name": "인공지능 기말#12 06.09(목)",
      "provenance": [],
      "collapsed_sections": [],
      "authorship_tag": "ABX9TyOtNzq7ckrBE5R8v37m1LFU",
      "include_colab_link": true
    },
    "kernelspec": {
      "name": "python3",
      "display_name": "Python 3"
    },
    "language_info": {
      "name": "python"
    }
  },
  "cells": [
    {
      "cell_type": "markdown",
      "metadata": {
        "id": "view-in-github",
        "colab_type": "text"
      },
      "source": [
        "<a href=\"https://colab.research.google.com/github/ironmanjiwon/AI-final_exam/blob/main/%EC%9D%B8%EA%B3%B5%EC%A7%80%EB%8A%A5_%EA%B8%B0%EB%A7%90_12_06_09(%EB%AA%A9).ipynb\" target=\"_parent\"><img src=\"https://colab.research.google.com/assets/colab-badge.svg\" alt=\"Open In Colab\"/></a>"
      ]
    },
    {
      "cell_type": "code",
      "execution_count": 1,
      "metadata": {
        "id": "Fhauun0uqdNv"
      },
      "outputs": [],
      "source": [
        "#RNN: 순차적 시계열 데이터 처리 → 신경망\n",
        "#순환 신경망\n",
        "#gradient 소실 문제\n",
        "#LSTM"
      ]
    },
    {
      "cell_type": "code",
      "source": [
        "#사인파 예측 프로그램\n",
        "\n",
        "import numpy as np\n",
        "from tensorflow.keras.models import Sequential\n",
        "from tensorflow.keras.layers import SimpleRNN\n",
        "from tensorflow.keras.layers import Dense\n",
        "import matplotlib.pyplot as plt"
      ],
      "metadata": {
        "id": "Q1wvMPnCqmKr"
      },
      "execution_count": 2,
      "outputs": []
    },
    {
      "cell_type": "code",
      "source": [
        "# 윈도우 크기만큼씩 잘라서 훈련 데이터셋 생성\n",
        "def make_sample(data, window):\n",
        "    train = []\t\t\t\t\t# 공백 리스트 생성\n",
        "    target = []\n",
        "    for i in range(len(data)-window):\t\t# 데이터의 길이만큼 반복\n",
        "        train.append(data[i:i+window])\t\t# i부터 (i+window-1) 까지를 저장\n",
        "        target.append(data[i+window])\t\t# (i+window) 번째 요소는 정답\n",
        "    return np.array(train), np.array(target)\t# 파이썬 리스트를 넘파이로 변환 "
      ],
      "metadata": {
        "id": "vEYMmKWIqqdU"
      },
      "execution_count": 3,
      "outputs": []
    },
    {
      "cell_type": "code",
      "source": [
        "#시계열 데이터\n",
        "\n",
        "seq_data = []\n",
        "for i in np.arange(0, 1000): # 1000개의 샘플\n",
        "    seq_data += [[np.sin( np.pi * i* 0.01 )]]\n",
        "\n",
        "X, y = make_sample(seq_data, 10) # 윈도우 크기는 10\n",
        "print(X.shape, y.shape)\n",
        "print(X[0],y[0])"
      ],
      "metadata": {
        "colab": {
          "base_uri": "https://localhost:8080/"
        },
        "id": "ke14VmMSqx9a",
        "outputId": "de94cf28-abc2-480a-d2e6-887f741adb0f"
      },
      "execution_count": 4,
      "outputs": [
        {
          "output_type": "stream",
          "name": "stdout",
          "text": [
            "(990, 10, 1) (990, 1)\n",
            "[[0.        ]\n",
            " [0.03141076]\n",
            " [0.06279052]\n",
            " [0.09410831]\n",
            " [0.12533323]\n",
            " [0.15643447]\n",
            " [0.18738131]\n",
            " [0.21814324]\n",
            " [0.24868989]\n",
            " [0.27899111]] [0.30901699]\n"
          ]
        }
      ]
    },
    {
      "cell_type": "code",
      "source": [
        "# 모델 생성\n",
        "model = Sequential()\n",
        "model.add(SimpleRNN(10, activation='tanh', input_shape=(10,1))) # 10개의 셀\n",
        "model.add(Dense(1, activation='tanh'))\n",
        "model.compile(optimizer='adam', loss='mse')"
      ],
      "metadata": {
        "id": "sO-MQvKNq2Ip"
      },
      "execution_count": 5,
      "outputs": []
    },
    {
      "cell_type": "code",
      "source": [
        "# 학습\n",
        "history = model.fit(X, y, epochs=100, verbose=1)\n",
        "plt.plot(history.history['loss'], label=\"loss\")\n",
        "plt.show()"
      ],
      "metadata": {
        "colab": {
          "base_uri": "https://localhost:8080/",
          "height": 1000
        },
        "id": "pm2RAAxIrG4K",
        "outputId": "523708fe-c433-4c61-f598-ffd38acb297f"
      },
      "execution_count": 6,
      "outputs": [
        {
          "output_type": "stream",
          "name": "stdout",
          "text": [
            "Epoch 1/100\n",
            "31/31 [==============================] - 2s 6ms/step - loss: 1.8873\n",
            "Epoch 2/100\n",
            "31/31 [==============================] - 0s 7ms/step - loss: 0.9728\n",
            "Epoch 3/100\n",
            "31/31 [==============================] - 0s 7ms/step - loss: 0.2212\n",
            "Epoch 4/100\n",
            "31/31 [==============================] - 0s 7ms/step - loss: 0.0565\n",
            "Epoch 5/100\n",
            "31/31 [==============================] - 0s 6ms/step - loss: 0.0239\n",
            "Epoch 6/100\n",
            "31/31 [==============================] - 0s 7ms/step - loss: 0.0151\n",
            "Epoch 7/100\n",
            "31/31 [==============================] - 0s 6ms/step - loss: 0.0127\n",
            "Epoch 8/100\n",
            "31/31 [==============================] - 0s 6ms/step - loss: 0.0116\n",
            "Epoch 9/100\n",
            "31/31 [==============================] - 0s 6ms/step - loss: 0.0107\n",
            "Epoch 10/100\n",
            "31/31 [==============================] - 0s 5ms/step - loss: 0.0100\n",
            "Epoch 11/100\n",
            "31/31 [==============================] - 0s 5ms/step - loss: 0.0093\n",
            "Epoch 12/100\n",
            "31/31 [==============================] - 0s 6ms/step - loss: 0.0087\n",
            "Epoch 13/100\n",
            "31/31 [==============================] - 0s 6ms/step - loss: 0.0082\n",
            "Epoch 14/100\n",
            "31/31 [==============================] - 0s 6ms/step - loss: 0.0077\n",
            "Epoch 15/100\n",
            "31/31 [==============================] - 0s 7ms/step - loss: 0.0073\n",
            "Epoch 16/100\n",
            "31/31 [==============================] - 0s 5ms/step - loss: 0.0069\n",
            "Epoch 17/100\n",
            "31/31 [==============================] - 0s 3ms/step - loss: 0.0066\n",
            "Epoch 18/100\n",
            "31/31 [==============================] - 0s 3ms/step - loss: 0.0063\n",
            "Epoch 19/100\n",
            "31/31 [==============================] - 0s 3ms/step - loss: 0.0060\n",
            "Epoch 20/100\n",
            "31/31 [==============================] - 0s 4ms/step - loss: 0.0057\n",
            "Epoch 21/100\n",
            "31/31 [==============================] - 0s 4ms/step - loss: 0.0054\n",
            "Epoch 22/100\n",
            "31/31 [==============================] - 0s 4ms/step - loss: 0.0052\n",
            "Epoch 23/100\n",
            "31/31 [==============================] - 0s 3ms/step - loss: 0.0050\n",
            "Epoch 24/100\n",
            "31/31 [==============================] - 0s 3ms/step - loss: 0.0048\n",
            "Epoch 25/100\n",
            "31/31 [==============================] - 0s 4ms/step - loss: 0.0046\n",
            "Epoch 26/100\n",
            "31/31 [==============================] - 0s 4ms/step - loss: 0.0044\n",
            "Epoch 27/100\n",
            "31/31 [==============================] - 0s 3ms/step - loss: 0.0042\n",
            "Epoch 28/100\n",
            "31/31 [==============================] - 0s 3ms/step - loss: 0.0041\n",
            "Epoch 29/100\n",
            "31/31 [==============================] - 0s 3ms/step - loss: 0.0039\n",
            "Epoch 30/100\n",
            "31/31 [==============================] - 0s 3ms/step - loss: 0.0037\n",
            "Epoch 31/100\n",
            "31/31 [==============================] - 0s 3ms/step - loss: 0.0036\n",
            "Epoch 32/100\n",
            "31/31 [==============================] - 0s 3ms/step - loss: 0.0035\n",
            "Epoch 33/100\n",
            "31/31 [==============================] - 0s 3ms/step - loss: 0.0034\n",
            "Epoch 34/100\n",
            "31/31 [==============================] - 0s 3ms/step - loss: 0.0032\n",
            "Epoch 35/100\n",
            "31/31 [==============================] - 0s 3ms/step - loss: 0.0031\n",
            "Epoch 36/100\n",
            "31/31 [==============================] - 0s 3ms/step - loss: 0.0031\n",
            "Epoch 37/100\n",
            "31/31 [==============================] - 0s 3ms/step - loss: 0.0029\n",
            "Epoch 38/100\n",
            "31/31 [==============================] - 0s 3ms/step - loss: 0.0028\n",
            "Epoch 39/100\n",
            "31/31 [==============================] - 0s 3ms/step - loss: 0.0028\n",
            "Epoch 40/100\n",
            "31/31 [==============================] - 0s 4ms/step - loss: 0.0027\n",
            "Epoch 41/100\n",
            "31/31 [==============================] - 0s 3ms/step - loss: 0.0026\n",
            "Epoch 42/100\n",
            "31/31 [==============================] - 0s 3ms/step - loss: 0.0026\n",
            "Epoch 43/100\n",
            "31/31 [==============================] - 0s 3ms/step - loss: 0.0025\n",
            "Epoch 44/100\n",
            "31/31 [==============================] - 0s 3ms/step - loss: 0.0025\n",
            "Epoch 45/100\n",
            "31/31 [==============================] - 0s 3ms/step - loss: 0.0024\n",
            "Epoch 46/100\n",
            "31/31 [==============================] - 0s 3ms/step - loss: 0.0024\n",
            "Epoch 47/100\n",
            "31/31 [==============================] - 0s 4ms/step - loss: 0.0023\n",
            "Epoch 48/100\n",
            "31/31 [==============================] - 0s 3ms/step - loss: 0.0023\n",
            "Epoch 49/100\n",
            "31/31 [==============================] - 0s 3ms/step - loss: 0.0022\n",
            "Epoch 50/100\n",
            "31/31 [==============================] - 0s 4ms/step - loss: 0.0022\n",
            "Epoch 51/100\n",
            "31/31 [==============================] - 0s 3ms/step - loss: 0.0022\n",
            "Epoch 52/100\n",
            "31/31 [==============================] - 0s 3ms/step - loss: 0.0022\n",
            "Epoch 53/100\n",
            "31/31 [==============================] - 0s 3ms/step - loss: 0.0021\n",
            "Epoch 54/100\n",
            "31/31 [==============================] - 0s 3ms/step - loss: 0.0021\n",
            "Epoch 55/100\n",
            "31/31 [==============================] - 0s 3ms/step - loss: 0.0020\n",
            "Epoch 56/100\n",
            "31/31 [==============================] - 0s 3ms/step - loss: 0.0020\n",
            "Epoch 57/100\n",
            "31/31 [==============================] - 0s 3ms/step - loss: 0.0020\n",
            "Epoch 58/100\n",
            "31/31 [==============================] - 0s 3ms/step - loss: 0.0019\n",
            "Epoch 59/100\n",
            "31/31 [==============================] - 0s 3ms/step - loss: 0.0019\n",
            "Epoch 60/100\n",
            "31/31 [==============================] - 0s 3ms/step - loss: 0.0019\n",
            "Epoch 61/100\n",
            "31/31 [==============================] - 0s 3ms/step - loss: 0.0018\n",
            "Epoch 62/100\n",
            "31/31 [==============================] - 0s 3ms/step - loss: 0.0018\n",
            "Epoch 63/100\n",
            "31/31 [==============================] - 0s 3ms/step - loss: 0.0018\n",
            "Epoch 64/100\n",
            "31/31 [==============================] - 0s 3ms/step - loss: 0.0017\n",
            "Epoch 65/100\n",
            "31/31 [==============================] - 0s 3ms/step - loss: 0.0017\n",
            "Epoch 66/100\n",
            "31/31 [==============================] - 0s 3ms/step - loss: 0.0017\n",
            "Epoch 67/100\n",
            "31/31 [==============================] - 0s 3ms/step - loss: 0.0017\n",
            "Epoch 68/100\n",
            "31/31 [==============================] - 0s 3ms/step - loss: 0.0016\n",
            "Epoch 69/100\n",
            "31/31 [==============================] - 0s 3ms/step - loss: 0.0016\n",
            "Epoch 70/100\n",
            "31/31 [==============================] - 0s 3ms/step - loss: 0.0016\n",
            "Epoch 71/100\n",
            "31/31 [==============================] - 0s 3ms/step - loss: 0.0015\n",
            "Epoch 72/100\n",
            "31/31 [==============================] - 0s 3ms/step - loss: 0.0015\n",
            "Epoch 73/100\n",
            "31/31 [==============================] - 0s 3ms/step - loss: 0.0015\n",
            "Epoch 74/100\n",
            "31/31 [==============================] - 0s 3ms/step - loss: 0.0015\n",
            "Epoch 75/100\n",
            "31/31 [==============================] - 0s 3ms/step - loss: 0.0014\n",
            "Epoch 76/100\n",
            "31/31 [==============================] - 0s 3ms/step - loss: 0.0014\n",
            "Epoch 77/100\n",
            "31/31 [==============================] - 0s 4ms/step - loss: 0.0014\n",
            "Epoch 78/100\n",
            "31/31 [==============================] - 0s 4ms/step - loss: 0.0014\n",
            "Epoch 79/100\n",
            "31/31 [==============================] - 0s 3ms/step - loss: 0.0013\n",
            "Epoch 80/100\n",
            "31/31 [==============================] - 0s 3ms/step - loss: 0.0013\n",
            "Epoch 81/100\n",
            "31/31 [==============================] - 0s 3ms/step - loss: 0.0013\n",
            "Epoch 82/100\n",
            "31/31 [==============================] - 0s 3ms/step - loss: 0.0013\n",
            "Epoch 83/100\n",
            "31/31 [==============================] - 0s 3ms/step - loss: 0.0013\n",
            "Epoch 84/100\n",
            "31/31 [==============================] - 0s 3ms/step - loss: 0.0013\n",
            "Epoch 85/100\n",
            "31/31 [==============================] - 0s 3ms/step - loss: 0.0013\n",
            "Epoch 86/100\n",
            "31/31 [==============================] - 0s 3ms/step - loss: 0.0012\n",
            "Epoch 87/100\n",
            "31/31 [==============================] - 0s 3ms/step - loss: 0.0012\n",
            "Epoch 88/100\n",
            "31/31 [==============================] - 0s 3ms/step - loss: 0.0012\n",
            "Epoch 89/100\n",
            "31/31 [==============================] - 0s 3ms/step - loss: 0.0012\n",
            "Epoch 90/100\n",
            "31/31 [==============================] - 0s 3ms/step - loss: 0.0012\n",
            "Epoch 91/100\n",
            "31/31 [==============================] - 0s 3ms/step - loss: 0.0012\n",
            "Epoch 92/100\n",
            "31/31 [==============================] - 0s 3ms/step - loss: 0.0012\n",
            "Epoch 93/100\n",
            "31/31 [==============================] - 0s 3ms/step - loss: 0.0012\n",
            "Epoch 94/100\n",
            "31/31 [==============================] - 0s 3ms/step - loss: 0.0012\n",
            "Epoch 95/100\n",
            "31/31 [==============================] - 0s 3ms/step - loss: 0.0011\n",
            "Epoch 96/100\n",
            "31/31 [==============================] - 0s 3ms/step - loss: 0.0011\n",
            "Epoch 97/100\n",
            "31/31 [==============================] - 0s 3ms/step - loss: 0.0011\n",
            "Epoch 98/100\n",
            "31/31 [==============================] - 0s 3ms/step - loss: 0.0011\n",
            "Epoch 99/100\n",
            "31/31 [==============================] - 0s 3ms/step - loss: 0.0011\n",
            "Epoch 100/100\n",
            "31/31 [==============================] - 0s 3ms/step - loss: 0.0011\n"
          ]
        },
        {
          "output_type": "display_data",
          "data": {
            "text/plain": [
              "<Figure size 432x288 with 1 Axes>"
            ],
            "image/png": "[encoded data removed]"
          },
          "metadata": {
            "needs_background": "light"
          }
        }
      ]
    },
    {
      "cell_type": "code",
      "source": [
        "# 테스트\n",
        "seq_data = []\n",
        "for i in np.arange(0, 1000):\t\t\t# 테스트 샘플 생성\n",
        "    seq_data += [[np.cos( np.pi * i* 0.01 )]]\n",
        "X, y = make_sample(seq_data, 10)\t\t# 윈도우 크기=10\n",
        "\n",
        "y_pred = model.predict(X, verbose=0)\t\t# 테스트 예측값\n",
        "plt.plot(np.pi * np.arange(0, 990)*0.01, y_pred, 'b' )\n",
        "plt.plot(np.pi * np.arange(0, 990)*0.01, y,'r' )\n",
        "plt.show()"
      ],
      "metadata": {
        "colab": {
          "base_uri": "https://localhost:8080/",
          "height": 265
        },
        "id": "7bslKHkprOII",
        "outputId": "fb3badde-a076-4d84-f966-111bda9803a1"
      },
      "execution_count": 7,
      "outputs": [
        {
          "output_type": "display_data",
          "data": {
            "text/plain": [
              "<Figure size 432x288 with 1 Axes>"
            ],
            "image/png": "[encoded data removed]"
          },
          "metadata": {
            "needs_background": "light"
          }
        }
      ]
    },
    {
      "cell_type": "code",
      "source": [
        "#주가 예측\n",
        "\n",
        "!pip install finance-datareader\n",
        "\n",
        "import FinanceDataReader as fdr\n",
        "import numpy as np\n",
        "import matplotlib.pyplot as plt\n",
        "import pandas as pd"
      ],
      "metadata": {
        "colab": {
          "base_uri": "https://localhost:8080/"
        },
        "id": "gJge9yjLrVMT",
        "outputId": "389c201f-36ab-4e27-d121-b56df87ea43e"
      },
      "execution_count": 8,
      "outputs": [
        {
          "output_type": "stream",
          "name": "stdout",
          "text": [
            "Looking in indexes: https://pypi.org/simple, https://us-python.pkg.dev/colab-wheels/public/simple/\n",
            "Collecting finance-datareader\n",
            "  Downloading finance_datareader-0.9.33-py3-none-any.whl (48 kB)\n",
            "\u001b[K     |████████████████████████████████| 48 kB 4.9 MB/s \n",
            "\u001b[?25hRequirement already satisfied: pandas>=0.19.2 in /usr/local/lib/python3.7/dist-packages (from finance-datareader) (1.3.5)\n",
            "Requirement already satisfied: tqdm in /usr/local/lib/python3.7/dist-packages (from finance-datareader) (4.64.0)\n",
            "Collecting requests-file\n",
            "  Downloading requests_file-1.5.1-py2.py3-none-any.whl (3.7 kB)\n",
            "Requirement already satisfied: lxml in /usr/local/lib/python3.7/dist-packages (from finance-datareader) (4.2.6)\n",
            "Requirement already satisfied: requests>=2.3.0 in /usr/local/lib/python3.7/dist-packages (from finance-datareader) (2.23.0)\n",
            "Requirement already satisfied: python-dateutil>=2.7.3 in /usr/local/lib/python3.7/dist-packages (from pandas>=0.19.2->finance-datareader) (2.8.2)\n",
            "Requirement already satisfied: pytz>=2017.3 in /usr/local/lib/python3.7/dist-packages (from pandas>=0.19.2->finance-datareader) (2022.1)\n",
            "Requirement already satisfied: numpy>=1.17.3 in /usr/local/lib/python3.7/dist-packages (from pandas>=0.19.2->finance-datareader) (1.21.6)\n",
            "Requirement already satisfied: six>=1.5 in /usr/local/lib/python3.7/dist-packages (from python-dateutil>=2.7.3->pandas>=0.19.2->finance-datareader) (1.15.0)\n",
            "Requirement already satisfied: certifi>=2017.4.17 in /usr/local/lib/python3.7/dist-packages (from requests>=2.3.0->finance-datareader) (2022.5.18.1)\n",
            "Requirement already satisfied: chardet<4,>=3.0.2 in /usr/local/lib/python3.7/dist-packages (from requests>=2.3.0->finance-datareader) (3.0.4)\n",
            "Requirement already satisfied: urllib3!=1.25.0,!=1.25.1,<1.26,>=1.21.1 in /usr/local/lib/python3.7/dist-packages (from requests>=2.3.0->finance-datareader) (1.24.3)\n",
            "Requirement already satisfied: idna<3,>=2.5 in /usr/local/lib/python3.7/dist-packages (from requests>=2.3.0->finance-datareader) (2.10)\n",
            "Installing collected packages: requests-file, finance-datareader\n",
            "Successfully installed finance-datareader-0.9.33 requests-file-1.5.1\n"
          ]
        }
      ]
    },
    {
      "cell_type": "code",
      "source": [
        "samsung = fdr.DataReader('005930', '2016') # 삼성전자-005930, 2016년도 이후 데이터\n",
        "print(samsung) # 시작값, 최고값, 최저값, 종가, 거래량, 변화율"
      ],
      "metadata": {
        "colab": {
          "base_uri": "https://localhost:8080/"
        },
        "id": "LebHnIOarrai",
        "outputId": "9a13d409-fb8a-460d-9b9b-793e562e97b1"
      },
      "execution_count": 9,
      "outputs": [
        {
          "output_type": "stream",
          "name": "stdout",
          "text": [
            "             Open   High    Low  Close    Volume    Change\n",
            "Date                                                      \n",
            "2016-01-04  25200  25200  24100  24100    306939 -0.043651\n",
            "2016-01-05  24040  24360  23720  24160    216002  0.002490\n",
            "2016-01-06  24160  24160  23360  23500    366752 -0.027318\n",
            "2016-01-07  23320  23660  23020  23260    282388 -0.010213\n",
            "2016-01-08  23260  23720  23260  23420    257763  0.006879\n",
            "...           ...    ...    ...    ...       ...       ...\n",
            "2022-06-03  67200  67300  66800  66800   8222883  0.001499\n",
            "2022-06-07  66200  66400  65400  65500  19355755 -0.019461\n",
            "2022-06-08  65400  65700  65300  65300  12483180 -0.003053\n",
            "2022-06-09  65100  65200  64500  65200  25790725 -0.001531\n",
            "2022-06-10  64000  64400  63800  63800  22022851 -0.021472\n",
            "\n",
            "[1582 rows x 6 columns]\n"
          ]
        }
      ]
    },
    {
      "cell_type": "code",
      "source": [
        "LGenergysolution = fdr.DataReader('373220', '2022')\n",
        "print(LGenergysolution)"
      ],
      "metadata": {
        "colab": {
          "base_uri": "https://localhost:8080/"
        },
        "id": "57qIo4hRsHRy",
        "outputId": "bf794441-cb90-436f-cf66-1d1fe09ba36f"
      },
      "execution_count": 12,
      "outputs": [
        {
          "output_type": "stream",
          "name": "stdout",
          "text": [
            "              Open    High     Low   Close    Volume    Change\n",
            "Date                                                          \n",
            "2022-01-27  597000  598000  450000  505000  15946992       NaN\n",
            "2022-01-28  476000  483000  445000  450000   4559773 -0.108911\n",
            "2022-02-03  458000  495500  441000  477000   2918435  0.060000\n",
            "2022-02-04  476500  505000  476000  504000   2088996  0.056604\n",
            "2022-02-07  520000  548000  511000  548000   1911176  0.087302\n",
            "...            ...     ...     ...     ...       ...       ...\n",
            "2022-06-03  443500  444000  437500  437500    154981 -0.006810\n",
            "2022-06-07  436500  439500  432000  432000    180249 -0.012571\n",
            "2022-06-08  432500  434500  422500  425500    215828 -0.015046\n",
            "2022-06-09  426000  426000  419000  422500    208712 -0.007051\n",
            "2022-06-10  418000  426000  412500  425000    283876  0.005917\n",
            "\n",
            "[89 rows x 6 columns]\n"
          ]
        }
      ]
    },
    {
      "cell_type": "code",
      "source": [
        "SAMBU = fdr.DataReader('001470', '2021')\n",
        "print(SAMBU)"
      ],
      "metadata": {
        "colab": {
          "base_uri": "https://localhost:8080/"
        },
        "id": "FDF3ONH0s3NB",
        "outputId": "a519adc4-c0ae-4c98-ed2f-ac2a61556a49"
      },
      "execution_count": 13,
      "outputs": [
        {
          "output_type": "stream",
          "name": "stdout",
          "text": [
            "            Open  High   Low  Close   Volume    Change\n",
            "Date                                                  \n",
            "2021-01-04  4300  4620  4250   4525  6616139 -0.012009\n",
            "2021-01-05  4445  4495  4315   4380  4960766 -0.032044\n",
            "2021-01-06  4370  4805  4300   4470  9739927  0.020548\n",
            "2021-01-07  4520  4760  4480   4600  8962447  0.029083\n",
            "2021-01-08  4625  4660  4405   4415  5380553 -0.040217\n",
            "...          ...   ...   ...    ...      ...       ...\n",
            "2022-06-03  2215  2225  2190   2200  1705617  0.004566\n",
            "2022-06-07  2205  2215  2150   2170  1470661 -0.013636\n",
            "2022-06-08  2175  2180  2130   2135  1644772 -0.016129\n",
            "2022-06-09  2115  2145  2060   2130  2102248 -0.002342\n",
            "2022-06-10  2105  2140  2065   2065  1454979 -0.030516\n",
            "\n",
            "[355 rows x 6 columns]\n"
          ]
        }
      ]
    },
    {
      "cell_type": "code",
      "source": [
        "openValues = samsung[['Open']]\n",
        "\n",
        "openValues"
      ],
      "metadata": {
        "colab": {
          "base_uri": "https://localhost:8080/",
          "height": 455
        },
        "id": "qcLEICgqtbbo",
        "outputId": "ca74d953-74e5-4fbf-dff8-dc10522c4ad2"
      },
      "execution_count": 14,
      "outputs": [
        {
          "output_type": "execute_result",
          "data": {
            "text/plain": [
              "             Open\n",
              "Date             \n",
              "2016-01-04  25200\n",
              "2016-01-05  24040\n",
              "2016-01-06  24160\n",
              "2016-01-07  23320\n",
              "2016-01-08  23260\n",
              "...           ...\n",
              "2022-06-03  67200\n",
              "2022-06-07  66200\n",
              "2022-06-08  65400\n",
              "2022-06-09  65100\n",
              "2022-06-10  64000\n",
              "\n",
              "[1582 rows x 1 columns]"
            ],
            "text/html": [
              "\n",
              "  <div id=\"df-323f570b-c3eb-4f24-a1f0-2079d45ef4e2\">\n",
              "    <div class=\"colab-df-container\">\n",
              "      <div>\n",
              "<style scoped>\n",
              "    .dataframe tbody tr th:only-of-type {\n",
              "        vertical-align: middle;\n",
              "    }\n",
              "\n",
              "    .dataframe tbody tr th {\n",
              "        vertical-align: top;\n",
              "    }\n",
              "\n",
              "    .dataframe thead th {\n",
              "        text-align: right;\n",
              "    }\n",
              "</style>\n",
              "<table border=\"1\" class=\"dataframe\">\n",
              "  <thead>\n",
              "    <tr style=\"text-align: right;\">\n",
              "      <th></th>\n",
              "      <th>Open</th>\n",
              "    </tr>\n",
              "    <tr>\n",
              "      <th>Date</th>\n",
              "      <th></th>\n",
              "    </tr>\n",
              "  </thead>\n",
              "  <tbody>\n",
              "    <tr>\n",
              "      <th>2016-01-04</th>\n",
              "      <td>25200</td>\n",
              "    </tr>\n",
              "    <tr>\n",
              "      <th>2016-01-05</th>\n",
              "      <td>24040</td>\n",
              "    </tr>\n",
              "    <tr>\n",
              "      <th>2016-01-06</th>\n",
              "      <td>24160</td>\n",
              "    </tr>\n",
              "    <tr>\n",
              "      <th>2016-01-07</th>\n",
              "      <td>23320</td>\n",
              "    </tr>\n",
              "    <tr>\n",
              "      <th>2016-01-08</th>\n",
              "      <td>23260</td>\n",
              "    </tr>\n",
              "    <tr>\n",
              "      <th>...</th>\n",
              "      <td>...</td>\n",
              "    </tr>\n",
              "    <tr>\n",
              "      <th>2022-06-03</th>\n",
              "      <td>67200</td>\n",
              "    </tr>\n",
              "    <tr>\n",
              "      <th>2022-06-07</th>\n",
              "      <td>66200</td>\n",
              "    </tr>\n",
              "    <tr>\n",
              "      <th>2022-06-08</th>\n",
              "      <td>65400</td>\n",
              "    </tr>\n",
              "    <tr>\n",
              "      <th>2022-06-09</th>\n",
              "      <td>65100</td>\n",
              "    </tr>\n",
              "    <tr>\n",
              "      <th>2022-06-10</th>\n",
              "      <td>64000</td>\n",
              "    </tr>\n",
              "  </tbody>\n",
              "</table>\n",
              "<p>1582 rows × 1 columns</p>\n",
              "</div>\n",
              "      <button class=\"colab-df-convert\" onclick=\"convertToInteractive('df-323f570b-c3eb-4f24-a1f0-2079d45ef4e2')\"\n",
              "              title=\"Convert this dataframe to an interactive table.\"\n",
              "              style=\"display:none;\">\n",
              "        \n",
              "  <svg xmlns=\"http://www.w3.org/2000/svg\" height=\"24px\"viewBox=\"0 0 24 24\"\n",
              "       width=\"24px\">\n",
              "    <path d=\"M0 0h24v24H0V0z\" fill=\"none\"/>\n",
              "    <path d=\"M18.56 5.44l.94 2.06.94-2.06 2.06-.94-2.06-.94-.94-2.06-.94 2.06-2.06.94zm-11 1L8.5 8.5l.94-2.06 2.06-.94-2.06-.94L8.5 2.5l-.94 2.06-2.06.94zm10 10l.94 2.06.94-2.06 2.06-.94-2.06-.94-.94-2.06-.94 2.06-2.06.94z\"/><path d=\"M17.41 7.96l-1.37-1.37c-.4-.4-.92-.59-1.43-.59-.52 0-1.04.2-1.43.59L10.3 9.45l-7.72 7.72c-.78.78-.78 2.05 0 2.83L4 21.41c.39.39.9.59 1.41.59.51 0 1.02-.2 1.41-.59l7.78-7.78 2.81-2.81c.8-.78.8-2.07 0-2.86zM5.41 20L4 18.59l7.72-7.72 1.47 1.35L5.41 20z\"/>\n",
              "  </svg>\n",
              "      </button>\n",
              "      \n",
              "  <style>\n",
              "    .colab-df-container {\n",
              "      display:flex;\n",
              "      flex-wrap:wrap;\n",
              "      gap: 12px;\n",
              "    }\n",
              "\n",
              "    .colab-df-convert {\n",
              "      background-color: #E8F0FE;\n",
              "      border: none;\n",
              "      border-radius: 50%;\n",
              "      cursor: pointer;\n",
              "      display: none;\n",
              "      fill: #1967D2;\n",
              "      height: 32px;\n",
              "      padding: 0 0 0 0;\n",
              "      width: 32px;\n",
              "    }\n",
              "\n",
              "    .colab-df-convert:hover {\n",
              "      background-color: #E2EBFA;\n",
              "      box-shadow: 0px 1px 2px rgba(60, 64, 67, 0.3), 0px 1px 3px 1px rgba(60, 64, 67, 0.15);\n",
              "      fill: #174EA6;\n",
              "    }\n",
              "\n",
              "    [theme=dark] .colab-df-convert {\n",
              "      background-color: #3B4455;\n",
              "      fill: #D2E3FC;\n",
              "    }\n",
              "\n",
              "    [theme=dark] .colab-df-convert:hover {\n",
              "      background-color: #434B5C;\n",
              "      box-shadow: 0px 1px 3px 1px rgba(0, 0, 0, 0.15);\n",
              "      filter: drop-shadow(0px 1px 2px rgba(0, 0, 0, 0.3));\n",
              "      fill: #FFFFFF;\n",
              "    }\n",
              "  </style>\n",
              "\n",
              "      <script>\n",
              "        const buttonEl =\n",
              "          document.querySelector('#df-323f570b-c3eb-4f24-a1f0-2079d45ef4e2 button.colab-df-convert');\n",
              "        buttonEl.style.display =\n",
              "          google.colab.kernel.accessAllowed ? 'block' : 'none';\n",
              "\n",
              "        async function convertToInteractive(key) {\n",
              "          const element = document.querySelector('#df-323f570b-c3eb-4f24-a1f0-2079d45ef4e2');\n",
              "          const dataTable =\n",
              "            await google.colab.kernel.invokeFunction('convertToInteractive',\n",
              "                                                     [key], {});\n",
              "          if (!dataTable) return;\n",
              "\n",
              "          const docLinkHtml = 'Like what you see? Visit the ' +\n",
              "            '<a target=\"_blank\" href=https://colab.research.google.com/notebooks/data_table.ipynb>data table notebook</a>'\n",
              "            + ' to learn more about interactive tables.';\n",
              "          element.innerHTML = '';\n",
              "          dataTable['output_type'] = 'display_data';\n",
              "          await google.colab.output.renderOutput(dataTable, element);\n",
              "          const docLink = document.createElement('div');\n",
              "          docLink.innerHTML = docLinkHtml;\n",
              "          element.appendChild(docLink);\n",
              "        }\n",
              "      </script>\n",
              "    </div>\n",
              "  </div>\n",
              "  "
            ]
          },
          "metadata": {},
          "execution_count": 14
        }
      ]
    },
    {
      "cell_type": "code",
      "source": [
        "from sklearn.preprocessing import MinMaxScaler #정규화\n",
        "scaler = MinMaxScaler(feature_range = (0, 1))\n",
        "scaled = scaler.fit_transform(openValues) # ndarray 반환\n",
        "\n",
        "scaled"
      ],
      "metadata": {
        "colab": {
          "base_uri": "https://localhost:8080/"
        },
        "id": "LMu5j5vitnbx",
        "outputId": "507fb648-984f-4876-ed01-d885ff437e3a"
      },
      "execution_count": 15,
      "outputs": [
        {
          "output_type": "execute_result",
          "data": {
            "text/plain": [
              "array([[0.27906977],\n",
              "       [0.2662237 ],\n",
              "       [0.2675526 ],\n",
              "       ...,\n",
              "       [0.72425249],\n",
              "       [0.72093023],\n",
              "       [0.70874862]])"
            ]
          },
          "metadata": {},
          "execution_count": 15
        }
      ]
    },
    {
      "cell_type": "code",
      "source": [
        "# 훈련 데이터와 테스트 데이터 분리\n",
        "TEST_SIZE = 200\n",
        "train_data = scaled[:-TEST_SIZE]\n",
        "test_data = scaled[-TEST_SIZE:]\n",
        "\n",
        "train_data.shape"
      ],
      "metadata": {
        "colab": {
          "base_uri": "https://localhost:8080/"
        },
        "id": "3gZhxvLqtqRm",
        "outputId": "dab350fe-cbff-4e8f-aae9-5d785aa2aa7a"
      },
      "execution_count": 16,
      "outputs": [
        {
          "output_type": "execute_result",
          "data": {
            "text/plain": [
              "(1382, 1)"
            ]
          },
          "metadata": {},
          "execution_count": 16
        }
      ]
    },
    {
      "cell_type": "code",
      "source": [
        "# 순차 훈련 데이터 생성\n",
        "def make_sample(data, window):\n",
        "    train = []\n",
        "    target = []\n",
        "    for i in range(len(data)-window):\n",
        "        train.append(data[i:i+window])\n",
        "        target.append(data[i+window])\n",
        "    return np.array(train), np.array(target)\n",
        "\n",
        "X_train, y_train = make_sample(train_data, 30)\n",
        "\n",
        "print(X_train.shape, y_train.shape)\n",
        "print(X_train[0],y_train[0])"
      ],
      "metadata": {
        "colab": {
          "base_uri": "https://localhost:8080/"
        },
        "id": "Y0OsOtLet1Nw",
        "outputId": "bd9b0926-1689-490d-8386-f0f1ff7f372e"
      },
      "execution_count": 17,
      "outputs": [
        {
          "output_type": "stream",
          "name": "stdout",
          "text": [
            "(1352, 30, 1) (1352, 1)\n",
            "[[0.27906977]\n",
            " [0.2662237 ]\n",
            " [0.2675526 ]\n",
            " [0.25825028]\n",
            " [0.25758583]\n",
            " [0.25603544]\n",
            " [0.25426357]\n",
            " [0.25537099]\n",
            " [0.25049834]\n",
            " [0.25249169]\n",
            " [0.24097453]\n",
            " [0.24983389]\n",
            " [0.25692137]\n",
            " [0.25094131]\n",
            " [0.25359911]\n",
            " [0.25957918]\n",
            " [0.25581395]\n",
            " [0.24939092]\n",
            " [0.25780731]\n",
            " [0.25249169]\n",
            " [0.2551495 ]\n",
            " [0.25714286]\n",
            " [0.25470653]\n",
            " [0.25470653]\n",
            " [0.25603544]\n",
            " [0.24761905]\n",
            " [0.25027685]\n",
            " [0.25559247]\n",
            " [0.25647841]\n",
            " [0.26112957]] [0.26644518]\n"
          ]
        }
      ]
    },
    {
      "cell_type": "code",
      "source": [
        "# LSTM 구축\n",
        "from tensorflow.keras.models import Sequential\n",
        "from tensorflow.keras.layers import Dense\n",
        "from tensorflow.keras.layers import LSTM\n",
        "\n",
        "model = Sequential()\n",
        "model.add(LSTM(16, \n",
        "                input_shape=(X_train.shape[1], 1), \n",
        "                activation='tanh', \n",
        "                return_sequences=False)\n",
        "          )\n",
        "model.add(Dense(1))\n",
        "\n",
        "model.compile(optimizer = 'adam', loss = 'mean_squared_error')\n",
        "model.fit(X_train, y_train, epochs = 100, batch_size = 16)"
      ],
      "metadata": {
        "colab": {
          "base_uri": "https://localhost:8080/"
        },
        "id": "DbBZBLhMt2ol",
        "outputId": "1165eb7c-c396-4b18-a93f-304e9a862129"
      },
      "execution_count": 18,
      "outputs": [
        {
          "output_type": "stream",
          "name": "stdout",
          "text": [
            "Epoch 1/100\n",
            "85/85 [==============================] - 4s 11ms/step - loss: 0.1190\n",
            "Epoch 2/100\n",
            "85/85 [==============================] - 1s 11ms/step - loss: 0.0054\n",
            "Epoch 3/100\n",
            "85/85 [==============================] - 1s 11ms/step - loss: 0.0019\n",
            "Epoch 4/100\n",
            "85/85 [==============================] - 1s 11ms/step - loss: 0.0014\n",
            "Epoch 5/100\n",
            "85/85 [==============================] - 1s 11ms/step - loss: 0.0014\n",
            "Epoch 6/100\n",
            "85/85 [==============================] - 1s 11ms/step - loss: 0.0015\n",
            "Epoch 7/100\n",
            "85/85 [==============================] - 1s 12ms/step - loss: 0.0014\n",
            "Epoch 8/100\n",
            "85/85 [==============================] - 1s 12ms/step - loss: 0.0014\n",
            "Epoch 9/100\n",
            "85/85 [==============================] - 1s 12ms/step - loss: 0.0014\n",
            "Epoch 10/100\n",
            "85/85 [==============================] - 1s 11ms/step - loss: 0.0014\n",
            "Epoch 11/100\n",
            "85/85 [==============================] - 1s 11ms/step - loss: 0.0014\n",
            "Epoch 12/100\n",
            "85/85 [==============================] - 1s 11ms/step - loss: 0.0014\n",
            "Epoch 13/100\n",
            "85/85 [==============================] - 1s 11ms/step - loss: 0.0013\n",
            "Epoch 14/100\n",
            "85/85 [==============================] - 1s 11ms/step - loss: 0.0013\n",
            "Epoch 15/100\n",
            "85/85 [==============================] - 1s 11ms/step - loss: 0.0013\n",
            "Epoch 16/100\n",
            "85/85 [==============================] - 1s 11ms/step - loss: 0.0013\n",
            "Epoch 17/100\n",
            "85/85 [==============================] - 1s 11ms/step - loss: 0.0013\n",
            "Epoch 18/100\n",
            "85/85 [==============================] - 1s 12ms/step - loss: 0.0013\n",
            "Epoch 19/100\n",
            "85/85 [==============================] - 1s 12ms/step - loss: 0.0012\n",
            "Epoch 20/100\n",
            "85/85 [==============================] - 1s 12ms/step - loss: 0.0013\n",
            "Epoch 21/100\n",
            "85/85 [==============================] - 1s 11ms/step - loss: 0.0012\n",
            "Epoch 22/100\n",
            "85/85 [==============================] - 1s 11ms/step - loss: 0.0012\n",
            "Epoch 23/100\n",
            "85/85 [==============================] - 1s 11ms/step - loss: 0.0012\n",
            "Epoch 24/100\n",
            "85/85 [==============================] - 1s 11ms/step - loss: 0.0012\n",
            "Epoch 25/100\n",
            "85/85 [==============================] - 1s 11ms/step - loss: 0.0012\n",
            "Epoch 26/100\n",
            "85/85 [==============================] - 1s 11ms/step - loss: 0.0012\n",
            "Epoch 27/100\n",
            "85/85 [==============================] - 1s 11ms/step - loss: 0.0012\n",
            "Epoch 28/100\n",
            "85/85 [==============================] - 1s 11ms/step - loss: 0.0011\n",
            "Epoch 29/100\n",
            "85/85 [==============================] - 1s 11ms/step - loss: 0.0011\n",
            "Epoch 30/100\n",
            "85/85 [==============================] - 1s 11ms/step - loss: 0.0011\n",
            "Epoch 31/100\n",
            "85/85 [==============================] - 1s 11ms/step - loss: 0.0011\n",
            "Epoch 32/100\n",
            "85/85 [==============================] - 1s 11ms/step - loss: 0.0011\n",
            "Epoch 33/100\n",
            "85/85 [==============================] - 1s 11ms/step - loss: 0.0010\n",
            "Epoch 34/100\n",
            "85/85 [==============================] - 1s 11ms/step - loss: 0.0011\n",
            "Epoch 35/100\n",
            "85/85 [==============================] - 1s 11ms/step - loss: 0.0010\n",
            "Epoch 36/100\n",
            "85/85 [==============================] - 1s 11ms/step - loss: 0.0011\n",
            "Epoch 37/100\n",
            "85/85 [==============================] - 1s 11ms/step - loss: 0.0010\n",
            "Epoch 38/100\n",
            "85/85 [==============================] - 1s 11ms/step - loss: 0.0010\n",
            "Epoch 39/100\n",
            "85/85 [==============================] - 1s 11ms/step - loss: 9.9962e-04\n",
            "Epoch 40/100\n",
            "85/85 [==============================] - 1s 11ms/step - loss: 9.8575e-04\n",
            "Epoch 41/100\n",
            "85/85 [==============================] - 1s 12ms/step - loss: 9.6333e-04\n",
            "Epoch 42/100\n",
            "85/85 [==============================] - 1s 12ms/step - loss: 9.4399e-04\n",
            "Epoch 43/100\n",
            "85/85 [==============================] - 1s 11ms/step - loss: 9.5900e-04\n",
            "Epoch 44/100\n",
            "85/85 [==============================] - 1s 11ms/step - loss: 9.8390e-04\n",
            "Epoch 45/100\n",
            "85/85 [==============================] - 1s 11ms/step - loss: 9.7267e-04\n",
            "Epoch 46/100\n",
            "85/85 [==============================] - 1s 12ms/step - loss: 9.4858e-04\n",
            "Epoch 47/100\n",
            "85/85 [==============================] - 1s 11ms/step - loss: 9.4780e-04\n",
            "Epoch 48/100\n",
            "85/85 [==============================] - 1s 11ms/step - loss: 9.2230e-04\n",
            "Epoch 49/100\n",
            "85/85 [==============================] - 1s 11ms/step - loss: 9.0339e-04\n",
            "Epoch 50/100\n",
            "85/85 [==============================] - 1s 11ms/step - loss: 9.1191e-04\n",
            "Epoch 51/100\n",
            "85/85 [==============================] - 1s 12ms/step - loss: 8.7553e-04\n",
            "Epoch 52/100\n",
            "85/85 [==============================] - 1s 11ms/step - loss: 8.9878e-04\n",
            "Epoch 53/100\n",
            "85/85 [==============================] - 1s 11ms/step - loss: 8.8992e-04\n",
            "Epoch 54/100\n",
            "85/85 [==============================] - 1s 11ms/step - loss: 8.4166e-04\n",
            "Epoch 55/100\n",
            "85/85 [==============================] - 1s 11ms/step - loss: 8.6545e-04\n",
            "Epoch 56/100\n",
            "85/85 [==============================] - 1s 11ms/step - loss: 8.3950e-04\n",
            "Epoch 57/100\n",
            "85/85 [==============================] - 1s 11ms/step - loss: 8.4489e-04\n",
            "Epoch 58/100\n",
            "85/85 [==============================] - 1s 11ms/step - loss: 8.2334e-04\n",
            "Epoch 59/100\n",
            "85/85 [==============================] - 1s 12ms/step - loss: 8.0961e-04\n",
            "Epoch 60/100\n",
            "85/85 [==============================] - 1s 11ms/step - loss: 8.0110e-04\n",
            "Epoch 61/100\n",
            "85/85 [==============================] - 1s 11ms/step - loss: 7.8612e-04\n",
            "Epoch 62/100\n",
            "85/85 [==============================] - 1s 11ms/step - loss: 7.9312e-04\n",
            "Epoch 63/100\n",
            "85/85 [==============================] - 1s 11ms/step - loss: 7.7074e-04\n",
            "Epoch 64/100\n",
            "85/85 [==============================] - 1s 11ms/step - loss: 7.7712e-04\n",
            "Epoch 65/100\n",
            "85/85 [==============================] - 1s 11ms/step - loss: 8.2103e-04\n",
            "Epoch 66/100\n",
            "85/85 [==============================] - 1s 11ms/step - loss: 7.6980e-04\n",
            "Epoch 67/100\n",
            "85/85 [==============================] - 1s 12ms/step - loss: 8.1416e-04\n",
            "Epoch 68/100\n",
            "85/85 [==============================] - 1s 12ms/step - loss: 7.4697e-04\n",
            "Epoch 69/100\n",
            "85/85 [==============================] - 1s 11ms/step - loss: 7.5668e-04\n",
            "Epoch 70/100\n",
            "85/85 [==============================] - 1s 11ms/step - loss: 7.7793e-04\n",
            "Epoch 71/100\n",
            "85/85 [==============================] - 1s 12ms/step - loss: 7.4344e-04\n",
            "Epoch 72/100\n",
            "85/85 [==============================] - 1s 12ms/step - loss: 7.2022e-04\n",
            "Epoch 73/100\n",
            "85/85 [==============================] - 1s 12ms/step - loss: 7.3243e-04\n",
            "Epoch 74/100\n",
            "85/85 [==============================] - 1s 12ms/step - loss: 7.2132e-04\n",
            "Epoch 75/100\n",
            "85/85 [==============================] - 1s 11ms/step - loss: 7.4980e-04\n",
            "Epoch 76/100\n",
            "85/85 [==============================] - 1s 11ms/step - loss: 6.9141e-04\n",
            "Epoch 77/100\n",
            "85/85 [==============================] - 1s 11ms/step - loss: 6.8448e-04\n",
            "Epoch 78/100\n",
            "85/85 [==============================] - 1s 11ms/step - loss: 6.9015e-04\n",
            "Epoch 79/100\n",
            "85/85 [==============================] - 1s 11ms/step - loss: 7.3380e-04\n",
            "Epoch 80/100\n",
            "85/85 [==============================] - 1s 17ms/step - loss: 6.8803e-04\n",
            "Epoch 81/100\n",
            "85/85 [==============================] - 1s 17ms/step - loss: 6.9065e-04\n",
            "Epoch 82/100\n",
            "85/85 [==============================] - 2s 18ms/step - loss: 6.9043e-04\n",
            "Epoch 83/100\n",
            "85/85 [==============================] - 2s 18ms/step - loss: 6.8093e-04\n",
            "Epoch 84/100\n",
            "85/85 [==============================] - 1s 11ms/step - loss: 6.7145e-04\n",
            "Epoch 85/100\n",
            "85/85 [==============================] - 1s 11ms/step - loss: 6.5804e-04\n",
            "Epoch 86/100\n",
            "85/85 [==============================] - 1s 11ms/step - loss: 6.6730e-04\n",
            "Epoch 87/100\n",
            "85/85 [==============================] - 1s 11ms/step - loss: 6.5658e-04\n",
            "Epoch 88/100\n",
            "85/85 [==============================] - 1s 12ms/step - loss: 6.5481e-04\n",
            "Epoch 89/100\n",
            "85/85 [==============================] - 1s 12ms/step - loss: 6.3294e-04\n",
            "Epoch 90/100\n",
            "85/85 [==============================] - 1s 12ms/step - loss: 6.5569e-04\n",
            "Epoch 91/100\n",
            "85/85 [==============================] - 1s 11ms/step - loss: 7.0660e-04\n",
            "Epoch 92/100\n",
            "85/85 [==============================] - 1s 11ms/step - loss: 6.3951e-04\n",
            "Epoch 93/100\n",
            "85/85 [==============================] - 1s 12ms/step - loss: 6.3240e-04\n",
            "Epoch 94/100\n",
            "85/85 [==============================] - 1s 11ms/step - loss: 6.7135e-04\n",
            "Epoch 95/100\n",
            "85/85 [==============================] - 1s 12ms/step - loss: 6.2942e-04\n",
            "Epoch 96/100\n",
            "85/85 [==============================] - 1s 12ms/step - loss: 6.2403e-04\n",
            "Epoch 97/100\n",
            "85/85 [==============================] - 1s 12ms/step - loss: 6.1385e-04\n",
            "Epoch 98/100\n",
            "85/85 [==============================] - 1s 12ms/step - loss: 6.0098e-04\n",
            "Epoch 99/100\n",
            "85/85 [==============================] - 1s 11ms/step - loss: 6.1074e-04\n",
            "Epoch 100/100\n",
            "85/85 [==============================] - 1s 11ms/step - loss: 6.0376e-04\n"
          ]
        },
        {
          "output_type": "execute_result",
          "data": {
            "text/plain": [
              "<keras.callbacks.History at 0x7fb9ebeb93d0>"
            ]
          },
          "metadata": {},
          "execution_count": 18
        }
      ]
    },
    {
      "cell_type": "code",
      "source": [
        "# 테스트\n",
        "X_test, y_test = make_sample(test_data, 30)\n",
        "pred = model.predict(X_test)\n",
        "\n",
        "import matplotlib.pyplot as plt\n",
        "plt.figure(figsize=(12, 9))\n",
        "plt.plot(y_test, label='stock price')\n",
        "plt.plot(pred, label='predicted stock price')\n",
        "plt.legend()\n",
        "plt.show()"
      ],
      "metadata": {
        "colab": {
          "base_uri": "https://localhost:8080/",
          "height": 537
        },
        "id": "zTpffww4t5wk",
        "outputId": "cae5fabd-be75-4deb-d6f9-4147511cec45"
      },
      "execution_count": 19,
      "outputs": [
        {
          "output_type": "display_data",
          "data": {
            "text/plain": [
              "<Figure size 864x648 with 1 Axes>"
            ],
            "image/png": "[encoded data removed]"
          },
          "metadata": {
            "needs_background": "light"
          }
        }
      ]
    },
    {
      "cell_type": "code",
      "source": [
        ""
      ],
      "metadata": {
        "id": "AAntHUbduNy2"
      },
      "execution_count": null,
      "outputs": []
    }
  ]
}