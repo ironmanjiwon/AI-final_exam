{
 "cells": [
  {
   "cell_type": "code",
   "execution_count": 2,
   "id": "4881587d",
   "metadata": {},
   "outputs": [
    {
     "name": "stdout",
     "output_type": "stream",
     "text": [
      "[ 9443 44983 28121  3357 31874 57058 46605 21007 31692 29001 25518 59760]\n"
     ]
    }
   ],
   "source": [
    "import numpy as np\n",
    "import tensorflow as tf\n",
    "\n",
    "# 데이터를 학습 데이터와 테스트 데이터로 나눈다. \n",
    "(x_train, y_train), (x_test, y_test) = tf.keras.datasets.mnist.load_data()\n",
    "\n",
    "data_size = x_train.shape[0]\n",
    "batch_size = 12\t# 배치 크기\n",
    "\n",
    "selected = np.random.choice(data_size, batch_size)\n",
    "print(selected)\n",
    "x_batch = x_train[selected]\n",
    "y_batch = y_train[selected]"
   ]
  },
  {
   "cell_type": "code",
   "execution_count": 3,
   "id": "2fa834d6",
   "metadata": {},
   "outputs": [],
   "source": [
    "#훈련 데이터 - 벡터 데이터, 이미지 데이터\n",
    "#시계열 데이터: 3차원 넘파이 텐서\n",
    "#케라스의 클래스: 모델(신경망), 레이어(층), 입력 데이터(텐서플로우 텐서), 손실 함수(출력, 정답 간 차이 측정), 옵티마이저(최적화 알고리즘)\n",
    "\n",
    "#sequential 모델"
   ]
  },
  {
   "cell_type": "code",
   "execution_count": 5,
   "id": "0a120fc2",
   "metadata": {},
   "outputs": [
    {
     "ename": "SyntaxError",
     "evalue": "invalid syntax (<ipython-input-5-6b2cb26d5166>, line 11)",
     "output_type": "error",
     "traceback": [
      "\u001b[1;36m  File \u001b[1;32m\"<ipython-input-5-6b2cb26d5166>\"\u001b[1;36m, line \u001b[1;32m11\u001b[0m\n\u001b[1;33m    model.compile(loss='mean_squared_error', optimizer=keras.optimizers.SGD(lr=0.3))\u001b[0m\n\u001b[1;37m    ^\u001b[0m\n\u001b[1;31mSyntaxError\u001b[0m\u001b[1;31m:\u001b[0m invalid syntax\n"
     ]
    }
   ],
   "source": [
    "#텐서플로우, 케라스\n",
    "#텐서플로우의 구조 → C++ → 케라스 라이브러리\n",
    "#XOR: 시그모이드 레이어\n",
    "\n",
    "#훈련 데이터\n",
    "model = tf.keras.models.Sequential()\n",
    "\n",
    "model.add(tf.keras.layers.Dense(units=2, input_shape=(2,), activation='sigmoid'))\n",
    "model.add(tf.keras.layers.Dense(units=1, activation='sigmoid')\n",
    "\n",
    "model.compile(loss='mean_squared_error', optimizer=keras.optimizers.SGD(lr=0.3))\n",
    "\n",
    "model.fit(X, y, batch_size=1, epochs=10000)\n",
    "\n",
    "print( model.predict(X) )"
   ]
  },
  {
   "cell_type": "code",
   "execution_count": 9,
   "id": "f9f2ad8e",
   "metadata": {},
   "outputs": [],
   "source": [
    "import matplotlib.pyplot as plt\n",
    "import tensorflow as tf\n",
    "\n",
    "(train_images, train_labels), (test_images, test_labels) = tf.keras.datasets.mnist.load_data()"
   ]
  },
  {
   "cell_type": "code",
   "execution_count": 16,
   "id": "a5051081",
   "metadata": {},
   "outputs": [
    {
     "data": {
      "text/plain": [
       "<matplotlib.image.AxesImage at 0x1f93f3b6b80>"
      ]
     },
     "execution_count": 16,
     "metadata": {},
     "output_type": "execute_result"
    },
    {
     "data": {
      "image/png": "[encoded data removed]",
      "text/plain": [
       "<Figure size 432x288 with 1 Axes>"
      ]
     },
     "metadata": {
      "needs_background": "light"
     },
     "output_type": "display_data"
    }
   ],
   "source": [
    "#신경망 모델 구축\n",
    "#컴파일 단계, 지표 설정\n",
    "\n",
    "#데이터 전처리\n",
    "#그래프 그리기\n",
    "\n",
    "train_images.shape\n",
    "\n",
    "plt.imshow(train_images[0], cmap=\"Greys\")"
   ]
  },
  {
   "cell_type": "code",
   "execution_count": 25,
   "id": "86b82935",
   "metadata": {},
   "outputs": [],
   "source": [
    "model = tf.keras.models.Sequential()\n",
    "\n",
    "model.add(tf.keras.layers.Dense(512, activation='relu', input_shape=(784,)))\n",
    "model.add(tf.keras.layers.Dense(10, activation='sigmoid'))\n",
    "\n",
    "#★ 축\n",
    "import numpy as np\n",
    "\n",
    "# x = np.array(\n",
    "# [[[0,1,2,3,4],\n",
    "#  [5,6,7,8,9]],\n",
    "# [[10,11,12,13,14],\n",
    "# [15,16,17,18,19]],\n",
    "# [[20,21,22,28,29]],])"
   ]
  },
  {
   "cell_type": "code",
   "execution_count": 26,
   "id": "26a36012",
   "metadata": {},
   "outputs": [],
   "source": [
    "model.compile(optimizer='rmsprop',\n",
    "                loss='mse',\n",
    "                metrics=['accuracy'])"
   ]
  },
  {
   "cell_type": "code",
   "execution_count": 27,
   "id": "dc488af5",
   "metadata": {},
   "outputs": [],
   "source": [
    "#훈련 데이터 - 벡터 데이터, 이미지 데이터\n",
    "#시계열 데이터: 3차원 넘파이 텐서\n",
    "#케라스의 클래스: 모델(신경망), 레이어(층), 입력 데이터(텐서플로우 텐서), 손실 함수(출력, 정답 간 차이 측정), 옵티마이저(최적화 알고리즘)\n",
    "\n",
    "#sequential 모델\n",
    "#레이어 클래스\n",
    "\n",
    "#손실 함수: MeanSquaredError, BinaryCrossentropy(엔트로피), Categorical Crossentropy, SparseCategroical Crossentropy\n",
    "\n",
    "#accuracy, categoricl accuracy(범주형 정확도)\n",
    "#옵티마이저: Nesterov 모멘텀, 가변 학습률 사용\n",
    "\n",
    "#활성화 함수\n",
    "#하이퍼 매개변수: 가중치\n",
    "\n",
    "#하이퍼 매개변수 지정 or 랜덤 검색\n",
    "#그리드 검색: 하이퍼 튜닝 → sklearn 패키지"
   ]
  },
  {
   "cell_type": "code",
   "execution_count": 28,
   "id": "674cd24a",
   "metadata": {},
   "outputs": [
    {
     "ename": "ImportError",
     "evalue": "cannot import name 'KerasClassfier' from 'tensorflow.keras.wrappers.scikit_learn' (C:\\Users\\ironm\\anaconda3\\lib\\site-packages\\keras\\api\\_v2\\keras\\wrappers\\scikit_learn\\__init__.py)",
     "output_type": "error",
     "traceback": [
      "\u001b[1;31m---------------------------------------------------------------------------\u001b[0m",
      "\u001b[1;31mImportError\u001b[0m                               Traceback (most recent call last)",
      "\u001b[1;32m<ipython-input-28-20939055aaa1>\u001b[0m in \u001b[0;36m<module>\u001b[1;34m\u001b[0m\n\u001b[0;32m      4\u001b[0m \u001b[1;33m\u001b[0m\u001b[0m\n\u001b[0;32m      5\u001b[0m \u001b[1;32mfrom\u001b[0m \u001b[0msklearn\u001b[0m\u001b[1;33m.\u001b[0m\u001b[0mmodel_selection\u001b[0m \u001b[1;32mimport\u001b[0m \u001b[0mGridSearchCV\u001b[0m\u001b[1;33m\u001b[0m\u001b[1;33m\u001b[0m\u001b[0m\n\u001b[1;32m----> 6\u001b[1;33m \u001b[1;32mfrom\u001b[0m \u001b[0mtensorflow\u001b[0m\u001b[1;33m.\u001b[0m\u001b[0mkeras\u001b[0m\u001b[1;33m.\u001b[0m\u001b[0mwrappers\u001b[0m\u001b[1;33m.\u001b[0m\u001b[0mscikit_learn\u001b[0m \u001b[1;32mimport\u001b[0m \u001b[0mKerasClassfier\u001b[0m\u001b[1;33m\u001b[0m\u001b[1;33m\u001b[0m\u001b[0m\n\u001b[0m",
      "\u001b[1;31mImportError\u001b[0m: cannot import name 'KerasClassfier' from 'tensorflow.keras.wrappers.scikit_learn' (C:\\Users\\ironm\\anaconda3\\lib\\site-packages\\keras\\api\\_v2\\keras\\wrappers\\scikit_learn\\__init__.py)"
     ]
    }
   ],
   "source": [
    "import numpy as np\n",
    "import matplotlib.pyplot as plt\n",
    "import tensorflow as tf\n",
    "\n",
    "from sklearn.model_selection import GridSearchCV\n",
    "from tensorflow.keras.wrappers.scikit_learn import KerasClassfier"
   ]
  },
  {
   "cell_type": "code",
   "execution_count": 20,
   "id": "f85a7f5e",
   "metadata": {},
   "outputs": [],
   "source": [
    "#풀 배치: 가중치 변경\n",
    "#SGD: 미니 배치\n",
    "#학습률: RMSprop / Adam\n",
    "#케라스: 신경망 모델 구축"
   ]
  },
  {
   "cell_type": "code",
   "execution_count": 38,
   "id": "7d09afac",
   "metadata": {},
   "outputs": [],
   "source": [
    "model.compile(optimizer='rmsprop',\n",
    "                loss='mse',\n",
    "                metrics=['accuracy'])\n",
    "\n",
    "train_images = train_images.reshape((60000, 784))\n",
    "train_images = train_images.astype('float32') / 255.0\n",
    "\n",
    "test_images = test_images.reshape((10000, 784))\n",
    "test_images = test_images.astype('float32') / 255.0"
   ]
  },
  {
   "cell_type": "code",
   "execution_count": 39,
   "id": "f5e963b6",
   "metadata": {},
   "outputs": [],
   "source": [
    "train_labels = tf.keras.utils.to_categorical(train_labels)\n",
    "test_labels = tf.keras.utils.to_categorical(test_labels)"
   ]
  },
  {
   "cell_type": "code",
   "execution_count": 42,
   "id": "3b21e53a",
   "metadata": {
    "lines_to_next_cell": 0
   },
   "outputs": [],
   "source": [
    "import numpy as np \n",
    "import matplotlib.pyplot as plt \n",
    "import tensorflow as tf\n",
    "from sklearn.model_selection import GridSearchCV\n",
    "from tensorflow.keras.wrappers.scikit_learn import KerasClassifier\n",
    "\n",
    "# 데이터 세트 준비\n",
    "(train_images, train_labels), (test_images, test_labels) = tf.keras.datasets.mnist.load_data()\n",
    "\n",
    "train_images = train_images.reshape((60000, 28 * 28))\n",
    "train_images = train_images.astype('float32') / 255\n",
    "\n",
    "test_images = test_images.reshape((10000, 28 * 28))\n",
    "test_images = test_images.astype('float32') / 255\n",
    "\n",
    "train_labels = tf.keras.utils.to_categorical(train_labels)\n",
    "test_labels = tf.keras.utils.to_categorical(test_labels)"
   ]
  },
  {
   "cell_type": "code",
   "execution_count": 43,
   "id": "f85c3ecc",
   "metadata": {},
   "outputs": [
    {
     "ename": "NameError",
     "evalue": "name 'build_model' is not defined",
     "output_type": "error",
     "traceback": [
      "\u001b[1;31m---------------------------------------------------------------------------\u001b[0m",
      "\u001b[1;31mNameError\u001b[0m                                 Traceback (most recent call last)",
      "\u001b[1;32m<ipython-input-43-d1cf0d658a90>\u001b[0m in \u001b[0;36m<module>\u001b[1;34m\u001b[0m\n\u001b[0;32m      1\u001b[0m \u001b[1;31m# 케라스 모델을 sklearn에서 사용하도록 포장한다.\u001b[0m\u001b[1;33m\u001b[0m\u001b[1;33m\u001b[0m\u001b[1;33m\u001b[0m\u001b[0m\n\u001b[1;32m----> 2\u001b[1;33m \u001b[0mmodel\u001b[0m \u001b[1;33m=\u001b[0m \u001b[0mKerasClassifier\u001b[0m\u001b[1;33m(\u001b[0m\u001b[0mbuild_fn\u001b[0m \u001b[1;33m=\u001b[0m \u001b[0mbuild_model\u001b[0m\u001b[1;33m,\u001b[0m \u001b[0mverbose\u001b[0m\u001b[1;33m=\u001b[0m\u001b[1;36m1\u001b[0m\u001b[1;33m)\u001b[0m\u001b[1;33m\u001b[0m\u001b[1;33m\u001b[0m\u001b[0m\n\u001b[0m\u001b[0;32m      3\u001b[0m \u001b[1;33m\u001b[0m\u001b[0m\n\u001b[0;32m      4\u001b[0m \u001b[1;31m# 그리드 검색\u001b[0m\u001b[1;33m\u001b[0m\u001b[1;33m\u001b[0m\u001b[1;33m\u001b[0m\u001b[0m\n\u001b[0;32m      5\u001b[0m gs = GridSearchCV(\n",
      "\u001b[1;31mNameError\u001b[0m: name 'build_model' is not defined"
     ]
    }
   ],
   "source": []
  },
  {
   "cell_type": "code",
   "execution_count": null,
   "id": "d6acf3db",
   "metadata": {
    "lines_to_next_cell": 2
   },
   "outputs": [],
   "source": []
  }
 ],
 "metadata": {
  "jupytext": {
   "formats": "ipynb,py:light"
  },
  "kernelspec": {
   "display_name": "Python 3",
   "language": "python",
   "name": "python3"
  },
  "language_info": {
   "codemirror_mode": {
    "name": "ipython",
    "version": 3
   },
   "file_extension": ".py",
   "mimetype": "text/x-python",
   "name": "python",
   "nbconvert_exporter": "python",
   "pygments_lexer": "ipython3",
   "version": "3.8.8"
  }
 },
 "nbformat": 4,
 "nbformat_minor": 5
}
