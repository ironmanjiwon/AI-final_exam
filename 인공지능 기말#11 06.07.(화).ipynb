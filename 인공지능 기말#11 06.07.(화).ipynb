{
 "cells": [
  {
   "cell_type": "code",
   "execution_count": 1,
   "id": "2f623a8a",
   "metadata": {},
   "outputs": [],
   "source": [
    "#14장. 생성 모델\n",
    "#CNN, 오토인코더\n",
    "\n",
    "#새로운 샘플 생성 → GAN → 랜덤으로 출력\n",
    "#생성 모델 → 노이즈(예측값)\n",
    "\n",
    "#확률적\n",
    "#분류 모델 vs 생성 모델\n",
    "\n",
    "#조건부 확률: p(y | x)\n",
    "\n",
    "#함수형 API"
   ]
  },
  {
   "cell_type": "code",
   "execution_count": 2,
   "id": "a3af9ad5",
   "metadata": {},
   "outputs": [],
   "source": [
    "#p.528\n",
    "import numpy as np\n",
    "import tensorflow as tf\n",
    "from tensorflow import keras\n",
    "from tensorflow.keras import layers\n",
    "\n",
    "inputs = keras.Input(shape=(784,))\t\t\t# (1)\n",
    "dense = layers.Dense(64, activation=\"relu\")\t\t# (2)\n",
    "x = dense(inputs)\t\t\t\t\t# (3)\n",
    "x = layers.Dense(64, activation=\"relu\")(x)\t\t# (4)\n",
    "outputs = layers.Dense(10)(x)\t\t\t\t# (5)\n",
    "\n",
    "model = keras.Model(inputs=inputs, outputs=outputs)"
   ]
  },
  {
   "cell_type": "code",
   "execution_count": 3,
   "id": "061aa52f",
   "metadata": {},
   "outputs": [
    {
     "name": "stdout",
     "output_type": "stream",
     "text": [
      "Epoch 1/2\n",
      "750/750 [==============================] - 3s 3ms/step - loss: 0.3444 - accuracy: 0.9025 - val_loss: 0.1869 - val_accuracy: 0.9458\n",
      "Epoch 2/2\n",
      "750/750 [==============================] - 2s 3ms/step - loss: 0.1611 - accuracy: 0.9531 - val_loss: 0.1347 - val_accuracy: 0.9600\n",
      "313/313 - 0s - loss: 0.1332 - accuracy: 0.9615 - 393ms/epoch - 1ms/step\n"
     ]
    }
   ],
   "source": [
    "\n",
    "(x_train, y_train), (x_test, y_test) = keras.datasets.mnist.load_data()\n",
    "\n",
    "x_train = x_train.reshape(60000, 784).astype(\"float32\") / 255\n",
    "x_test = x_test.reshape(10000, 784).astype(\"float32\") / 255\n",
    "\n",
    "model.compile(\n",
    "    loss=keras.losses.SparseCategoricalCrossentropy(from_logits=True),\n",
    "    optimizer=keras.optimizers.RMSprop(),\n",
    "    metrics=[\"accuracy\"],\n",
    ")\n",
    "\n",
    "history = model.fit(x_train, y_train, batch_size=64, epochs=2, validation_split=0.2)\n",
    "test_scores = model.evaluate(x_test, y_test, verbose=2)"
   ]
  },
  {
   "cell_type": "code",
   "execution_count": 4,
   "id": "a138fa86",
   "metadata": {},
   "outputs": [],
   "source": [
    "#오토인코더: 입력과 동일한 출력 생성 → 차원 축소\n",
    "#요소: 인코더, 디코더\n",
    "#MSE\n",
    "\n",
    "#32차원 공간(784차원)"
   ]
  },
  {
   "cell_type": "code",
   "execution_count": 5,
   "id": "8c56b9d0",
   "metadata": {},
   "outputs": [],
   "source": [
    "import matplotlib.pyplot as plt\n",
    "import numpy as np\n",
    "import tensorflow as tf\n",
    "\n",
    "encoding_dim = 32  \t\t# 32 픽셀로 압출\n",
    "\n",
    "# 함수형 API로 신경망 구성\n",
    "input_img = tf.keras.layers.Input(shape=(784,))\n",
    "encoded = tf.keras.layers.Dense(encoding_dim, activation='relu')(input_img)\n",
    "decoded = tf.keras.layers.Dense(784, activation='sigmoid')(encoded)\n",
    "autoencoder = tf.keras.models.Model(input_img, decoded)\n",
    "\n",
    "autoencoder.compile(optimizer='adam', loss=tf.keras.losses.MeanSquaredError())"
   ]
  },
  {
   "cell_type": "code",
   "execution_count": 6,
   "id": "392a6a33",
   "metadata": {},
   "outputs": [
    {
     "name": "stdout",
     "output_type": "stream",
     "text": [
      "Epoch 1/50\n",
      "235/235 [==============================] - 2s 7ms/step - loss: 0.0707 - val_loss: 0.0406\n",
      "Epoch 2/50\n",
      "235/235 [==============================] - 1s 5ms/step - loss: 0.0350 - val_loss: 0.0297\n",
      "Epoch 3/50\n",
      "235/235 [==============================] - 1s 5ms/step - loss: 0.0267 - val_loss: 0.0232\n",
      "Epoch 4/50\n",
      "235/235 [==============================] - 1s 6ms/step - loss: 0.0214 - val_loss: 0.0191\n",
      "Epoch 5/50\n",
      "235/235 [==============================] - 2s 7ms/step - loss: 0.0181 - val_loss: 0.0165\n",
      "Epoch 6/50\n",
      "235/235 [==============================] - 2s 8ms/step - loss: 0.0158 - val_loss: 0.0145\n",
      "Epoch 7/50\n",
      "235/235 [==============================] - 2s 7ms/step - loss: 0.0142 - val_loss: 0.0132\n",
      "Epoch 8/50\n",
      "235/235 [==============================] - 2s 7ms/step - loss: 0.0130 - val_loss: 0.0122\n",
      "Epoch 9/50\n",
      "235/235 [==============================] - 2s 6ms/step - loss: 0.0122 - val_loss: 0.0115\n",
      "Epoch 10/50\n",
      "235/235 [==============================] - 2s 7ms/step - loss: 0.0116 - val_loss: 0.0111\n",
      "Epoch 11/50\n",
      "235/235 [==============================] - 2s 7ms/step - loss: 0.0112 - val_loss: 0.0107\n",
      "Epoch 12/50\n",
      "235/235 [==============================] - 2s 7ms/step - loss: 0.0110 - val_loss: 0.0105\n",
      "Epoch 13/50\n",
      "235/235 [==============================] - 1s 6ms/step - loss: 0.0108 - val_loss: 0.0103\n",
      "Epoch 14/50\n",
      "235/235 [==============================] - 2s 7ms/step - loss: 0.0107 - val_loss: 0.0103\n",
      "Epoch 15/50\n",
      "235/235 [==============================] - 1s 6ms/step - loss: 0.0105 - val_loss: 0.0102\n",
      "Epoch 16/50\n",
      "235/235 [==============================] - 2s 6ms/step - loss: 0.0105 - val_loss: 0.0101\n",
      "Epoch 17/50\n",
      "235/235 [==============================] - 1s 6ms/step - loss: 0.0104 - val_loss: 0.0101\n",
      "Epoch 18/50\n",
      "235/235 [==============================] - 2s 7ms/step - loss: 0.0104 - val_loss: 0.0100\n",
      "Epoch 19/50\n",
      "235/235 [==============================] - 1s 6ms/step - loss: 0.0103 - val_loss: 0.0100\n",
      "Epoch 20/50\n",
      "235/235 [==============================] - 2s 7ms/step - loss: 0.0103 - val_loss: 0.0100\n",
      "Epoch 21/50\n",
      "235/235 [==============================] - 2s 7ms/step - loss: 0.0103 - val_loss: 0.0099\n",
      "Epoch 22/50\n",
      "235/235 [==============================] - 2s 7ms/step - loss: 0.0102 - val_loss: 0.0099\n",
      "Epoch 23/50\n",
      "235/235 [==============================] - 2s 7ms/step - loss: 0.0102 - val_loss: 0.0099\n",
      "Epoch 24/50\n",
      "235/235 [==============================] - 2s 7ms/step - loss: 0.0102 - val_loss: 0.0099\n",
      "Epoch 25/50\n",
      "235/235 [==============================] - 2s 7ms/step - loss: 0.0102 - val_loss: 0.0099\n",
      "Epoch 26/50\n",
      "235/235 [==============================] - 2s 7ms/step - loss: 0.0102 - val_loss: 0.0099\n",
      "Epoch 27/50\n",
      "235/235 [==============================] - 2s 7ms/step - loss: 0.0101 - val_loss: 0.0098\n",
      "Epoch 28/50\n",
      "235/235 [==============================] - 2s 9ms/step - loss: 0.0101 - val_loss: 0.0098\n",
      "Epoch 29/50\n",
      "235/235 [==============================] - 2s 9ms/step - loss: 0.0101 - val_loss: 0.0098\n",
      "Epoch 30/50\n",
      "235/235 [==============================] - 2s 7ms/step - loss: 0.0101 - val_loss: 0.0098\n",
      "Epoch 31/50\n",
      "235/235 [==============================] - 2s 6ms/step - loss: 0.0101 - val_loss: 0.0098\n",
      "Epoch 32/50\n",
      "235/235 [==============================] - 2s 6ms/step - loss: 0.0101 - val_loss: 0.0098\n",
      "Epoch 33/50\n",
      "235/235 [==============================] - 2s 7ms/step - loss: 0.0101 - val_loss: 0.0098\n",
      "Epoch 34/50\n",
      "235/235 [==============================] - 2s 6ms/step - loss: 0.0101 - val_loss: 0.0098\n",
      "Epoch 35/50\n",
      "235/235 [==============================] - 2s 7ms/step - loss: 0.0100 - val_loss: 0.0098\n",
      "Epoch 36/50\n",
      "235/235 [==============================] - 2s 7ms/step - loss: 0.0100 - val_loss: 0.0097\n",
      "Epoch 37/50\n",
      "235/235 [==============================] - 2s 7ms/step - loss: 0.0100 - val_loss: 0.0097\n",
      "Epoch 38/50\n",
      "235/235 [==============================] - 2s 7ms/step - loss: 0.0100 - val_loss: 0.0097\n",
      "Epoch 39/50\n",
      "235/235 [==============================] - 2s 8ms/step - loss: 0.0100 - val_loss: 0.0097\n",
      "Epoch 40/50\n",
      "235/235 [==============================] - 2s 8ms/step - loss: 0.0100 - val_loss: 0.0097\n",
      "Epoch 41/50\n",
      "235/235 [==============================] - 2s 8ms/step - loss: 0.0100 - val_loss: 0.0097\n",
      "Epoch 42/50\n",
      "235/235 [==============================] - 2s 7ms/step - loss: 0.0100 - val_loss: 0.0097\n",
      "Epoch 43/50\n",
      "235/235 [==============================] - 2s 7ms/step - loss: 0.0100 - val_loss: 0.0097\n",
      "Epoch 44/50\n",
      "235/235 [==============================] - 2s 7ms/step - loss: 0.0100 - val_loss: 0.0097\n",
      "Epoch 45/50\n",
      "235/235 [==============================] - 2s 7ms/step - loss: 0.0100 - val_loss: 0.0097\n",
      "Epoch 46/50\n",
      "235/235 [==============================] - 2s 8ms/step - loss: 0.0100 - val_loss: 0.0097\n",
      "Epoch 47/50\n",
      "235/235 [==============================] - 2s 7ms/step - loss: 0.0100 - val_loss: 0.0097\n",
      "Epoch 48/50\n",
      "235/235 [==============================] - 2s 7ms/step - loss: 0.0099 - val_loss: 0.0097\n",
      "Epoch 49/50\n",
      "235/235 [==============================] - 1s 6ms/step - loss: 0.0099 - val_loss: 0.0097\n",
      "Epoch 50/50\n",
      "235/235 [==============================] - 1s 6ms/step - loss: 0.0099 - val_loss: 0.0097\n"
     ]
    },
    {
     "data": {
      "text/plain": [
       "<keras.callbacks.History at 0x189aac8e580>"
      ]
     },
     "execution_count": 6,
     "metadata": {},
     "output_type": "execute_result"
    }
   ],
   "source": [
    "mnist = tf.keras.datasets.mnist\n",
    "(x_train, _), (x_test, _) = mnist.load_data()\n",
    "\n",
    "x_train = x_train.astype('float32') / 255.\n",
    "x_test = x_test.astype('float32') / 255.\n",
    "x_train = x_train.reshape((len(x_train), np.prod(x_train.shape[1:])))\n",
    "x_test = x_test.reshape((len(x_test), np.prod(x_test.shape[1:])))\n",
    "\n",
    "autoencoder.fit(x_train, x_train,\n",
    "                epochs=50,\n",
    "                batch_size=256,\n",
    "                shuffle=True,\n",
    "                validation_data=(x_test, x_test))"
   ]
  },
  {
   "cell_type": "code",
   "execution_count": 7,
   "id": "1ebd7932",
   "metadata": {},
   "outputs": [
    {
     "name": "stdout",
     "output_type": "stream",
     "text": [
      "313/313 [==============================] - 0s 1ms/step\n"
     ]
    },
    {
     "data": {
      "image/png": "[encoded data removed]",
      "text/plain": [
       "<Figure size 1440x432 with 20 Axes>"
      ]
     },
     "metadata": {
      "needs_background": "light"
     },
     "output_type": "display_data"
    }
   ],
   "source": [
    "decoded_imgs = autoencoder.predict(x_test)\n",
    "\n",
    "n = 10\n",
    "plt.figure(figsize=(20, 6))\n",
    "for i in range(1, n + 1):\n",
    "    ax = plt.subplot(2, n, i)\n",
    "    plt.imshow(x_test[i].reshape(28, 28), cmap='gray')\n",
    "\n",
    "    ax = plt.subplot(2, n, i + n)\n",
    "    plt.imshow(decoded_imgs[i].reshape(28, 28), cmap='gray')\n",
    "plt.show()"
   ]
  },
  {
   "cell_type": "code",
   "execution_count": 8,
   "id": "9da9aa53",
   "metadata": {},
   "outputs": [],
   "source": [
    "import matplotlib.pyplot as plt\n",
    "import numpy as np\n",
    "import tensorflow as tf\n",
    "\n",
    "encoding_dim = 32  \n",
    "input_img = tf.keras.layers.Input(shape=(784,))\n",
    "encoded = tf.keras.layers.Dense(encoding_dim, activation='relu')(input_img)\n",
    "decoded = tf.keras.layers.Dense(784, activation='sigmoid')(encoded)\n",
    "autoencoder = tf.keras.models.Model(input_img, decoded)"
   ]
  },
  {
   "cell_type": "code",
   "execution_count": 9,
   "id": "48b07d04",
   "metadata": {},
   "outputs": [],
   "source": [
    "mnist = tf.keras.datasets.mnist\n",
    "\n",
    "(x_train, _), (x_test, _) = mnist.load_data()\n",
    "x_train = x_train.astype('float32') / 255.\n",
    "x_test = x_test.astype('float32') / 255.\n",
    "x_train = x_train.reshape((len(x_train), np.prod(x_train.shape[1:])))\n",
    "x_test = x_test.reshape((len(x_test), np.prod(x_test.shape[1:])))"
   ]
  },
  {
   "cell_type": "code",
   "execution_count": 10,
   "id": "6902dfed",
   "metadata": {},
   "outputs": [],
   "source": [
    "noise_factor = 0.55\n",
    "\n",
    "original_train = x_train\n",
    "original_test = x_test\n",
    "noise_train = np.random.normal(0, 1, original_train.shape)\n",
    "noise_test = np.random.normal(0, 1, original_test.shape)\n",
    "noisy_train = original_train + noise_factor * noise_train\n",
    "noisy_test = original_test + noise_factor * noise_test"
   ]
  },
  {
   "cell_type": "code",
   "execution_count": 11,
   "id": "7d06a318",
   "metadata": {},
   "outputs": [
    {
     "name": "stdout",
     "output_type": "stream",
     "text": [
      "Epoch 1/50\n",
      "235/235 [==============================] - 2s 6ms/step - loss: 0.0738 - val_loss: 0.0473\n",
      "Epoch 2/50\n",
      "235/235 [==============================] - 1s 6ms/step - loss: 0.0412 - val_loss: 0.0360\n",
      "Epoch 3/50\n",
      "235/235 [==============================] - 2s 6ms/step - loss: 0.0335 - val_loss: 0.0308\n",
      "Epoch 4/50\n",
      "235/235 [==============================] - 2s 7ms/step - loss: 0.0295 - val_loss: 0.0278\n",
      "Epoch 5/50\n",
      "235/235 [==============================] - 2s 7ms/step - loss: 0.0271 - val_loss: 0.0260\n",
      "Epoch 6/50\n",
      "235/235 [==============================] - 2s 7ms/step - loss: 0.0254 - val_loss: 0.0245\n",
      "Epoch 7/50\n",
      "235/235 [==============================] - 2s 7ms/step - loss: 0.0241 - val_loss: 0.0234\n",
      "Epoch 8/50\n",
      "235/235 [==============================] - 2s 7ms/step - loss: 0.0232 - val_loss: 0.0225\n",
      "Epoch 9/50\n",
      "235/235 [==============================] - 2s 7ms/step - loss: 0.0225 - val_loss: 0.0220\n",
      "Epoch 10/50\n",
      "235/235 [==============================] - 2s 7ms/step - loss: 0.0221 - val_loss: 0.0216\n",
      "Epoch 11/50\n",
      "235/235 [==============================] - 2s 7ms/step - loss: 0.0218 - val_loss: 0.0215\n",
      "Epoch 12/50\n",
      "235/235 [==============================] - 2s 7ms/step - loss: 0.0217 - val_loss: 0.0213\n",
      "Epoch 13/50\n",
      "235/235 [==============================] - 2s 6ms/step - loss: 0.0216 - val_loss: 0.0213\n",
      "Epoch 14/50\n",
      "235/235 [==============================] - 2s 7ms/step - loss: 0.0215 - val_loss: 0.0212\n",
      "Epoch 15/50\n",
      "235/235 [==============================] - 2s 7ms/step - loss: 0.0214 - val_loss: 0.0211\n",
      "Epoch 16/50\n",
      "235/235 [==============================] - 2s 7ms/step - loss: 0.0214 - val_loss: 0.0211\n",
      "Epoch 17/50\n",
      "235/235 [==============================] - 2s 7ms/step - loss: 0.0214 - val_loss: 0.0211\n",
      "Epoch 18/50\n",
      "235/235 [==============================] - 2s 7ms/step - loss: 0.0214 - val_loss: 0.0211\n",
      "Epoch 19/50\n",
      "235/235 [==============================] - 2s 7ms/step - loss: 0.0213 - val_loss: 0.0211\n",
      "Epoch 20/50\n",
      "235/235 [==============================] - 2s 7ms/step - loss: 0.0213 - val_loss: 0.0211\n",
      "Epoch 21/50\n",
      "235/235 [==============================] - 2s 6ms/step - loss: 0.0213 - val_loss: 0.0210\n",
      "Epoch 22/50\n",
      "235/235 [==============================] - 2s 7ms/step - loss: 0.0213 - val_loss: 0.0210\n",
      "Epoch 23/50\n",
      "235/235 [==============================] - 2s 7ms/step - loss: 0.0213 - val_loss: 0.0210\n",
      "Epoch 24/50\n",
      "235/235 [==============================] - 2s 7ms/step - loss: 0.0212 - val_loss: 0.0210\n",
      "Epoch 25/50\n",
      "235/235 [==============================] - 2s 6ms/step - loss: 0.0212 - val_loss: 0.0210\n",
      "Epoch 26/50\n",
      "235/235 [==============================] - 2s 7ms/step - loss: 0.0212 - val_loss: 0.0210\n",
      "Epoch 27/50\n",
      "235/235 [==============================] - 2s 7ms/step - loss: 0.0212 - val_loss: 0.0210\n",
      "Epoch 28/50\n",
      "235/235 [==============================] - 2s 7ms/step - loss: 0.0212 - val_loss: 0.0210\n",
      "Epoch 29/50\n",
      "235/235 [==============================] - 2s 7ms/step - loss: 0.0212 - val_loss: 0.0209\n",
      "Epoch 30/50\n",
      "235/235 [==============================] - 2s 7ms/step - loss: 0.0212 - val_loss: 0.0209\n",
      "Epoch 31/50\n",
      "235/235 [==============================] - 2s 7ms/step - loss: 0.0212 - val_loss: 0.0210\n",
      "Epoch 32/50\n",
      "235/235 [==============================] - 2s 7ms/step - loss: 0.0212 - val_loss: 0.0209\n",
      "Epoch 33/50\n",
      "235/235 [==============================] - 2s 7ms/step - loss: 0.0212 - val_loss: 0.0209\n",
      "Epoch 34/50\n",
      "235/235 [==============================] - 2s 7ms/step - loss: 0.0212 - val_loss: 0.0209\n",
      "Epoch 35/50\n",
      "235/235 [==============================] - 2s 7ms/step - loss: 0.0211 - val_loss: 0.0209\n",
      "Epoch 36/50\n",
      "235/235 [==============================] - 2s 7ms/step - loss: 0.0211 - val_loss: 0.0209\n",
      "Epoch 37/50\n",
      "235/235 [==============================] - 2s 6ms/step - loss: 0.0211 - val_loss: 0.0209\n",
      "Epoch 38/50\n",
      "235/235 [==============================] - 2s 7ms/step - loss: 0.0211 - val_loss: 0.0209\n",
      "Epoch 39/50\n",
      "235/235 [==============================] - 2s 7ms/step - loss: 0.0211 - val_loss: 0.0209\n",
      "Epoch 40/50\n",
      "235/235 [==============================] - 2s 6ms/step - loss: 0.0211 - val_loss: 0.0209\n",
      "Epoch 41/50\n",
      "235/235 [==============================] - 2s 7ms/step - loss: 0.0211 - val_loss: 0.0209\n",
      "Epoch 42/50\n",
      "235/235 [==============================] - 2s 8ms/step - loss: 0.0211 - val_loss: 0.0209\n",
      "Epoch 43/50\n",
      "235/235 [==============================] - 2s 9ms/step - loss: 0.0211 - val_loss: 0.0209\n",
      "Epoch 44/50\n",
      "235/235 [==============================] - 2s 9ms/step - loss: 0.0211 - val_loss: 0.0209\n",
      "Epoch 45/50\n",
      "235/235 [==============================] - 2s 8ms/step - loss: 0.0211 - val_loss: 0.0208\n",
      "Epoch 46/50\n",
      "235/235 [==============================] - 2s 9ms/step - loss: 0.0211 - val_loss: 0.0209\n",
      "Epoch 47/50\n",
      "235/235 [==============================] - 2s 7ms/step - loss: 0.0211 - val_loss: 0.0208\n",
      "Epoch 48/50\n",
      "235/235 [==============================] - 2s 6ms/step - loss: 0.0211 - val_loss: 0.0209\n",
      "Epoch 49/50\n",
      "235/235 [==============================] - 2s 10ms/step - loss: 0.0211 - val_loss: 0.0209\n",
      "Epoch 50/50\n",
      "235/235 [==============================] - 1s 6ms/step - loss: 0.0211 - val_loss: 0.0208\n",
      "313/313 [==============================] - 1s 2ms/step\n"
     ]
    }
   ],
   "source": [
    "autoencoder.compile(optimizer='adam', loss='mse')\n",
    "\n",
    "autoencoder.fit(noisy_train, original_train,\n",
    "                epochs=50,\n",
    "                batch_size=256,\n",
    "                shuffle=True,\n",
    "                validation_data=(noisy_test, original_test))\n",
    "\n",
    "denoised_images = autoencoder.predict(noisy_test)"
   ]
  },
  {
   "cell_type": "code",
   "execution_count": 12,
   "id": "51bfa59c",
   "metadata": {},
   "outputs": [
    {
     "data": {
      "image/png": "[encoded data removed]",
      "text/plain": [
       "<Figure size 1440x432 with 30 Axes>"
      ]
     },
     "metadata": {
      "needs_background": "light"
     },
     "output_type": "display_data"
    }
   ],
   "source": [
    "n = 10\n",
    "plt.figure(figsize=(20, 6))\n",
    "for i in range(1, n + 1):\n",
    "    ax = plt.subplot(3, n, i)\n",
    "    plt.imshow(noisy_test[i].reshape(28, 28), cmap='gray')\n",
    "    plt.gray()\n",
    "\n",
    "    ax = plt.subplot(3, n, i + n)\n",
    "    plt.imshow(denoised_images[i].reshape(28, 28), cmap='gray')\n",
    "    plt.gray()\n",
    "\n",
    "    ax = plt.subplot(3, n, i + 2*n)\n",
    "    plt.imshow(original_test[i].reshape(28, 28), cmap='gray')\n",
    "    plt.gray()\n",
    "plt.show()"
   ]
  },
  {
   "cell_type": "code",
   "execution_count": 13,
   "id": "144c0092",
   "metadata": {},
   "outputs": [],
   "source": [
    "#GAN: 생성적 적대 신경망 → 생성자, 판별자\n",
    "\n",
    "#GAN의 구조: 생성자, 판별자 → 자동 특징 추출\n",
    "\n",
    "#판별자 훈련 → 생성자 훈련"
   ]
  },
  {
   "cell_type": "code",
   "execution_count": 14,
   "id": "d653913e",
   "metadata": {},
   "outputs": [],
   "source": [
    "import numpy as np\n",
    "import tensorflow as tf\n",
    "from matplotlib import pyplot as plt\n",
    "\n",
    "# 학습 데이터와 테스트 데이터 분리\n",
    "(x_train, y_train), (x_test, y_test) = tf.keras.datasets.mnist.load_data()\n",
    "\n",
    "# 이미지를 [0, 1] 범위로 스케일링\n",
    "x_train = x_train.astype(\"float32\") / 255\n",
    "x_test = x_test.astype(\"float32\") / 255"
   ]
  },
  {
   "cell_type": "code",
   "execution_count": 15,
   "id": "ba00870e",
   "metadata": {},
   "outputs": [],
   "source": [
    "BATCH_SIZE=128\n",
    "EPOCHS=2000\n",
    "Z_DIMENSIONS=32\n",
    "data = np.reshape(x_train, (x_train.shape[0], 28, 28, 1))"
   ]
  },
  {
   "cell_type": "code",
   "execution_count": 16,
   "id": "48c7020d",
   "metadata": {},
   "outputs": [],
   "source": [
    "def make_discriminator():\n",
    "    model = tf.keras.Sequential()\n",
    "    model.add(tf.keras.layers.Conv2D(64, (5, 5), strides=(2, 2), padding='same', \n",
    "\tactivation='relu', input_shape=[28, 28, 1]))\n",
    "    model.add(tf.keras.layers.Dropout(0.4))\n",
    "\n",
    "    model.add(tf.keras.layers.Conv2D(128, (5, 5), strides=(2, 2), padding='same', \n",
    "\tactivation='relu'))\n",
    "    model.add(tf.keras.layers.Dropout(0.4))\n",
    "\n",
    "    model.add(tf.keras.layers.Conv2D(256, (5, 5), strides=(2, 2), padding='same', \n",
    "\tactivation='relu'))\n",
    "    model.add(tf.keras.layers.Dropout(0.4))\n",
    "    model.add(tf.keras.layers.Flatten())\n",
    "    model.add(tf.keras.layers.Dense(1, activation='sigmoid'))\n",
    "\n",
    "    return model"
   ]
  },
  {
   "cell_type": "code",
   "execution_count": 18,
   "id": "0bc37e33",
   "metadata": {},
   "outputs": [],
   "source": [
    "discriminator = make_discriminator()\n",
    "\n",
    "discriminator.compile(loss='binary_crossentropy',\n",
    "                      optimizer=tf.keras.optimizers.Adam(learning_rate=0.0004),\n",
    "                      metrics=['accuracy'])"
   ]
  },
  {
   "cell_type": "code",
   "execution_count": 23,
   "id": "263348ef",
   "metadata": {},
   "outputs": [],
   "source": [
    "def make_generator():\n",
    "    model = tf.keras.Sequential()\n",
    "\n",
    "    model.add(tf.keras.layers.Dense(7*7*64, input_shape=(Z_DIMENSIONS,)))\n",
    "    model.add(tf.keras.layers.BatchNormalization(momentum=0.9))\n",
    "    model.add(tf.keras.layers.LeakyReLU())\n",
    "    model.add(tf.keras.layers.Reshape((7, 7, 64)))\n",
    "    model.add(tf.keras.layers.Dropout(0.4))\n",
    "\n",
    "    model.add(tf.keras.layers.UpSampling2D())\n",
    "    model.add(tf.keras.layers.Conv2DTranspose(32,\n",
    "                            kernel_size=5, padding='same',\n",
    "                            activation=None,))\n",
    "    model.add(tf.keras.layers.BatchNormalization(momentum=0.9))\n",
    "    model.add(tf.keras.layers.LeakyReLU())"
   ]
  },
  {
   "cell_type": "code",
   "execution_count": 24,
   "id": "11e5a161",
   "metadata": {},
   "outputs": [
    {
     "ename": "AttributeError",
     "evalue": "'Functional' object has no attribute 'add'",
     "output_type": "error",
     "traceback": [
      "\u001b[1;31m---------------------------------------------------------------------------\u001b[0m",
      "\u001b[1;31mAttributeError\u001b[0m                            Traceback (most recent call last)",
      "\u001b[1;32m<ipython-input-24-634c2c4aab22>\u001b[0m in \u001b[0;36m<module>\u001b[1;34m\u001b[0m\n\u001b[1;32m----> 1\u001b[1;33m \u001b[0mmodel\u001b[0m\u001b[1;33m.\u001b[0m\u001b[0madd\u001b[0m\u001b[1;33m(\u001b[0m\u001b[0mtf\u001b[0m\u001b[1;33m.\u001b[0m\u001b[0mkeras\u001b[0m\u001b[1;33m.\u001b[0m\u001b[0mlayers\u001b[0m\u001b[1;33m.\u001b[0m\u001b[0mUpSampling2D\u001b[0m\u001b[1;33m(\u001b[0m\u001b[1;33m)\u001b[0m\u001b[1;33m)\u001b[0m\u001b[1;33m\u001b[0m\u001b[1;33m\u001b[0m\u001b[0m\n\u001b[0m\u001b[0;32m      2\u001b[0m model.add(tf.keras.layers.Conv2DTranspose(16,\n\u001b[0;32m      3\u001b[0m                         \u001b[0mkernel_size\u001b[0m\u001b[1;33m=\u001b[0m\u001b[1;36m5\u001b[0m\u001b[1;33m,\u001b[0m \u001b[0mpadding\u001b[0m\u001b[1;33m=\u001b[0m\u001b[1;34m'same'\u001b[0m\u001b[1;33m,\u001b[0m\u001b[1;33m\u001b[0m\u001b[1;33m\u001b[0m\u001b[0m\n\u001b[0;32m      4\u001b[0m                         activation=None,))\n\u001b[0;32m      5\u001b[0m \u001b[0mmodel\u001b[0m\u001b[1;33m.\u001b[0m\u001b[0madd\u001b[0m\u001b[1;33m(\u001b[0m\u001b[0mtf\u001b[0m\u001b[1;33m.\u001b[0m\u001b[0mkeras\u001b[0m\u001b[1;33m.\u001b[0m\u001b[0mlayers\u001b[0m\u001b[1;33m.\u001b[0m\u001b[0mBatchNormalization\u001b[0m\u001b[1;33m(\u001b[0m\u001b[0mmomentum\u001b[0m\u001b[1;33m=\u001b[0m\u001b[1;36m0.9\u001b[0m\u001b[1;33m)\u001b[0m\u001b[1;33m)\u001b[0m\u001b[1;33m\u001b[0m\u001b[1;33m\u001b[0m\u001b[0m\n",
      "\u001b[1;31mAttributeError\u001b[0m: 'Functional' object has no attribute 'add'"
     ]
    }
   ],
   "source": [
    "\n",
    "\n",
    "    model.add(tf.keras.layers.UpSampling2D())\n",
    "    model.add(tf.keras.layers.Conv2DTranspose(16,\n",
    "                            kernel_size=5, padding='same',\n",
    "                            activation=None,))\n",
    "    model.add(tf.keras.layers.BatchNormalization(momentum=0.9))\n",
    "    model.add(tf.keras.layers.LeakyReLU())\n",
    "\n",
    "    model.add(tf.keras.layers.Conv2D(1, kernel_size=5, padding='same',\n",
    "                   activation='sigmoid'))\n",
    "    return model"
   ]
  },
  {
   "cell_type": "code",
   "execution_count": null,
   "id": "5efe7e59",
   "metadata": {},
   "outputs": [],
   "source": []
  }
 ],
 "metadata": {
  "kernelspec": {
   "display_name": "Python 3",
   "language": "python",
   "name": "python3"
  },
  "language_info": {
   "codemirror_mode": {
    "name": "ipython",
    "version": 3
   },
   "file_extension": ".py",
   "mimetype": "text/x-python",
   "name": "python",
   "nbconvert_exporter": "python",
   "pygments_lexer": "ipython3",
   "version": "3.8.8"
  }
 },
 "nbformat": 4,
 "nbformat_minor": 5
}
