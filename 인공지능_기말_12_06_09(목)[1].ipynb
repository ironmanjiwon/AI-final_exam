{
  "cells": [
    {
      "cell_type": "markdown",
      "metadata": {
        "id": "view-in-github",
        "colab_type": "text"
      },
      "source": [
        "<a href=\"https://colab.research.google.com/github/ironmanjiwon/AI-final_exam/blob/main/%EC%9D%B8%EA%B3%B5%EC%A7%80%EB%8A%A5_%EA%B8%B0%EB%A7%90_12_06_09(%EB%AA%A9)%5B1%5D.ipynb\" target=\"_parent\"><img src=\"https://colab.research.google.com/assets/colab-badge.svg\" alt=\"Open In Colab\"/></a>"
      ]
    },
    {
      "cell_type": "markdown",
      "id": "f699eee3",
      "metadata": {
        "id": "f699eee3"
      },
      "source": [
        "# **1. 라이브러리 import**"
      ]
    },
    {
      "cell_type": "code",
      "source": [
        "from google.colab import drive\n",
        "drive.mount('/content/drive')"
      ],
      "metadata": {
        "colab": {
          "base_uri": "https://localhost:8080/"
        },
        "id": "v27jWSMmoL0H",
        "outputId": "cdf6a365-ba25-427b-a839-13ed2874f4e7"
      },
      "id": "v27jWSMmoL0H",
      "execution_count": 2,
      "outputs": [
        {
          "output_type": "stream",
          "name": "stdout",
          "text": [
            "Mounted at /content/drive\n"
          ]
        }
      ]
    },
    {
      "cell_type": "code",
      "execution_count": 4,
      "id": "aae80309",
      "metadata": {
        "colab": {
          "base_uri": "https://localhost:8080/"
        },
        "id": "aae80309",
        "outputId": "e2d90644-7849-4604-f8ef-bd0606202367"
      },
      "outputs": [
        {
          "output_type": "stream",
          "name": "stdout",
          "text": [
            "2.8.0\n"
          ]
        },
        {
          "output_type": "execute_result",
          "data": {
            "text/plain": [
              "[]"
            ]
          },
          "metadata": {},
          "execution_count": 4
        }
      ],
      "source": [
        "import keras\n",
        "import tensorflow as tf\n",
        "from tensorflow.keras import datasets, layers, models\n",
        "from keras.layers import Input, Conv2D, MaxPooling2D, Flatten, Dense, Dropout\n",
        "from tensorflow.keras.optimizers import Adam, SGD, RMSprop\n",
        "\n",
        "from IPython.display import SVG\n",
        "from keras.utils.vis_utils import model_to_dot\n",
        "\n",
        "import time\n",
        "import numpy as np\n",
        "import matplotlib.pyplot as plt\n",
        "\n",
        "print(keras.__version__)\n",
        "tf.config.list_physical_devices('GPU')"
      ]
    },
    {
      "cell_type": "markdown",
      "id": "dc4d776a",
      "metadata": {
        "id": "dc4d776a"
      },
      "source": [
        "# **2. Data Load**"
      ]
    },
    {
      "cell_type": "code",
      "execution_count": 5,
      "id": "dcf62980",
      "metadata": {
        "id": "dcf62980"
      },
      "outputs": [],
      "source": [
        "num_classes = 7   # angry, disgust, fear, happy, neutral, sad, and surprise"
      ]
    },
    {
      "cell_type": "code",
      "execution_count": 11,
      "id": "45c6b761",
      "metadata": {
        "colab": {
          "base_uri": "https://localhost:8080/"
        },
        "id": "45c6b761",
        "outputId": "5b6c60a9-7047-4700-b104-f82c30aad7a8"
      },
      "outputs": [
        {
          "output_type": "execute_result",
          "data": {
            "text/plain": [
              "array([[254., 254., 254., ...,   0.,   0.,   0.],\n",
              "       [156., 184., 198., ...,   0.,   0.,   0.],\n",
              "       [ 69., 118.,  61., ...,   1.,   0.,   0.],\n",
              "       ...,\n",
              "       [255., 255., 255., ...,   1.,   0.,   0.],\n",
              "       [ 33.,  25.,  31., ...,   1.,   0.,   0.],\n",
              "       [ 61.,  63.,  59., ...,   1.,   0.,   0.]])"
            ]
          },
          "metadata": {},
          "execution_count": 11
        }
      ],
      "source": [
        "import numpy as np\n",
        "\n",
        "train_set = np.loadtxt('fer2013_training_onehot.csv', delimiter=',') #\"D:\\CSV\\fer2013_training_onehot.csv\"\n",
        "test_set = np.loadtxt('fer2013_publictest_onehot.csv', delimiter=',') #\"D:\\CSV\\fer2013_publictest_onehot.csv\"\n",
        "\n",
        "train_set\n",
        "test_set"
      ]
    },
    {
      "cell_type": "code",
      "execution_count": 22,
      "id": "7598773f",
      "metadata": {
        "colab": {
          "base_uri": "https://localhost:8080/"
        },
        "id": "7598773f",
        "outputId": "c82dce7a-a016-4d2e-a844-763cfc85f981"
      },
      "outputs": [
        {
          "output_type": "stream",
          "name": "stdout",
          "text": [
            "(28709, 48, 48)\n",
            "(28709, 48, 48, 1)\n"
          ]
        }
      ],
      "source": [
        "n_input = 2304\n",
        "n_class = 7\n",
        "image_d = 48\n",
        "\n",
        "x_train = train_set[:, 0:n_input]\n",
        "y_train = train_set[:, n_input:n_input + n_class]\n",
        "\n",
        "x_test = test_set[:, 0:n_input]\n",
        "y_test = test_set[:, n_input:n_input + n_class]\n",
        "\n",
        "x_train = x_train.reshape(x_train.shape[0], 48, 48)\n",
        "print(x_train.shape)\n",
        "\n",
        "x_train = np.expand_dims(x_train, axis=3)\n",
        "print(x_train.shape)\n",
        "\n",
        "x_test = x_test.reshape(x_test.shape[0], 48, 48)\n",
        "x_test = np.expand_dims(x_test, axis=3)"
      ]
    },
    {
      "cell_type": "markdown",
      "id": "19f1325d",
      "metadata": {
        "id": "19f1325d"
      },
      "source": [
        "# **3. Model 생성**"
      ]
    },
    {
      "cell_type": "code",
      "execution_count": 31,
      "id": "a3864b34",
      "metadata": {
        "colab": {
          "base_uri": "https://localhost:8080/",
          "height": 566
        },
        "id": "a3864b34",
        "outputId": "332226b6-2791-4d6d-ed8c-cff07b861a22"
      },
      "outputs": [
        {
          "output_type": "stream",
          "name": "stdout",
          "text": [
            "Selecting previously unselected package libarchive-dev:amd64.\n",
            "(Reading database ... \r(Reading database ... 5%\r(Reading database ... 10%\r(Reading database ... 15%\r(Reading database ... 20%\r(Reading database ... 25%\r(Reading database ... 30%\r(Reading database ... 35%\r(Reading database ... 40%\r(Reading database ... 45%\r(Reading database ... 50%\r(Reading database ... 55%\r(Reading database ... 60%\r(Reading database ... 65%\r(Reading database ... 70%\r(Reading database ... 75%\r(Reading database ... 80%\r(Reading database ... 85%\r(Reading database ... 90%\r(Reading database ... 95%\r(Reading database ... 100%\r(Reading database ... 155637 files and directories currently installed.)\n",
            "Preparing to unpack .../libarchive-dev_3.2.2-3.1ubuntu0.7_amd64.deb ...\n",
            "Unpacking libarchive-dev:amd64 (3.2.2-3.1ubuntu0.7) ...\n",
            "Setting up libarchive-dev:amd64 (3.2.2-3.1ubuntu0.7) ...\n",
            "Processing triggers for man-db (2.8.3-2ubuntu0.1) ...\n",
            "Looking in indexes: https://pypi.org/simple, https://us-python.pkg.dev/colab-wheels/public/simple/\n",
            "Collecting libarchive\n",
            "  Downloading libarchive-0.4.7.tar.gz (23 kB)\n",
            "Collecting nose\n",
            "  Downloading nose-1.3.7-py3-none-any.whl (154 kB)\n",
            "\u001b[K     |████████████████████████████████| 154 kB 12.9 MB/s \n",
            "\u001b[?25hBuilding wheels for collected packages: libarchive\n",
            "  Building wheel for libarchive (setup.py) ... \u001b[?25l\u001b[?25hdone\n",
            "  Created wheel for libarchive: filename=libarchive-0.4.7-py3-none-any.whl size=31646 sha256=411c1939b8566df0982f5fb1e16bad22814f00ca5d719e6dfb3c9f7e5b47196c\n",
            "  Stored in directory: /root/.cache/pip/wheels/63/b1/c6/b3da79bec2012175bd43603eed98ef8548ac1733b77c1d4330\n",
            "Successfully built libarchive\n",
            "Installing collected packages: nose, libarchive\n",
            "Successfully installed libarchive-0.4.7 nose-1.3.7\n"
          ]
        },
        {
          "output_type": "error",
          "ename": "NameError",
          "evalue": "ignored",
          "traceback": [
            "\u001b[0;31m---------------------------------------------------------------------------\u001b[0m",
            "\u001b[0;31mNameError\u001b[0m                                 Traceback (most recent call last)",
            "\u001b[0;32m<ipython-input-31-fd2695660107>\u001b[0m in \u001b[0;36m<module>\u001b[0;34m()\u001b[0m\n\u001b[1;32m      2\u001b[0m \u001b[0;32mimport\u001b[0m \u001b[0mlibarchive\u001b[0m\u001b[0;34m\u001b[0m\u001b[0;34m\u001b[0m\u001b[0m\n\u001b[1;32m      3\u001b[0m \u001b[0;34m\u001b[0m\u001b[0m\n\u001b[0;32m----> 4\u001b[0;31m \u001b[0mmodel_1\u001b[0m \u001b[0;34m=\u001b[0m \u001b[0mmodels\u001b[0m\u001b[0;34m.\u001b[0m\u001b[0mSequential\u001b[0m\u001b[0;34m(\u001b[0m\u001b[0;34m)\u001b[0m\u001b[0;34m\u001b[0m\u001b[0;34m\u001b[0m\u001b[0m\n\u001b[0m\u001b[1;32m      5\u001b[0m \u001b[0mmodel_1\u001b[0m\u001b[0;34m.\u001b[0m\u001b[0madd\u001b[0m\u001b[0;34m(\u001b[0m\u001b[0mlayers\u001b[0m\u001b[0;34m.\u001b[0m\u001b[0mConv2D\u001b[0m\u001b[0;34m(\u001b[0m\u001b[0mfilters\u001b[0m\u001b[0;34m=\u001b[0m\u001b[0;36m64\u001b[0m\u001b[0;34m,\u001b[0m \u001b[0mkernel_size\u001b[0m\u001b[0;34m=\u001b[0m\u001b[0;34m(\u001b[0m\u001b[0;36m3\u001b[0m\u001b[0;34m,\u001b[0m\u001b[0;36m3\u001b[0m\u001b[0;34m)\u001b[0m\u001b[0;34m,\u001b[0m \u001b[0mpadding\u001b[0m\u001b[0;34m=\u001b[0m\u001b[0;34m'same'\u001b[0m\u001b[0;34m,\u001b[0m \u001b[0mactivation\u001b[0m\u001b[0;34m=\u001b[0m\u001b[0;34m'relu'\u001b[0m\u001b[0;34m,\u001b[0m \u001b[0mname\u001b[0m\u001b[0;34m=\u001b[0m\u001b[0;34m'conv1_1'\u001b[0m\u001b[0;34m,\u001b[0m \u001b[0minput_shape\u001b[0m\u001b[0;34m=\u001b[0m\u001b[0;34m(\u001b[0m\u001b[0;36m48\u001b[0m\u001b[0;34m,\u001b[0m\u001b[0;36m48\u001b[0m\u001b[0;34m,\u001b[0m\u001b[0;36m1\u001b[0m\u001b[0;34m)\u001b[0m\u001b[0;34m)\u001b[0m\u001b[0;34m)\u001b[0m\u001b[0;34m\u001b[0m\u001b[0;34m\u001b[0m\u001b[0m\n\u001b[1;32m      6\u001b[0m \u001b[0mmodel_1\u001b[0m\u001b[0;34m.\u001b[0m\u001b[0madd\u001b[0m\u001b[0;34m(\u001b[0m\u001b[0mlayers\u001b[0m\u001b[0;34m.\u001b[0m\u001b[0mConv2D\u001b[0m\u001b[0;34m(\u001b[0m\u001b[0mfilters\u001b[0m\u001b[0;34m=\u001b[0m\u001b[0;36m64\u001b[0m\u001b[0;34m,\u001b[0m \u001b[0mkernel_size\u001b[0m\u001b[0;34m=\u001b[0m\u001b[0;34m(\u001b[0m\u001b[0;36m3\u001b[0m\u001b[0;34m,\u001b[0m\u001b[0;36m3\u001b[0m\u001b[0;34m)\u001b[0m\u001b[0;34m,\u001b[0m \u001b[0mpadding\u001b[0m\u001b[0;34m=\u001b[0m\u001b[0;34m'valid'\u001b[0m\u001b[0;34m,\u001b[0m \u001b[0mactivation\u001b[0m\u001b[0;34m=\u001b[0m\u001b[0;34m'relu'\u001b[0m\u001b[0;34m,\u001b[0m \u001b[0mname\u001b[0m\u001b[0;34m=\u001b[0m\u001b[0;34m'conv1_2'\u001b[0m\u001b[0;34m)\u001b[0m\u001b[0;34m)\u001b[0m\u001b[0;34m\u001b[0m\u001b[0;34m\u001b[0m\u001b[0m\n",
            "\u001b[0;31mNameError\u001b[0m: name 'models' is not defined"
          ]
        }
      ],
      "source": [
        "!apt-get -qq install -y libarchive-dev && pip install -U libarchive\n",
        "import libarchive\n",
        "\n",
        "model_1 = models.Sequential()\n",
        "model_1.add(layers.Conv2D(filters=64, kernel_size=(3,3), padding='same', activation='relu', name='conv1_1', input_shape=(48,48,1)))\n",
        "model_1.add(layers.Conv2D(filters=64, kernel_size=(3,3), padding='valid', activation='relu', name='conv1_2'))\n",
        "model_1.add(layers.MaxPooling2D(pool_size=(2,2), name='pooling1'))\n",
        "model_1.add(Dropout(rate=0.5, name='conv_dropout1'))\n",
        "\n",
        "model_1.add(layers.Conv2D(filters=128, kernel_size=(3,3), padding='same', activation='relu', name='conv2_1'))\n",
        "model_1.add(layers.Conv2D(filters=128, kernel_size=(3,3), padding='valid', activation='relu', name='conv2_2'))\n",
        "model_1.add(layers.MaxPooling2D(pool_size=(2,2), name='pooling2'))\n",
        "model_1.add(Dropout(rate=0.5, name='conv_dropout2'))\n",
        "\n",
        "model_1.add(layers.Conv2D(filters=256, kernel_size=(3,3), padding='same', activation='relu', name='conv3_1'))\n",
        "model_1.add(layers.Conv2D(filters=256, kernel_size=(3,3), padding='valid', activation='relu', name='conv3_2'))\n",
        "model_1.add(layers.MaxPooling2D(pool_size=(2,2), name='pooling3'))\n",
        "model_1.add(Dropout(rate=0.5, name='conv_dropout3'))\n",
        "\n",
        "model_1.add(layers.Flatten())\n",
        "model_1.add(layers.Dense(units=2048, activation='relu', name='fc1'))\n",
        "model_1.add(layers.Dropout(rate=0.5, name='fc_dropout1'))\n",
        "model_1.add(layers.Dense(units=num_classes, activation='softmax', name='fc_softmax'))\n",
        "\n",
        "model_1.summary()"
      ]
    },
    {
      "cell_type": "code",
      "execution_count": null,
      "id": "51575be2",
      "metadata": {
        "id": "51575be2",
        "outputId": "09c06082-7677-497b-e7b3-6684d2a42c47"
      },
      "outputs": [
        {
          "data": {
            "image/svg+xml": [
              "<svg xmlns=\"http://www.w3.org/2000/svg\" xmlns:xlink=\"http://www.w3.org/1999/xlink\" width=\"181pt\" height=\"1179pt\" viewBox=\"0.00 0.00 186.00 1213.00\">\n",
              "<g id=\"graph0\" class=\"graph\" transform=\"scale(0.972222 0.972222) rotate(0) translate(4 1209)\">\n",
              "<title>G</title>\n",
              "<polygon fill=\"white\" stroke=\"none\" points=\"-4,4 -4,-1209 182,-1209 182,4 -4,4\"/>\n",
              "<!-- 2992519128208 -->\n",
              "<g id=\"node1\" class=\"node\"><title>2992519128208</title>\n",
              "<polygon fill=\"none\" stroke=\"black\" points=\"0,-1168.5 0,-1204.5 178,-1204.5 178,-1168.5 0,-1168.5\"/>\n",
              "<text text-anchor=\"middle\" x=\"50.5\" y=\"-1182.8\" font-family=\"Times New Roman,serif\" font-size=\"14.00\">conv1_1_input</text>\n",
              "<polyline fill=\"none\" stroke=\"black\" points=\"101,-1168.5 101,-1204.5 \"/>\n",
              "<text text-anchor=\"middle\" x=\"139.5\" y=\"-1182.8\" font-family=\"Times New Roman,serif\" font-size=\"14.00\">InputLayer</text>\n",
              "</g>\n",
              "<!-- 2992519128160 -->\n",
              "<g id=\"node2\" class=\"node\"><title>2992519128160</title>\n",
              "<polygon fill=\"none\" stroke=\"black\" points=\"24.5,-1095.5 24.5,-1131.5 153.5,-1131.5 153.5,-1095.5 24.5,-1095.5\"/>\n",
              "<text text-anchor=\"middle\" x=\"57\" y=\"-1109.8\" font-family=\"Times New Roman,serif\" font-size=\"14.00\">conv1_1</text>\n",
              "<polyline fill=\"none\" stroke=\"black\" points=\"89.5,-1095.5 89.5,-1131.5 \"/>\n",
              "<text text-anchor=\"middle\" x=\"121.5\" y=\"-1109.8\" font-family=\"Times New Roman,serif\" font-size=\"14.00\">Conv2D</text>\n",
              "</g>\n",
              "<!-- 2992519128208&#45;&gt;2992519128160 -->\n",
              "<g id=\"edge1\" class=\"edge\"><title>2992519128208-&gt;2992519128160</title>\n",
              "<path fill=\"none\" stroke=\"black\" d=\"M89,-1168.31C89,-1160.29 89,-1150.55 89,-1141.57\"/>\n",
              "<polygon fill=\"black\" stroke=\"black\" points=\"92.5001,-1141.53 89,-1131.53 85.5001,-1141.53 92.5001,-1141.53\"/>\n",
              "</g>\n",
              "<!-- 2992519128304 -->\n",
              "<g id=\"node3\" class=\"node\"><title>2992519128304</title>\n",
              "<polygon fill=\"none\" stroke=\"black\" points=\"24.5,-1022.5 24.5,-1058.5 153.5,-1058.5 153.5,-1022.5 24.5,-1022.5\"/>\n",
              "<text text-anchor=\"middle\" x=\"57\" y=\"-1036.8\" font-family=\"Times New Roman,serif\" font-size=\"14.00\">conv1_2</text>\n",
              "<polyline fill=\"none\" stroke=\"black\" points=\"89.5,-1022.5 89.5,-1058.5 \"/>\n",
              "<text text-anchor=\"middle\" x=\"121.5\" y=\"-1036.8\" font-family=\"Times New Roman,serif\" font-size=\"14.00\">Conv2D</text>\n",
              "</g>\n",
              "<!-- 2992519128160&#45;&gt;2992519128304 -->\n",
              "<g id=\"edge2\" class=\"edge\"><title>2992519128160-&gt;2992519128304</title>\n",
              "<path fill=\"none\" stroke=\"black\" d=\"M89,-1095.31C89,-1087.29 89,-1077.55 89,-1068.57\"/>\n",
              "<polygon fill=\"black\" stroke=\"black\" points=\"92.5001,-1068.53 89,-1058.53 85.5001,-1068.53 92.5001,-1068.53\"/>\n",
              "</g>\n",
              "<!-- 2991575265136 -->\n",
              "<g id=\"node4\" class=\"node\"><title>2991575265136</title>\n",
              "<polygon fill=\"none\" stroke=\"black\" points=\"6,-949.5 6,-985.5 172,-985.5 172,-949.5 6,-949.5\"/>\n",
              "<text text-anchor=\"middle\" x=\"38.5\" y=\"-963.8\" font-family=\"Times New Roman,serif\" font-size=\"14.00\">pooling1</text>\n",
              "<polyline fill=\"none\" stroke=\"black\" points=\"71,-949.5 71,-985.5 \"/>\n",
              "<text text-anchor=\"middle\" x=\"121.5\" y=\"-963.8\" font-family=\"Times New Roman,serif\" font-size=\"14.00\">MaxPooling2D</text>\n",
              "</g>\n",
              "<!-- 2992519128304&#45;&gt;2991575265136 -->\n",
              "<g id=\"edge3\" class=\"edge\"><title>2992519128304-&gt;2991575265136</title>\n",
              "<path fill=\"none\" stroke=\"black\" d=\"M89,-1022.31C89,-1014.29 89,-1004.55 89,-995.569\"/>\n",
              "<polygon fill=\"black\" stroke=\"black\" points=\"92.5001,-995.529 89,-985.529 85.5001,-995.529 92.5001,-995.529\"/>\n",
              "</g>\n",
              "<!-- 2992519128352 -->\n",
              "<g id=\"node5\" class=\"node\"><title>2992519128352</title>\n",
              "<polygon fill=\"none\" stroke=\"black\" points=\"5,-876.5 5,-912.5 173,-912.5 173,-876.5 5,-876.5\"/>\n",
              "<text text-anchor=\"middle\" x=\"57\" y=\"-890.8\" font-family=\"Times New Roman,serif\" font-size=\"14.00\">conv_dropout1</text>\n",
              "<polyline fill=\"none\" stroke=\"black\" points=\"109,-876.5 109,-912.5 \"/>\n",
              "<text text-anchor=\"middle\" x=\"141\" y=\"-890.8\" font-family=\"Times New Roman,serif\" font-size=\"14.00\">Dropout</text>\n",
              "</g>\n",
              "<!-- 2991575265136&#45;&gt;2992519128352 -->\n",
              "<g id=\"edge4\" class=\"edge\"><title>2991575265136-&gt;2992519128352</title>\n",
              "<path fill=\"none\" stroke=\"black\" d=\"M89,-949.313C89,-941.289 89,-931.547 89,-922.569\"/>\n",
              "<polygon fill=\"black\" stroke=\"black\" points=\"92.5001,-922.529 89,-912.529 85.5001,-922.529 92.5001,-922.529\"/>\n",
              "</g>\n",
              "<!-- 2992520245840 -->\n",
              "<g id=\"node6\" class=\"node\"><title>2992520245840</title>\n",
              "<polygon fill=\"none\" stroke=\"black\" points=\"24.5,-803.5 24.5,-839.5 153.5,-839.5 153.5,-803.5 24.5,-803.5\"/>\n",
              "<text text-anchor=\"middle\" x=\"57\" y=\"-817.8\" font-family=\"Times New Roman,serif\" font-size=\"14.00\">conv2_1</text>\n",
              "<polyline fill=\"none\" stroke=\"black\" points=\"89.5,-803.5 89.5,-839.5 \"/>\n",
              "<text text-anchor=\"middle\" x=\"121.5\" y=\"-817.8\" font-family=\"Times New Roman,serif\" font-size=\"14.00\">Conv2D</text>\n",
              "</g>\n",
              "<!-- 2992519128352&#45;&gt;2992520245840 -->\n",
              "<g id=\"edge5\" class=\"edge\"><title>2992519128352-&gt;2992520245840</title>\n",
              "<path fill=\"none\" stroke=\"black\" d=\"M89,-876.313C89,-868.289 89,-858.547 89,-849.569\"/>\n",
              "<polygon fill=\"black\" stroke=\"black\" points=\"92.5001,-849.529 89,-839.529 85.5001,-849.529 92.5001,-849.529\"/>\n",
              "</g>\n",
              "<!-- 2992520247376 -->\n",
              "<g id=\"node7\" class=\"node\"><title>2992520247376</title>\n",
              "<polygon fill=\"none\" stroke=\"black\" points=\"24.5,-730.5 24.5,-766.5 153.5,-766.5 153.5,-730.5 24.5,-730.5\"/>\n",
              "<text text-anchor=\"middle\" x=\"57\" y=\"-744.8\" font-family=\"Times New Roman,serif\" font-size=\"14.00\">conv2_2</text>\n",
              "<polyline fill=\"none\" stroke=\"black\" points=\"89.5,-730.5 89.5,-766.5 \"/>\n",
              "<text text-anchor=\"middle\" x=\"121.5\" y=\"-744.8\" font-family=\"Times New Roman,serif\" font-size=\"14.00\">Conv2D</text>\n",
              "</g>\n",
              "<!-- 2992520245840&#45;&gt;2992520247376 -->\n",
              "<g id=\"edge6\" class=\"edge\"><title>2992520245840-&gt;2992520247376</title>\n",
              "<path fill=\"none\" stroke=\"black\" d=\"M89,-803.313C89,-795.289 89,-785.547 89,-776.569\"/>\n",
              "<polygon fill=\"black\" stroke=\"black\" points=\"92.5001,-776.529 89,-766.529 85.5001,-776.529 92.5001,-776.529\"/>\n",
              "</g>\n",
              "<!-- 2992520249152 -->\n",
              "<g id=\"node8\" class=\"node\"><title>2992520249152</title>\n",
              "<polygon fill=\"none\" stroke=\"black\" points=\"6,-657.5 6,-693.5 172,-693.5 172,-657.5 6,-657.5\"/>\n",
              "<text text-anchor=\"middle\" x=\"38.5\" y=\"-671.8\" font-family=\"Times New Roman,serif\" font-size=\"14.00\">pooling2</text>\n",
              "<polyline fill=\"none\" stroke=\"black\" points=\"71,-657.5 71,-693.5 \"/>\n",
              "<text text-anchor=\"middle\" x=\"121.5\" y=\"-671.8\" font-family=\"Times New Roman,serif\" font-size=\"14.00\">MaxPooling2D</text>\n",
              "</g>\n",
              "<!-- 2992520247376&#45;&gt;2992520249152 -->\n",
              "<g id=\"edge7\" class=\"edge\"><title>2992520247376-&gt;2992520249152</title>\n",
              "<path fill=\"none\" stroke=\"black\" d=\"M89,-730.313C89,-722.289 89,-712.547 89,-703.569\"/>\n",
              "<polygon fill=\"black\" stroke=\"black\" points=\"92.5001,-703.529 89,-693.529 85.5001,-703.529 92.5001,-703.529\"/>\n",
              "</g>\n",
              "<!-- 2992520247424 -->\n",
              "<g id=\"node9\" class=\"node\"><title>2992520247424</title>\n",
              "<polygon fill=\"none\" stroke=\"black\" points=\"5,-584.5 5,-620.5 173,-620.5 173,-584.5 5,-584.5\"/>\n",
              "<text text-anchor=\"middle\" x=\"57\" y=\"-598.8\" font-family=\"Times New Roman,serif\" font-size=\"14.00\">conv_dropout2</text>\n",
              "<polyline fill=\"none\" stroke=\"black\" points=\"109,-584.5 109,-620.5 \"/>\n",
              "<text text-anchor=\"middle\" x=\"141\" y=\"-598.8\" font-family=\"Times New Roman,serif\" font-size=\"14.00\">Dropout</text>\n",
              "</g>\n",
              "<!-- 2992520249152&#45;&gt;2992520247424 -->\n",
              "<g id=\"edge8\" class=\"edge\"><title>2992520249152-&gt;2992520247424</title>\n",
              "<path fill=\"none\" stroke=\"black\" d=\"M89,-657.313C89,-649.289 89,-639.547 89,-630.569\"/>\n",
              "<polygon fill=\"black\" stroke=\"black\" points=\"92.5001,-630.529 89,-620.529 85.5001,-630.529 92.5001,-630.529\"/>\n",
              "</g>\n",
              "<!-- 2992624233248 -->\n",
              "<g id=\"node10\" class=\"node\"><title>2992624233248</title>\n",
              "<polygon fill=\"none\" stroke=\"black\" points=\"24.5,-511.5 24.5,-547.5 153.5,-547.5 153.5,-511.5 24.5,-511.5\"/>\n",
              "<text text-anchor=\"middle\" x=\"57\" y=\"-525.8\" font-family=\"Times New Roman,serif\" font-size=\"14.00\">conv3_1</text>\n",
              "<polyline fill=\"none\" stroke=\"black\" points=\"89.5,-511.5 89.5,-547.5 \"/>\n",
              "<text text-anchor=\"middle\" x=\"121.5\" y=\"-525.8\" font-family=\"Times New Roman,serif\" font-size=\"14.00\">Conv2D</text>\n",
              "</g>\n",
              "<!-- 2992520247424&#45;&gt;2992624233248 -->\n",
              "<g id=\"edge9\" class=\"edge\"><title>2992520247424-&gt;2992624233248</title>\n",
              "<path fill=\"none\" stroke=\"black\" d=\"M89,-584.313C89,-576.289 89,-566.547 89,-557.569\"/>\n",
              "<polygon fill=\"black\" stroke=\"black\" points=\"92.5001,-557.529 89,-547.529 85.5001,-557.529 92.5001,-557.529\"/>\n",
              "</g>\n",
              "<!-- 2992624289824 -->\n",
              "<g id=\"node11\" class=\"node\"><title>2992624289824</title>\n",
              "<polygon fill=\"none\" stroke=\"black\" points=\"24.5,-438.5 24.5,-474.5 153.5,-474.5 153.5,-438.5 24.5,-438.5\"/>\n",
              "<text text-anchor=\"middle\" x=\"57\" y=\"-452.8\" font-family=\"Times New Roman,serif\" font-size=\"14.00\">conv3_2</text>\n",
              "<polyline fill=\"none\" stroke=\"black\" points=\"89.5,-438.5 89.5,-474.5 \"/>\n",
              "<text text-anchor=\"middle\" x=\"121.5\" y=\"-452.8\" font-family=\"Times New Roman,serif\" font-size=\"14.00\">Conv2D</text>\n",
              "</g>\n",
              "<!-- 2992624233248&#45;&gt;2992624289824 -->\n",
              "<g id=\"edge10\" class=\"edge\"><title>2992624233248-&gt;2992624289824</title>\n",
              "<path fill=\"none\" stroke=\"black\" d=\"M89,-511.313C89,-503.289 89,-493.547 89,-484.569\"/>\n",
              "<polygon fill=\"black\" stroke=\"black\" points=\"92.5001,-484.529 89,-474.529 85.5001,-484.529 92.5001,-484.529\"/>\n",
              "</g>\n",
              "<!-- 2991575263264 -->\n",
              "<g id=\"node12\" class=\"node\"><title>2991575263264</title>\n",
              "<polygon fill=\"none\" stroke=\"black\" points=\"6,-365.5 6,-401.5 172,-401.5 172,-365.5 6,-365.5\"/>\n",
              "<text text-anchor=\"middle\" x=\"38.5\" y=\"-379.8\" font-family=\"Times New Roman,serif\" font-size=\"14.00\">pooling3</text>\n",
              "<polyline fill=\"none\" stroke=\"black\" points=\"71,-365.5 71,-401.5 \"/>\n",
              "<text text-anchor=\"middle\" x=\"121.5\" y=\"-379.8\" font-family=\"Times New Roman,serif\" font-size=\"14.00\">MaxPooling2D</text>\n",
              "</g>\n",
              "<!-- 2992624289824&#45;&gt;2991575263264 -->\n",
              "<g id=\"edge11\" class=\"edge\"><title>2992624289824-&gt;2991575263264</title>\n",
              "<path fill=\"none\" stroke=\"black\" d=\"M89,-438.313C89,-430.289 89,-420.547 89,-411.569\"/>\n",
              "<polygon fill=\"black\" stroke=\"black\" points=\"92.5001,-411.529 89,-401.529 85.5001,-411.529 92.5001,-411.529\"/>\n",
              "</g>\n",
              "<!-- 2992624288528 -->\n",
              "<g id=\"node13\" class=\"node\"><title>2992624288528</title>\n",
              "<polygon fill=\"none\" stroke=\"black\" points=\"5,-292.5 5,-328.5 173,-328.5 173,-292.5 5,-292.5\"/>\n",
              "<text text-anchor=\"middle\" x=\"57\" y=\"-306.8\" font-family=\"Times New Roman,serif\" font-size=\"14.00\">conv_dropout3</text>\n",
              "<polyline fill=\"none\" stroke=\"black\" points=\"109,-292.5 109,-328.5 \"/>\n",
              "<text text-anchor=\"middle\" x=\"141\" y=\"-306.8\" font-family=\"Times New Roman,serif\" font-size=\"14.00\">Dropout</text>\n",
              "</g>\n",
              "<!-- 2991575263264&#45;&gt;2992624288528 -->\n",
              "<g id=\"edge12\" class=\"edge\"><title>2991575263264-&gt;2992624288528</title>\n",
              "<path fill=\"none\" stroke=\"black\" d=\"M89,-365.313C89,-357.289 89,-347.547 89,-338.569\"/>\n",
              "<polygon fill=\"black\" stroke=\"black\" points=\"92.5001,-338.529 89,-328.529 85.5001,-338.529 92.5001,-338.529\"/>\n",
              "</g>\n",
              "<!-- 2992624290640 -->\n",
              "<g id=\"node14\" class=\"node\"><title>2992624290640</title>\n",
              "<polygon fill=\"none\" stroke=\"black\" points=\"37,-219.5 37,-255.5 141,-255.5 141,-219.5 37,-219.5\"/>\n",
              "<text text-anchor=\"middle\" x=\"62\" y=\"-233.8\" font-family=\"Times New Roman,serif\" font-size=\"14.00\">flatten</text>\n",
              "<polyline fill=\"none\" stroke=\"black\" points=\"87,-219.5 87,-255.5 \"/>\n",
              "<text text-anchor=\"middle\" x=\"114\" y=\"-233.8\" font-family=\"Times New Roman,serif\" font-size=\"14.00\">Flatten</text>\n",
              "</g>\n",
              "<!-- 2992624288528&#45;&gt;2992624290640 -->\n",
              "<g id=\"edge13\" class=\"edge\"><title>2992624288528-&gt;2992624290640</title>\n",
              "<path fill=\"none\" stroke=\"black\" d=\"M89,-292.313C89,-284.289 89,-274.547 89,-265.569\"/>\n",
              "<polygon fill=\"black\" stroke=\"black\" points=\"92.5001,-265.529 89,-255.529 85.5001,-265.529 92.5001,-265.529\"/>\n",
              "</g>\n",
              "<!-- 2992624176624 -->\n",
              "<g id=\"node15\" class=\"node\"><title>2992624176624</title>\n",
              "<polygon fill=\"none\" stroke=\"black\" points=\"46,-146.5 46,-182.5 132,-182.5 132,-146.5 46,-146.5\"/>\n",
              "<text text-anchor=\"middle\" x=\"63.5\" y=\"-160.8\" font-family=\"Times New Roman,serif\" font-size=\"14.00\">fc1</text>\n",
              "<polyline fill=\"none\" stroke=\"black\" points=\"81,-146.5 81,-182.5 \"/>\n",
              "<text text-anchor=\"middle\" x=\"106.5\" y=\"-160.8\" font-family=\"Times New Roman,serif\" font-size=\"14.00\">Dense</text>\n",
              "</g>\n",
              "<!-- 2992624290640&#45;&gt;2992624176624 -->\n",
              "<g id=\"edge14\" class=\"edge\"><title>2992624290640-&gt;2992624176624</title>\n",
              "<path fill=\"none\" stroke=\"black\" d=\"M89,-219.313C89,-211.289 89,-201.547 89,-192.569\"/>\n",
              "<polygon fill=\"black\" stroke=\"black\" points=\"92.5001,-192.529 89,-182.529 85.5001,-192.529 92.5001,-192.529\"/>\n",
              "</g>\n",
              "<!-- 2992624176816 -->\n",
              "<g id=\"node16\" class=\"node\"><title>2992624176816</title>\n",
              "<polygon fill=\"none\" stroke=\"black\" points=\"13.5,-73.5 13.5,-109.5 164.5,-109.5 164.5,-73.5 13.5,-73.5\"/>\n",
              "<text text-anchor=\"middle\" x=\"57\" y=\"-87.8\" font-family=\"Times New Roman,serif\" font-size=\"14.00\">fc_dropout1</text>\n",
              "<polyline fill=\"none\" stroke=\"black\" points=\"100.5,-73.5 100.5,-109.5 \"/>\n",
              "<text text-anchor=\"middle\" x=\"132.5\" y=\"-87.8\" font-family=\"Times New Roman,serif\" font-size=\"14.00\">Dropout</text>\n",
              "</g>\n",
              "<!-- 2992624176624&#45;&gt;2992624176816 -->\n",
              "<g id=\"edge15\" class=\"edge\"><title>2992624176624-&gt;2992624176816</title>\n",
              "<path fill=\"none\" stroke=\"black\" d=\"M89,-146.313C89,-138.289 89,-128.547 89,-119.569\"/>\n",
              "<polygon fill=\"black\" stroke=\"black\" points=\"92.5001,-119.529 89,-109.529 85.5001,-119.529 92.5001,-119.529\"/>\n",
              "</g>\n",
              "<!-- 2992624176768 -->\n",
              "<g id=\"node17\" class=\"node\"><title>2992624176768</title>\n",
              "<polygon fill=\"none\" stroke=\"black\" points=\"23.5,-0.5 23.5,-36.5 154.5,-36.5 154.5,-0.5 23.5,-0.5\"/>\n",
              "<text text-anchor=\"middle\" x=\"63.5\" y=\"-14.8\" font-family=\"Times New Roman,serif\" font-size=\"14.00\">fc_softmax</text>\n",
              "<polyline fill=\"none\" stroke=\"black\" points=\"103.5,-0.5 103.5,-36.5 \"/>\n",
              "<text text-anchor=\"middle\" x=\"129\" y=\"-14.8\" font-family=\"Times New Roman,serif\" font-size=\"14.00\">Dense</text>\n",
              "</g>\n",
              "<!-- 2992624176816&#45;&gt;2992624176768 -->\n",
              "<g id=\"edge16\" class=\"edge\"><title>2992624176816-&gt;2992624176768</title>\n",
              "<path fill=\"none\" stroke=\"black\" d=\"M89,-73.3129C89,-65.2895 89,-55.5475 89,-46.5691\"/>\n",
              "<polygon fill=\"black\" stroke=\"black\" points=\"92.5001,-46.5288 89,-36.5288 85.5001,-46.5289 92.5001,-46.5288\"/>\n",
              "</g>\n",
              "</g>\n",
              "</svg>"
            ],
            "text/plain": [
              "<IPython.core.display.SVG object>"
            ]
          },
          "execution_count": 6,
          "metadata": {},
          "output_type": "execute_result"
        }
      ],
      "source": [
        "SVG(model_to_dot(model_1, dpi=70).create(prog='dot', format='svg'))"
      ]
    },
    {
      "cell_type": "markdown",
      "id": "dcf3172a",
      "metadata": {
        "id": "dcf3172a"
      },
      "source": [
        "# **4. Model Train**"
      ]
    },
    {
      "cell_type": "code",
      "execution_count": 24,
      "id": "e8935d31",
      "metadata": {
        "scrolled": false,
        "colab": {
          "base_uri": "https://localhost:8080/",
          "height": 236
        },
        "id": "e8935d31",
        "outputId": "70e2b5ad-c474-4d2f-90a2-a9c59493831d"
      },
      "outputs": [
        {
          "output_type": "error",
          "ename": "NameError",
          "evalue": "ignored",
          "traceback": [
            "\u001b[0;31m---------------------------------------------------------------------------\u001b[0m",
            "\u001b[0;31mNameError\u001b[0m                                 Traceback (most recent call last)",
            "\u001b[0;32m<ipython-input-24-993e980d74e4>\u001b[0m in \u001b[0;36m<module>\u001b[0;34m()\u001b[0m\n\u001b[1;32m      1\u001b[0m \u001b[0mloss\u001b[0m \u001b[0;34m=\u001b[0m \u001b[0;34m'categorical_crossentropy'\u001b[0m\u001b[0;34m\u001b[0m\u001b[0;34m\u001b[0m\u001b[0m\n\u001b[1;32m      2\u001b[0m \u001b[0mlr\u001b[0m \u001b[0;34m=\u001b[0m \u001b[0;36m0.0001\u001b[0m\u001b[0;34m\u001b[0m\u001b[0;34m\u001b[0m\u001b[0m\n\u001b[0;32m----> 3\u001b[0;31m \u001b[0mmodel_1\u001b[0m\u001b[0;34m.\u001b[0m\u001b[0mcompile\u001b[0m\u001b[0;34m(\u001b[0m\u001b[0mloss\u001b[0m\u001b[0;34m=\u001b[0m\u001b[0mloss\u001b[0m\u001b[0;34m,\u001b[0m \u001b[0moptimizer\u001b[0m\u001b[0;34m=\u001b[0m\u001b[0mAdam\u001b[0m\u001b[0;34m(\u001b[0m\u001b[0mlearning_rate\u001b[0m\u001b[0;34m=\u001b[0m\u001b[0mlr\u001b[0m\u001b[0;34m)\u001b[0m\u001b[0;34m,\u001b[0m \u001b[0mmetrics\u001b[0m\u001b[0;34m=\u001b[0m\u001b[0;34m[\u001b[0m\u001b[0;34m'accuracy'\u001b[0m\u001b[0;34m]\u001b[0m\u001b[0;34m)\u001b[0m\u001b[0;34m\u001b[0m\u001b[0;34m\u001b[0m\u001b[0m\n\u001b[0m\u001b[1;32m      4\u001b[0m \u001b[0;34m\u001b[0m\u001b[0m\n\u001b[1;32m      5\u001b[0m \u001b[0mbatch\u001b[0m \u001b[0;34m=\u001b[0m \u001b[0;36m128\u001b[0m\u001b[0;34m\u001b[0m\u001b[0;34m\u001b[0m\u001b[0m\n",
            "\u001b[0;31mNameError\u001b[0m: name 'model_1' is not defined"
          ]
        }
      ],
      "source": [
        "loss = 'categorical_crossentropy'\n",
        "lr = 0.0001\n",
        "model_1.compile(loss=loss, optimizer=Adam(learning_rate=lr), metrics=['accuracy'])\n",
        "\n",
        "batch = 128\n",
        "epoch = 30\n",
        "\n",
        "starting_time = time.time()\n",
        "history = model_1.fit(x_train, y_train, validation_data = (x_test, y_test), batch_size = batch, epochs=epoch)\n",
        "print('> training time is %.4f minutes' % ((time.time() - starting_time)/60))"
      ]
    },
    {
      "cell_type": "markdown",
      "id": "515cbd32",
      "metadata": {
        "id": "515cbd32"
      },
      "source": [
        "# **5. Model 평가**"
      ]
    },
    {
      "cell_type": "code",
      "execution_count": null,
      "id": "e5c543c6",
      "metadata": {
        "id": "e5c543c6",
        "outputId": "02f8dfc6-1dba-48dc-8a12-2867f61a8c83"
      },
      "outputs": [
        {
          "name": "stdout",
          "output_type": "stream",
          "text": [
            "113/113 [==============================] - 1s 5ms/step - loss: 1.1362 - accuracy: 0.5706\n",
            "Test loss: 1.1361637115478516\n",
            "Test accuracy: 0.5706325173377991\n"
          ]
        }
      ],
      "source": [
        "score = model_1.evaluate(x_test, y_test)\n",
        "print('Test loss:', score[0])\n",
        "print('Test accuracy:', score[1])"
      ]
    },
    {
      "cell_type": "code",
      "execution_count": null,
      "id": "0e8626e9",
      "metadata": {
        "id": "0e8626e9",
        "outputId": "8bcc11c4-2d2b-4e0e-ba03-4312167b8c31"
      },
      "outputs": [
        {
          "data": {
            "image/png": "[encoded data removed]",
            "text/plain": [
              "<Figure size 432x288 with 2 Axes>"
            ]
          },
          "metadata": {
            "needs_background": "light"
          },
          "output_type": "display_data"
        }
      ],
      "source": [
        "import matplotlib.pyplot as plt\n",
        "\n",
        "fig, loss_ax = plt.subplots()\n",
        "acc_ax = loss_ax.twinx()\n",
        "\n",
        "loss_ax.plot(history.history['loss'], 'y', label='train loss')\n",
        "loss_ax.plot(history.history['val_loss'], 'r', label='val loss')\n",
        "loss_ax.set_xlabel('epoch')\n",
        "loss_ax.set_ylabel('loss')\n",
        "loss_ax.legend(loc='upper left')\n",
        "\n",
        "acc_ax.plot(history.history['accuracy'], 'b', label='train acc')\n",
        "acc_ax.plot(history.history['val_accuracy'], 'g', label='val acc')\n",
        "acc_ax.set_ylabel('accuracy')\n",
        "acc_ax.legend(loc='upper left')\n",
        "\n",
        "plt.show()"
      ]
    },
    {
      "cell_type": "code",
      "execution_count": null,
      "id": "97ff61bb",
      "metadata": {
        "id": "97ff61bb"
      },
      "outputs": [],
      "source": [
        "def get_emotion(ohv):\n",
        "    indx = np.argmax(ohv)\n",
        "        \n",
        "    if indx == 0:\n",
        "        return 'angry'\n",
        "    elif indx == 1:\n",
        "        return 'disgust'\n",
        "    elif indx == 2:\n",
        "        return 'fear'\n",
        "    elif indx == 3:\n",
        "        return 'happy'\n",
        "    elif indx == 4:\n",
        "        return 'sad'\n",
        "    elif indx == 5:\n",
        "        return 'surprise'\n",
        "    elif indx == 6:\n",
        "        return 'neutral'"
      ]
    },
    {
      "cell_type": "code",
      "execution_count": null,
      "id": "4e26c704",
      "metadata": {
        "id": "4e26c704",
        "outputId": "4af10c38-c352-4f8e-f79b-71ee63badf7f"
      },
      "outputs": [
        {
          "name": "stdout",
          "output_type": "stream",
          "text": [
            "1/1 [==============================] - 0s 171ms/step\n"
          ]
        },
        {
          "data": {
            "image/png": "[encoded data removed]",
            "text/plain": [
              "<Figure size 432x288 with 1 Axes>"
            ]
          },
          "metadata": {
            "needs_background": "light"
          },
          "output_type": "display_data"
        },
        {
          "name": "stdout",
          "output_type": "stream",
          "text": [
            "> testing image index: 3576\n",
            "> true emotion: neutral\n",
            "> predicted emotion: neutral\n"
          ]
        }
      ],
      "source": [
        "# 2163\n",
        "img_indx = np.uint32(np.random.rand()*(test_set.shape[0] - 1))\n",
        "sample = x_test[img_indx, :]\n",
        "sample = sample.reshape(48, 48)\n",
        "\n",
        "pred_cls = model_1.predict(sample.reshape(1, 48, 48, 1))\n",
        "\n",
        "plt.imshow(sample, cmap='gray')\n",
        "plt.show()\n",
        "print('> testing image index: %d\\n> true emotion: %s\\n> predicted emotion: %s' % (img_indx, get_emotion(y_test[img_indx, :]), get_emotion(pred_cls)))"
      ]
    },
    {
      "cell_type": "code",
      "execution_count": null,
      "id": "1c27bbc2",
      "metadata": {
        "id": "1c27bbc2",
        "outputId": "0b94a11a-5eaa-4198-d82f-c4450836f2e8"
      },
      "outputs": [
        {
          "data": {
            "text/plain": [
              "['conv1_1',\n",
              " 'conv1_2',\n",
              " 'pooling1',\n",
              " 'conv_dropout1',\n",
              " 'conv2_1',\n",
              " 'conv2_2',\n",
              " 'pooling2',\n",
              " 'conv_dropout2',\n",
              " 'conv3_1',\n",
              " 'conv3_2',\n",
              " 'pooling3',\n",
              " 'conv_dropout3',\n",
              " 'flatten',\n",
              " 'fc1',\n",
              " 'fc_dropout1',\n",
              " 'fc_softmax']"
            ]
          },
          "execution_count": 12,
          "metadata": {},
          "output_type": "execute_result"
        }
      ],
      "source": [
        "layer_names = [layer.name for layer in model_1.layers]\n",
        "layer_names"
      ]
    },
    {
      "cell_type": "code",
      "execution_count": null,
      "id": "f0d5cf31",
      "metadata": {
        "id": "f0d5cf31",
        "outputId": "29ddc7b0-0dd2-4ca1-a4ba-1ee28afaf5ef"
      },
      "outputs": [
        {
          "data": {
            "text/plain": [
              "[<keras.layers.convolutional.conv2d.Conv2D at 0x2b8c00a2460>,\n",
              " <keras.layers.convolutional.conv2d.Conv2D at 0x2b8c00a24f0>,\n",
              " <keras.layers.pooling.max_pooling2d.MaxPooling2D at 0x2b887c7ef70>,\n",
              " <keras.layers.regularization.dropout.Dropout at 0x2b8c00a2520>,\n",
              " <keras.layers.convolutional.conv2d.Conv2D at 0x2b8c01b3250>,\n",
              " <keras.layers.convolutional.conv2d.Conv2D at 0x2b8c01b3850>,\n",
              " <keras.layers.pooling.max_pooling2d.MaxPooling2D at 0x2b8c01b3f40>,\n",
              " <keras.layers.regularization.dropout.Dropout at 0x2b8c01b3880>,\n",
              " <keras.layers.convolutional.conv2d.Conv2D at 0x2b8c64deb20>,\n",
              " <keras.layers.convolutional.conv2d.Conv2D at 0x2b8c64ec820>,\n",
              " <keras.layers.pooling.max_pooling2d.MaxPooling2D at 0x2b887c7e820>,\n",
              " <keras.layers.regularization.dropout.Dropout at 0x2b8c64ec310>,\n",
              " <keras.layers.reshaping.flatten.Flatten at 0x2b8c64ecb50>,\n",
              " <keras.layers.core.dense.Dense at 0x2b8c64d0df0>,\n",
              " <keras.layers.regularization.dropout.Dropout at 0x2b8c64d0eb0>,\n",
              " <keras.layers.core.dense.Dense at 0x2b8c64d0e80>]"
            ]
          },
          "execution_count": 13,
          "metadata": {},
          "output_type": "execute_result"
        }
      ],
      "source": [
        "model_1.layers"
      ]
    },
    {
      "cell_type": "code",
      "execution_count": null,
      "id": "40316ad8",
      "metadata": {
        "id": "40316ad8"
      },
      "outputs": [],
      "source": [
        "layer_outputs = [layer.output for layer in model_1.layers]"
      ]
    },
    {
      "cell_type": "code",
      "execution_count": null,
      "id": "cad0083c",
      "metadata": {
        "id": "cad0083c"
      },
      "outputs": [],
      "source": [
        "feature_map_model = tf.keras.models.Model(model_1.input, layer_outputs)"
      ]
    },
    {
      "cell_type": "code",
      "execution_count": null,
      "id": "6f91b550",
      "metadata": {
        "id": "6f91b550",
        "outputId": "60a36957-f13e-49b1-a38d-cd1680217afc"
      },
      "outputs": [
        {
          "name": "stdout",
          "output_type": "stream",
          "text": [
            "1/1 [==============================] - 0s 65ms/step\n"
          ]
        }
      ],
      "source": [
        "feature_maps = feature_map_model.predict(sample.reshape(1, 48, 48, 1))"
      ]
    },
    {
      "cell_type": "code",
      "execution_count": null,
      "id": "40e480c5",
      "metadata": {
        "id": "40e480c5",
        "outputId": "23c959fe-4ae7-40e9-9b30-53bb3f2b95d8"
      },
      "outputs": [
        {
          "name": "stdout",
          "output_type": "stream",
          "text": [
            "The shape of the conv1_1 is =======>> (1, 48, 48, 64)\n",
            "The shape of the conv1_2 is =======>> (1, 46, 46, 64)\n",
            "The shape of the pooling1 is =======>> (1, 23, 23, 64)\n",
            "The shape of the conv_dropout1 is =======>> (1, 23, 23, 64)\n",
            "The shape of the conv2_1 is =======>> (1, 23, 23, 128)\n",
            "The shape of the conv2_2 is =======>> (1, 21, 21, 128)\n",
            "The shape of the pooling2 is =======>> (1, 10, 10, 128)\n",
            "The shape of the conv_dropout2 is =======>> (1, 10, 10, 128)\n",
            "The shape of the conv3_1 is =======>> (1, 10, 10, 256)\n",
            "The shape of the conv3_2 is =======>> (1, 8, 8, 256)\n",
            "The shape of the pooling3 is =======>> (1, 4, 4, 256)\n",
            "The shape of the conv_dropout3 is =======>> (1, 4, 4, 256)\n",
            "The shape of the flatten is =======>> (1, 4096)\n",
            "The shape of the fc1 is =======>> (1, 2048)\n",
            "The shape of the fc_dropout1 is =======>> (1, 2048)\n",
            "The shape of the fc_softmax is =======>> (1, 7)\n"
          ]
        }
      ],
      "source": [
        "for layer_name, feature_map in zip(layer_names, feature_maps):print(f\"The shape of the {layer_name} is =======>> {feature_map.shape}\")"
      ]
    },
    {
      "cell_type": "code",
      "execution_count": null,
      "id": "a4eee450",
      "metadata": {
        "id": "a4eee450",
        "outputId": "073c63cc-8200-4a26-c98f-f8579242720f"
      },
      "outputs": [
        {
          "ename": "NameError",
          "evalue": "name 'image_belt' is not defined",
          "output_type": "error",
          "traceback": [
            "\u001b[1;31m---------------------------------------------------------------------------\u001b[0m",
            "\u001b[1;31mNameError\u001b[0m                                 Traceback (most recent call last)",
            "Input \u001b[1;32mIn [21]\u001b[0m, in \u001b[0;36m<cell line: 1>\u001b[1;34m()\u001b[0m\n\u001b[0;32m     10\u001b[0m feature_image\u001b[38;5;241m+\u001b[39m\u001b[38;5;241m=\u001b[39m \u001b[38;5;241m128\u001b[39m\n\u001b[0;32m     11\u001b[0m feature_image\u001b[38;5;241m=\u001b[39m np\u001b[38;5;241m.\u001b[39mclip(img_indx, \u001b[38;5;241m0\u001b[39m, \u001b[38;5;241m255\u001b[39m)\u001b[38;5;241m.\u001b[39mastype(\u001b[38;5;124m'\u001b[39m\u001b[38;5;124muint8\u001b[39m\u001b[38;5;124m'\u001b[39m)\n\u001b[1;32m---> 12\u001b[0m \u001b[43mimage_belt\u001b[49m[:, i \u001b[38;5;241m*\u001b[39m size : (i \u001b[38;5;241m+\u001b[39m \u001b[38;5;241m1\u001b[39m) \u001b[38;5;241m*\u001b[39m size] \u001b[38;5;241m=\u001b[39m feature_image\n",
            "\u001b[1;31mNameError\u001b[0m: name 'image_belt' is not defined"
          ]
        }
      ],
      "source": [
        "for layer_name, feature_map in zip(layer_names, feature_maps):\n",
        "    if len(feature_map.shape) == 4:\n",
        "        k = feature_map.shape[-1]  \n",
        "        size=feature_map.shape[1]\n",
        "        for i in range(k):\n",
        "            feature_image = feature_map[0, :, :, i]\n",
        "            feature_image-= feature_image.mean()\n",
        "            feature_image/= feature_image.std ()\n",
        "            feature_image*=  64\n",
        "            feature_image+= 128\n",
        "            feature_image= np.clip(img_indx, 0, 255).astype('uint8')\n",
        "            image_belt[:, i * size : (i + 1) * size] = feature_image    "
      ]
    },
    {
      "cell_type": "code",
      "execution_count": 34,
      "id": "cbd8c87b",
      "metadata": {
        "colab": {
          "base_uri": "https://localhost:8080/"
        },
        "id": "cbd8c87b",
        "outputId": "e9a22641-8773-4fbf-d733-b6d9bc14395d"
      },
      "outputs": [
        {
          "output_type": "stream",
          "name": "stdout",
          "text": [
            "Looking in indexes: https://pypi.org/simple, https://us-python.pkg.dev/colab-wheels/public/simple/\n",
            "Requirement already satisfied: matplotlib-venn in /usr/local/lib/python3.7/dist-packages (0.11.7)\n",
            "Requirement already satisfied: scipy in /usr/local/lib/python3.7/dist-packages (from matplotlib-venn) (1.4.1)\n",
            "Requirement already satisfied: matplotlib in /usr/local/lib/python3.7/dist-packages (from matplotlib-venn) (3.2.2)\n",
            "Requirement already satisfied: numpy in /usr/local/lib/python3.7/dist-packages (from matplotlib-venn) (1.21.6)\n",
            "Requirement already satisfied: pyparsing!=2.0.4,!=2.1.2,!=2.1.6,>=2.0.1 in /usr/local/lib/python3.7/dist-packages (from matplotlib->matplotlib-venn) (3.0.9)\n",
            "Requirement already satisfied: cycler>=0.10 in /usr/local/lib/python3.7/dist-packages (from matplotlib->matplotlib-venn) (0.11.0)\n",
            "Requirement already satisfied: kiwisolver>=1.0.1 in /usr/local/lib/python3.7/dist-packages (from matplotlib->matplotlib-venn) (1.4.2)\n",
            "Requirement already satisfied: python-dateutil>=2.1 in /usr/local/lib/python3.7/dist-packages (from matplotlib->matplotlib-venn) (2.8.2)\n",
            "Requirement already satisfied: typing-extensions in /usr/local/lib/python3.7/dist-packages (from kiwisolver>=1.0.1->matplotlib->matplotlib-venn) (4.2.0)\n",
            "Requirement already satisfied: six>=1.5 in /usr/local/lib/python3.7/dist-packages (from python-dateutil>=2.1->matplotlib->matplotlib-venn) (1.15.0)\n",
            "Looking in indexes: https://pypi.org/simple, https://us-python.pkg.dev/colab-wheels/public/simple/\n",
            "Requirement already satisfied: libarchive in /usr/local/lib/python3.7/dist-packages (0.4.7)\n",
            "Requirement already satisfied: nose in /usr/local/lib/python3.7/dist-packages (from libarchive) (1.3.7)\n",
            "Looking in indexes: https://pypi.org/simple, https://us-python.pkg.dev/colab-wheels/public/simple/\n",
            "Requirement already satisfied: pydot in /usr/local/lib/python3.7/dist-packages (1.3.0)\n",
            "Requirement already satisfied: pyparsing>=2.1.4 in /usr/local/lib/python3.7/dist-packages (from pydot) (3.0.9)\n",
            "Looking in indexes: https://pypi.org/simple, https://us-python.pkg.dev/colab-wheels/public/simple/\n",
            "Collecting cartopy\n",
            "  Downloading Cartopy-0.20.2.tar.gz (10.8 MB)\n",
            "\u001b[K     |████████████████████████████████| 10.8 MB 5.9 MB/s \n",
            "\u001b[?25h  Installing build dependencies ... \u001b[?25l\u001b[?25hdone\n",
            "  Getting requirements to build wheel ... \u001b[?25l\u001b[?25herror\n",
            "\u001b[33mWARNING: Discarding https://files.pythonhosted.org/packages/f6/55/1e1c737dc9436b320deead73d1c455ddbb74b8b6992081863492f6f6378a/Cartopy-0.20.2.tar.gz#sha256=4d08c198ecaa50a6a6b109d0f14c070e813defc046a83ac5d7ab494f85599e35 (from https://pypi.org/simple/cartopy/) (requires-python:>=3.7). Command errored out with exit status 1: /usr/bin/python3 /usr/local/lib/python3.7/dist-packages/pip/_vendor/pep517/in_process/_in_process.py get_requires_for_build_wheel /tmp/tmpn84a6b3v Check the logs for full command output.\u001b[0m\n",
            "  Downloading Cartopy-0.20.1.tar.gz (10.8 MB)\n",
            "\u001b[K     |████████████████████████████████| 10.8 MB 30.1 MB/s \n",
            "\u001b[?25h  Installing build dependencies ... \u001b[?25l\u001b[?25hdone\n",
            "  Getting requirements to build wheel ... \u001b[?25l\u001b[?25herror\n",
            "\u001b[33mWARNING: Discarding https://files.pythonhosted.org/packages/fc/59/aa52698e3838f4cd0e7eaa75bd86837e9e0b05041dbdaee3cda2fffced06/Cartopy-0.20.1.tar.gz#sha256=91f87b130e2574547a20cd634498df97d797abd12dcfd0235bc0cdbcec8b05e3 (from https://pypi.org/simple/cartopy/) (requires-python:>=3.7). Command errored out with exit status 1: /usr/bin/python3 /usr/local/lib/python3.7/dist-packages/pip/_vendor/pep517/in_process/_in_process.py get_requires_for_build_wheel /tmp/tmp5ju0x_ly Check the logs for full command output.\u001b[0m\n",
            "  Downloading Cartopy-0.20.0.tar.gz (10.8 MB)\n",
            "\u001b[K     |████████████████████████████████| 10.8 MB 26.4 MB/s \n",
            "\u001b[?25h  Installing build dependencies ... \u001b[?25l\u001b[?25hdone\n",
            "  Getting requirements to build wheel ... \u001b[?25l\u001b[?25herror\n",
            "\u001b[33mWARNING: Discarding https://files.pythonhosted.org/packages/0f/c0/58453b036e79046d211f083880d58dcce787e7e07647ac25dc46c6555099/Cartopy-0.20.0.tar.gz#sha256=eae58aff26806e63cf115b2bce9477cedc4aa9f578c5e477b2c25cfa404f2b7a (from https://pypi.org/simple/cartopy/) (requires-python:>=3.7). Command errored out with exit status 1: /usr/bin/python3 /usr/local/lib/python3.7/dist-packages/pip/_vendor/pep517/in_process/_in_process.py get_requires_for_build_wheel /tmp/tmpengbkzjr Check the logs for full command output.\u001b[0m\n",
            "  Downloading Cartopy-0.19.0.post1.tar.gz (12.1 MB)\n",
            "\u001b[K     |████████████████████████████████| 12.1 MB 21.2 MB/s \n",
            "\u001b[?25h  Installing build dependencies ... \u001b[?25l\u001b[?25hdone\n",
            "  Getting requirements to build wheel ... \u001b[?25l\u001b[?25hdone\n",
            "    Preparing wheel metadata ... \u001b[?25l\u001b[?25hdone\n",
            "Collecting pyshp>=2\n",
            "  Downloading pyshp-2.3.0-py2.py3-none-any.whl (46 kB)\n",
            "\u001b[K     |████████████████████████████████| 46 kB 4.4 MB/s \n",
            "\u001b[?25hRequirement already satisfied: shapely>=1.5.6 in /usr/local/lib/python3.7/dist-packages (from cartopy) (1.8.2)\n",
            "Requirement already satisfied: numpy>=1.13.3 in /usr/local/lib/python3.7/dist-packages (from cartopy) (1.21.6)\n",
            "Building wheels for collected packages: cartopy\n",
            "  Building wheel for cartopy (PEP 517) ... \u001b[?25l\u001b[?25hdone\n",
            "  Created wheel for cartopy: filename=Cartopy-0.19.0.post1-cp37-cp37m-linux_x86_64.whl size=12516299 sha256=8b7f3db415ecd46c376995ed8cf4d2c38424746278a56005c1c6ed0cb893ee58\n",
            "  Stored in directory: /root/.cache/pip/wheels/98/01/f7/bd10aeb96fe4b518cde5f7c4f5e12c7202f85b7353a5017847\n",
            "Successfully built cartopy\n",
            "Installing collected packages: pyshp, cartopy\n",
            "Successfully installed cartopy-0.19.0.post1 pyshp-2.3.0\n"
          ]
        }
      ],
      "source": [
        "!pip install matplotlib-venn\n",
        "!apt-get -qq install -y libfluidsynth1\n",
        "!apt-get -qq install -y libarchive-dev && pip install -U libarchive\n",
        "import libarchive\n",
        "!apt-get -qq install -y graphviz && pip install pydot\n",
        "import pydot\n",
        "!pip install cartopy\n",
        "import cartopy"
      ]
    },
    {
      "cell_type": "code",
      "source": [
        ""
      ],
      "metadata": {
        "colab": {
          "base_uri": "https://localhost:8080/",
          "height": 132
        },
        "id": "YPBfx8Rx2m9p",
        "outputId": "ffc4d100-4f14-4359-c169-b8018accf403"
      },
      "id": "YPBfx8Rx2m9p",
      "execution_count": 33,
      "outputs": [
        {
          "output_type": "error",
          "ename": "SyntaxError",
          "evalue": "ignored",
          "traceback": [
            "\u001b[0;36m  File \u001b[0;32m\"<ipython-input-33-59503fd67d35>\"\u001b[0;36m, line \u001b[0;32m1\u001b[0m\n\u001b[0;31m    apt-get -qq install -y libfluidsynth1\u001b[0m\n\u001b[0m                      ^\u001b[0m\n\u001b[0;31mSyntaxError\u001b[0m\u001b[0;31m:\u001b[0m invalid syntax\n"
          ]
        }
      ]
    },
    {
      "cell_type": "code",
      "source": [
        ""
      ],
      "metadata": {
        "id": "7lbG8MO42pTw"
      },
      "id": "7lbG8MO42pTw",
      "execution_count": null,
      "outputs": []
    }
  ],
  "metadata": {
    "kernelspec": {
      "display_name": "hw",
      "language": "python",
      "name": "hw"
    },
    "language_info": {
      "codemirror_mode": {
        "name": "ipython",
        "version": 3
      },
      "file_extension": ".py",
      "mimetype": "text/x-python",
      "name": "python",
      "nbconvert_exporter": "python",
      "pygments_lexer": "ipython3",
      "version": "3.8.13"
    },
    "colab": {
      "name": "인공지능 기말#12 06/09(목)[1]",
      "provenance": [],
      "collapsed_sections": [],
      "include_colab_link": true
    },
    "accelerator": "GPU"
  },
  "nbformat": 4,
  "nbformat_minor": 5
}